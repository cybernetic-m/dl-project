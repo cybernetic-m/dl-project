{
  "cells": [
    {
      "cell_type": "code",
      "source": [
        "!pip install pytorch_lightning"
      ],
      "metadata": {
        "colab": {
          "base_uri": "https://localhost:8080/"
        },
        "id": "OXefn4NEENvD",
        "outputId": "da6c88a7-6325-4ee5-8c6c-c646ed539adf"
      },
      "execution_count": 60,
      "outputs": [
        {
          "output_type": "stream",
          "name": "stdout",
          "text": [
            "Collecting pytorch_lightning\n",
            "  Downloading pytorch_lightning-2.4.0-py3-none-any.whl.metadata (21 kB)\n",
            "Requirement already satisfied: torch>=2.1.0 in /usr/local/lib/python3.10/dist-packages (from pytorch_lightning) (2.5.1+cu121)\n",
            "Requirement already satisfied: tqdm>=4.57.0 in /usr/local/lib/python3.10/dist-packages (from pytorch_lightning) (4.66.6)\n",
            "Requirement already satisfied: PyYAML>=5.4 in /usr/local/lib/python3.10/dist-packages (from pytorch_lightning) (6.0.2)\n",
            "Requirement already satisfied: fsspec>=2022.5.0 in /usr/local/lib/python3.10/dist-packages (from fsspec[http]>=2022.5.0->pytorch_lightning) (2024.10.0)\n",
            "Collecting torchmetrics>=0.7.0 (from pytorch_lightning)\n",
            "  Downloading torchmetrics-1.6.0-py3-none-any.whl.metadata (20 kB)\n",
            "Requirement already satisfied: packaging>=20.0 in /usr/local/lib/python3.10/dist-packages (from pytorch_lightning) (24.2)\n",
            "Requirement already satisfied: typing-extensions>=4.4.0 in /usr/local/lib/python3.10/dist-packages (from pytorch_lightning) (4.12.2)\n",
            "Collecting lightning-utilities>=0.10.0 (from pytorch_lightning)\n",
            "  Downloading lightning_utilities-0.11.8-py3-none-any.whl.metadata (5.2 kB)\n",
            "Requirement already satisfied: aiohttp!=4.0.0a0,!=4.0.0a1 in /usr/local/lib/python3.10/dist-packages (from fsspec[http]>=2022.5.0->pytorch_lightning) (3.10.10)\n",
            "Requirement already satisfied: setuptools in /usr/local/lib/python3.10/dist-packages (from lightning-utilities>=0.10.0->pytorch_lightning) (75.1.0)\n",
            "Requirement already satisfied: filelock in /usr/local/lib/python3.10/dist-packages (from torch>=2.1.0->pytorch_lightning) (3.16.1)\n",
            "Requirement already satisfied: networkx in /usr/local/lib/python3.10/dist-packages (from torch>=2.1.0->pytorch_lightning) (3.4.2)\n",
            "Requirement already satisfied: jinja2 in /usr/local/lib/python3.10/dist-packages (from torch>=2.1.0->pytorch_lightning) (3.1.4)\n",
            "Requirement already satisfied: sympy==1.13.1 in /usr/local/lib/python3.10/dist-packages (from torch>=2.1.0->pytorch_lightning) (1.13.1)\n",
            "Requirement already satisfied: mpmath<1.4,>=1.1.0 in /usr/local/lib/python3.10/dist-packages (from sympy==1.13.1->torch>=2.1.0->pytorch_lightning) (1.3.0)\n",
            "Requirement already satisfied: numpy>1.20.0 in /usr/local/lib/python3.10/dist-packages (from torchmetrics>=0.7.0->pytorch_lightning) (1.26.4)\n",
            "Requirement already satisfied: aiohappyeyeballs>=2.3.0 in /usr/local/lib/python3.10/dist-packages (from aiohttp!=4.0.0a0,!=4.0.0a1->fsspec[http]>=2022.5.0->pytorch_lightning) (2.4.3)\n",
            "Requirement already satisfied: aiosignal>=1.1.2 in /usr/local/lib/python3.10/dist-packages (from aiohttp!=4.0.0a0,!=4.0.0a1->fsspec[http]>=2022.5.0->pytorch_lightning) (1.3.1)\n",
            "Requirement already satisfied: attrs>=17.3.0 in /usr/local/lib/python3.10/dist-packages (from aiohttp!=4.0.0a0,!=4.0.0a1->fsspec[http]>=2022.5.0->pytorch_lightning) (24.2.0)\n",
            "Requirement already satisfied: frozenlist>=1.1.1 in /usr/local/lib/python3.10/dist-packages (from aiohttp!=4.0.0a0,!=4.0.0a1->fsspec[http]>=2022.5.0->pytorch_lightning) (1.5.0)\n",
            "Requirement already satisfied: multidict<7.0,>=4.5 in /usr/local/lib/python3.10/dist-packages (from aiohttp!=4.0.0a0,!=4.0.0a1->fsspec[http]>=2022.5.0->pytorch_lightning) (6.1.0)\n",
            "Requirement already satisfied: yarl<2.0,>=1.12.0 in /usr/local/lib/python3.10/dist-packages (from aiohttp!=4.0.0a0,!=4.0.0a1->fsspec[http]>=2022.5.0->pytorch_lightning) (1.17.1)\n",
            "Requirement already satisfied: async-timeout<5.0,>=4.0 in /usr/local/lib/python3.10/dist-packages (from aiohttp!=4.0.0a0,!=4.0.0a1->fsspec[http]>=2022.5.0->pytorch_lightning) (4.0.3)\n",
            "Requirement already satisfied: MarkupSafe>=2.0 in /usr/local/lib/python3.10/dist-packages (from jinja2->torch>=2.1.0->pytorch_lightning) (3.0.2)\n",
            "Requirement already satisfied: idna>=2.0 in /usr/local/lib/python3.10/dist-packages (from yarl<2.0,>=1.12.0->aiohttp!=4.0.0a0,!=4.0.0a1->fsspec[http]>=2022.5.0->pytorch_lightning) (3.10)\n",
            "Requirement already satisfied: propcache>=0.2.0 in /usr/local/lib/python3.10/dist-packages (from yarl<2.0,>=1.12.0->aiohttp!=4.0.0a0,!=4.0.0a1->fsspec[http]>=2022.5.0->pytorch_lightning) (0.2.0)\n",
            "Downloading pytorch_lightning-2.4.0-py3-none-any.whl (815 kB)\n",
            "\u001b[2K   \u001b[90m━━━━━━━━━━━━━━━━━━━━━━━━━━━━━━━━━━━━━━━━\u001b[0m \u001b[32m815.2/815.2 kB\u001b[0m \u001b[31m10.9 MB/s\u001b[0m eta \u001b[36m0:00:00\u001b[0m\n",
            "\u001b[?25hDownloading lightning_utilities-0.11.8-py3-none-any.whl (26 kB)\n",
            "Downloading torchmetrics-1.6.0-py3-none-any.whl (926 kB)\n",
            "\u001b[2K   \u001b[90m━━━━━━━━━━━━━━━━━━━━━━━━━━━━━━━━━━━━━━━━\u001b[0m \u001b[32m926.4/926.4 kB\u001b[0m \u001b[31m38.3 MB/s\u001b[0m eta \u001b[36m0:00:00\u001b[0m\n",
            "\u001b[?25hInstalling collected packages: lightning-utilities, torchmetrics, pytorch_lightning\n",
            "Successfully installed lightning-utilities-0.11.8 pytorch_lightning-2.4.0 torchmetrics-1.6.0\n"
          ]
        }
      ]
    },
    {
      "cell_type": "markdown",
      "metadata": {
        "id": "l3O4mXmBol0t"
      },
      "source": [
        "# IMPORT"
      ]
    },
    {
      "cell_type": "code",
      "execution_count": 61,
      "metadata": {
        "id": "9gQw18CXol0v"
      },
      "outputs": [],
      "source": [
        "# Model\n",
        "import torch\n",
        "import torch.nn as nn\n",
        "from torch.utils.data import Dataset, Dataloader\n",
        "from transformers import AutoModelForCausalLM, AutoModelForSeq2SeqLM, AutoTokenizer, AdamW\n",
        "from pytorch_lightning import LightningModule, Trainer\n",
        "\n",
        "# Dataset\n",
        "import pandas as pd\n",
        "import zipfile\n",
        "import gdown\n",
        "#from datasets import Dataset, DatasetDict\n",
        "\n",
        "import os\n",
        "import io\n",
        "import traceback\n",
        "\n",
        "import csv\n",
        "\n",
        "import numpy as np\n",
        "import matplotlib.pyplot as plt\n"
      ]
    },
    {
      "cell_type": "markdown",
      "metadata": {
        "id": "O6rlI4fHoYWG"
      },
      "source": [
        "**Reproducibility**"
      ]
    },
    {
      "cell_type": "code",
      "execution_count": 30,
      "metadata": {
        "id": "7KKa1CnfoYWJ"
      },
      "outputs": [],
      "source": [
        "# Set the seed\n",
        "seed = 46\n",
        "\n",
        "# Set seed for torch, numpy and random libraries\n",
        "#torch.backends.cudnn.deterministic = True\n",
        "#torch.backends.cudnn.benchmark = False\n",
        "torch.manual_seed(seed)\n",
        "np.random.seed(seed)\n",
        "\n",
        "# Set the devide mode on GPU (if available CUDA for Nvidia and  MPS for Apple Silicon) or CPU\n",
        "if torch.cuda.is_available():\n",
        "    device = \"cuda\"\n",
        "elif torch.backends.mps.is_available():\n",
        "    device = \"mps\"\n",
        "else:\n",
        "    device = \"cpu\""
      ]
    },
    {
      "cell_type": "markdown",
      "metadata": {
        "id": "FFQrCrM-ol0w"
      },
      "source": [
        "# DATASET"
      ]
    },
    {
      "cell_type": "code",
      "execution_count": 31,
      "metadata": {
        "id": "FIjenOEuol0w"
      },
      "outputs": [],
      "source": [
        "def download_csv(link_zipped_csv, gdrive_link, zipped_file):\n",
        "\n",
        "    file_id = link_zipped_csv.split('/')[-2]  # Take the file_id (Ex. \"https://drive.google.com/file/d/1BMj4BGXxIMzsd-GYSAEMpB7CF0XB87UT/view?usp=sharing\" => file_id: 1BMj4BGXxIMzsd-GYSAEMpB7CF0XB87UT)\n",
        "    download_link = gdrive_link + file_id # Create the path for gdown (Ex. https://drive.google.com/uc?id={YOUR_FILE_ID})\n",
        "\n",
        "    try:\n",
        "        if not os.path.exists(zipped_file):\n",
        "\n",
        "            gdown.download(\n",
        "                download_link,\n",
        "                zipped_file,\n",
        "                quiet=False\n",
        "                )\n",
        "        else:\n",
        "            print(\"CSV file already downloaded!\")\n",
        "\n",
        "\n",
        "    except Exception as error:\n",
        "        print(\"An error occured:\", error)\n",
        "        traceback.print_exc()"
      ]
    },
    {
      "cell_type": "code",
      "execution_count": 32,
      "metadata": {
        "id": "xLSu3LjIol0w"
      },
      "outputs": [],
      "source": [
        "def unzip_csv(csv_zip, csv_dir):\n",
        "\n",
        "    try:\n",
        "        if not os.path.exists(csv_dir):\n",
        "            os.mkdir(csv_dir) # Create the csv_dir directory where we extract files (if not exists)\n",
        "\n",
        "        if len(os.listdir(csv_dir)) == 0:\n",
        "            with zipfile.ZipFile(csv_zip, 'r') as zip:\n",
        "                filelist = zip.namelist() # list of the file inside zip : ['csv /multilingual_nli_test_df.csv', 'csv /tweet_emotions.csv', ...]\n",
        "\n",
        "                # Iterate over all file in the zip file to extract them\n",
        "                for filename in filelist:\n",
        "                    zip.extract(filename, csv_dir) # Extract the file inside the csv_dir\n",
        "\n",
        "        else:\n",
        "            print(\"CSV file already unzipped!\")\n",
        "\n",
        "\n",
        "    except Exception as error:\n",
        "        print(\"An error occured:\", error)\n",
        "        traceback.print_exc()"
      ]
    },
    {
      "cell_type": "markdown",
      "metadata": {
        "id": "usRzMegfol0x"
      },
      "source": [
        "# Download CSV\n",
        "\n",
        "We have downloaded different csv files containing text from:\n",
        "\n",
        "- Kaggle: https://www.kaggle.com/datasets?search=text\n",
        "- Hugging Face: https://huggingface.co/datasets?modality=modality:text&sort=trending\n",
        "\n",
        "Then we have zipped all csv and loading on Google Drive the csv.zip file.\n",
        "\n",
        "In this part there is the downloading of the entire zipped dataset to preprocess (eliminate labels, taking only contents).\n",
        "\n",
        "In particular:\n",
        "\n",
        "1. muhammadravi251001/multilingual-nli-dataset: https://huggingface.co/datasets/muhammadravi251001/multilingual-nli-dataset/tree/main\n",
        "\n",
        "?? 2. Multi-lingual HateSpeech Dataset: https://www.kaggle.com/datasets/wajidhassanmoosa/multilingual-hatespeech-dataset?select=Dataset\n",
        "\n",
        "3. Multilingual Sentiment Datasets: https://github.com/tyqiangz/multilingual-sentiment-datasets/tree/main\n",
        "\n",
        "4. molamin/Kinyarwanda_Engligh_Multilingual_ASR: https://huggingface.co/datasets/molamin/Kinyarwanda_Engligh_Multilingual_ASR/tree/main\n",
        "\n",
        "5. odunola/multilingual-sentiments: https://huggingface.co/datasets/odunola/multilingual-sentiments/tree/main\n",
        "\n",
        "To simplify the process, we have renamed as \"text\" each column that we want to take from csv file, discarding the others!\n"
      ]
    },
    {
      "cell_type": "code",
      "execution_count": 33,
      "metadata": {
        "colab": {
          "base_uri": "https://localhost:8080/"
        },
        "id": "1mHN7T9Rol0x",
        "outputId": "2454fc8d-0472-4619-c4d2-ac689a2caea4"
      },
      "outputs": [
        {
          "output_type": "stream",
          "name": "stdout",
          "text": [
            "CSV file already downloaded!\n",
            "CSV file already unzipped!\n"
          ]
        }
      ],
      "source": [
        "link_zipped_csv = 'https://drive.google.com/file/d/1WrXbLSkZzS-QGDjWk2_6dLOBIo-4KMBd/view?usp=drive_link'\n",
        "gdrive_link = 'https://drive.google.com/uc?id='\n",
        "csv_dir = './csv'\n",
        "zipped_file = './csv.zip'\n",
        "\n",
        "download_csv(\n",
        "    link_zipped_csv,\n",
        "    gdrive_link,\n",
        "    zipped_file\n",
        ")\n",
        "\n",
        "unzip_csv(\n",
        "    zipped_file,\n",
        "    csv_dir,\n",
        ")\n"
      ]
    },
    {
      "cell_type": "code",
      "execution_count": 34,
      "metadata": {
        "id": "w264QXccol0x"
      },
      "outputs": [],
      "source": [
        "def load_dataset_dict(csv_path):\n",
        "\n",
        "    # Initialization of the dictionary of input data (text) {'filename': ['hi ...','I am ...']}\n",
        "    text_dict = {}\n",
        "\n",
        "    filelist = os.listdir(csv_path) # List of all csv file ['filename_1.csv', ...]\n",
        "\n",
        "    # Iterate over all csv file in the directory\n",
        "    for filename in filelist:\n",
        "        # Initialization of the list containing all the texts in a csv file\n",
        "\n",
        "        text_dict[filename] = []\n",
        "        # Open the i-th csv file\n",
        "        with open(csv_path + '/' + filename) as csv_file:\n",
        "\n",
        "            # Read row by row. Each row is a dictionary with:\n",
        "            # 1. Key: Name of the column\n",
        "            # 2. Value: Content of the row\n",
        "            reader = csv.DictReader(csv_file)\n",
        "\n",
        "            # Iterate over each row of the csv\n",
        "            # Ex. ['audio_filepath': 'test_data/37506.wav', 'duration': '15.9279375', 'text': 'maze mvugisha ururimi nti everyone should have..]\n",
        "            for row in reader:\n",
        "                # Append to the list each row of the column text\n",
        "                text_dict[filename].append(row['text'])\n",
        "\n",
        "    return text_dict"
      ]
    },
    {
      "cell_type": "code",
      "execution_count": 35,
      "metadata": {
        "id": "z9_VXNCMoYW3"
      },
      "outputs": [],
      "source": [
        "def texty(text_dict, min=10, max=500):\n",
        "\n",
        "    # Create a list of the type [\"my name is\", \"Hi, how are you?\", ....]\n",
        "    text_list = []\n",
        "\n",
        "    text_dict_values = []\n",
        "    # Put in a single list all the values (rows of all csv files)\n",
        "    for value in text_dict.values():\n",
        "        text_dict_values += value\n",
        "\n",
        "    # Number of total row in all csv files\n",
        "    total_row = len(text_dict_values)\n",
        "\n",
        "    #\n",
        "    sum_ = 0\n",
        "    random_length_list = []\n",
        "\n",
        "    while(True):\n",
        "        random_length = np.random.randint(min,max)\n",
        "        sum_ += random_length\n",
        "        random_length_list.append(random_length)\n",
        "        if sum_ >= total_row - max:\n",
        "            random_length_list.append(total_row - sum_)\n",
        "            break\n",
        "\n",
        "    start = 0\n",
        "    for length in random_length_list:\n",
        "        text_list.append('\\n'.join(text_dict_values[start:start+length+1]))\n",
        "        start += length\n",
        "\n",
        "    return text_list"
      ]
    },
    {
      "cell_type": "code",
      "execution_count": 36,
      "metadata": {
        "id": "QESVI_4ZrOho"
      },
      "outputs": [],
      "source": [
        "def zippy(text_list):\n",
        "\n",
        "  # Initialization of the dictionary of labels (zip file) {'filename': ['101 ...','010 ...']}\n",
        "  labels_list = []\n",
        "\n",
        "  for text in text_list:\n",
        "    zip_buffer = io.BytesIO()\n",
        "\n",
        "    with zipfile.ZipFile(file=zip_buffer, mode='w', compression=zipfile.ZIP_LZMA) as byte:\n",
        "      byte.writestr(\"file.txt\", text)\n",
        "\n",
        "    labels_list.append(zip_buffer.getvalue().hex())\n",
        "\n",
        "  return labels_list"
      ]
    },
    {
      "cell_type": "code",
      "source": [
        "def split(listToSplit, splitPercentages):\n",
        "  length = len(listToSplit)\n",
        "  splittedList = []\n",
        "  lastIndex = 0\n",
        "  for percentageIndex in range(len(splitPercentages)):\n",
        "    print(lastIndex)\n",
        "    splittedList.append(listToSplit[lastIndex:lastIndex+int(splitPercentages[percentageIndex]*length)])\n",
        "    lastIndex += int(splitPercentages[percentageIndex]*length)\n",
        "\n",
        "  return splittedList\n",
        "\n"
      ],
      "metadata": {
        "id": "7NL7HUCs4lwH"
      },
      "execution_count": 54,
      "outputs": []
    },
    {
      "cell_type": "code",
      "execution_count": 38,
      "metadata": {
        "id": "vzy0t5qioYXB"
      },
      "outputs": [],
      "source": [
        "class ZipDataset(Dataset):\n",
        "\n",
        "    def __init__(self, data, labels, model_name, to_tokenize=True):\n",
        "        self.data = data\n",
        "        self.labels = labels\n",
        "        self.to_tokenize = to_tokenize\n",
        "\n",
        "        if self.to_tokenize:\n",
        "            self.tokenizer = AutoTokenizer.from_pretrained(model_name)\n",
        "            self.tokenize(data, labels)\n",
        "\n",
        "    def __getitem__(self, index):\n",
        "        if self.to_tokenize:\n",
        "            return self.tokenized_data[index], self.tokenized_labels[index]\n",
        "        else:\n",
        "            return self.data[index], self.labels[index]\n",
        "\n",
        "    def __len__(self):\n",
        "        return len(self.data)\n",
        "\n",
        "    def tokenize(self, text_list, labels_list):\n",
        "        self.tokenized_data = []\n",
        "        self.tokenized_labels = []\n",
        "        for text, label in zip(text_list,labels_list):\n",
        "\n",
        "            tokenized_text = self.tokenizer(\n",
        "                text,\n",
        "                padding=\"max_length\",\n",
        "                truncation=True,\n",
        "                return_tensors=\"pt\"\n",
        "            )\n",
        "            self.tokenized_data.append(tokenized_text)\n",
        "\n",
        "\n",
        "            tokenized_label = self.tokenizer(\n",
        "                label,\n",
        "                padding=\"max_length\",\n",
        "                truncation=True,\n",
        "                return_tensors=\"pt\"\n",
        "            )\n",
        "            self.tokenized_labels.append(tokenized_label)"
      ]
    },
    {
      "cell_type": "code",
      "execution_count": 44,
      "metadata": {
        "id": "Qbi7F-mIol0x",
        "colab": {
          "base_uri": "https://localhost:8080/"
        },
        "outputId": "3b8bd6aa-06b6-420b-84e8-8343e3a7e658"
      },
      "outputs": [
        {
          "output_type": "stream",
          "name": "stdout",
          "text": [
            "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\n"
          ]
        }
      ],
      "source": [
        "text_dict = load_dataset_dict(\"./csv\")\n",
        "\n",
        "text_list = texty(text_dict=text_dict)\n",
        "\n",
        "splitPerc = [0.7,0.2,0.1]\n",
        "\n",
        "\n",
        "#print(text_list[3])\n",
        "#print(len(text_list[5]))\n",
        "\n",
        "labels_list = zippy(text_list)\n",
        "print(labels_list[4])"
      ]
    },
    {
      "cell_type": "code",
      "source": [
        "splitted = split(text_list, splitPerc)"
      ],
      "metadata": {
        "colab": {
          "base_uri": "https://localhost:8080/"
        },
        "id": "5Or0C9kh7MZG",
        "outputId": "03340cdc-f037-4b92-dac0-a5dab6e69674"
      },
      "execution_count": 55,
      "outputs": [
        {
          "output_type": "stream",
          "name": "stdout",
          "text": [
            "0\n",
            "136\n",
            "175\n"
          ]
        }
      ]
    },
    {
      "cell_type": "code",
      "source": [
        "len(splitted[1])"
      ],
      "metadata": {
        "colab": {
          "base_uri": "https://localhost:8080/"
        },
        "id": "e_uXajFz75uI",
        "outputId": "85a278be-e8c6-48d9-db9f-1c81e27171f5"
      },
      "execution_count": 58,
      "outputs": [
        {
          "output_type": "execute_result",
          "data": {
            "text/plain": [
              "39"
            ]
          },
          "metadata": {},
          "execution_count": 58
        }
      ]
    },
    {
      "cell_type": "code",
      "source": [
        "len(text_list)"
      ],
      "metadata": {
        "colab": {
          "base_uri": "https://localhost:8080/"
        },
        "id": "h1rPTTh48Kip",
        "outputId": "192cbe1b-d52b-4ea7-cde2-a2a7447285ee"
      },
      "execution_count": 57,
      "outputs": [
        {
          "output_type": "execute_result",
          "data": {
            "text/plain": [
              "195"
            ]
          },
          "metadata": {},
          "execution_count": 57
        }
      ]
    },
    {
      "cell_type": "markdown",
      "metadata": {
        "id": "pnlFgCAkol0x"
      },
      "source": [
        "# MODEL"
      ]
    },
    {
      "cell_type": "code",
      "execution_count": null,
      "metadata": {
        "id": "dE0Y11cqrmhh"
      },
      "outputs": [],
      "source": [
        "model_name = \"bert-base-uncased\"\n",
        "dataset = ZipDataset(text_list, labels_list, model_name, to_tokenize=True)"
      ]
    },
    {
      "cell_type": "code",
      "execution_count": 62,
      "metadata": {
        "colab": {
          "base_uri": "https://localhost:8080/"
        },
        "id": "BcsYRcFjoYXH",
        "outputId": "f4e1674d-522e-495f-c16b-edb50781889f"
      },
      "outputs": [
        {
          "output_type": "stream",
          "name": "stdout",
          "text": [
            "{'input_ids': tensor([[  101,  2026,  8481,  2097,  2468,  2307,  2273,  2002,  2209,  2005,\n",
            "         22820,  1998, 28352, 24238,  1999,  1996,  2827,  4043,  2223,  2971,\n",
            "          2016,  2001,  2059,  2805,  9162,  1999,  6825,  2012,  1996,  2118,\n",
            "          2021,  2017,  2071,  3288,  2068,  2045, 14386,  2001,  2141,  1999,\n",
            "          1996, 17727,  8865,  2225,  2212,  1997, 23624,  5311, 12464,  5400,\n",
            "         28120,  3366, 24471,  2072,  8529,  4904,  4648,  4890,  2072, 14163,\n",
            "          4095,  3148,  9152,  3676, 23961, 20411,  3736,  7298,  2020,  3603,\n",
            "          1999,  1996,  6007,  2030,  2132,  3351,  2906,  1997,  5895,  1997,\n",
            "          2162,  1996,  4825,  2001,  3243,  6450,  8670,  3683,  4168,  6460,\n",
            "         12849,  7352, 17915,  1057,  8569,  5831,  2863,  1038,  2860,  1005,\n",
            "         19557, 16078,  5162, 16021,  6979,  3775, 20008, 21335,  1057, 10139,\n",
            "         11735,  2050, 14163,  2011, 23692,  1045,  2572,  2183,  2000,  4021,\n",
            "          4826,  9152, 16313, 18410,  5856,  5521,  4213,  1057,  4143, 18477,\n",
            "         14341,  4313,  4213, 16021, 24572,  2080,  6396,  7076,  4048,  2009,\n",
            "          4240,  2000,  2490,  2116,  2060,  2573,  2016,  2366,  2004,  2136,\n",
            "          2952,  2076,  2014,  3026,  2161, 10047, 11261,  1050,  1005, 21307,\n",
            "         22254,  2072,  2978,  5685, 15750,  4890,  2063,  2011,  9232,  1999,\n",
            "         24015,  1062, 19190, 20395, 23961, 10993, 10128,  4221,  8529,  7447,\n",
            "          3148, 24185, 13970,  3676,  4143,  9152, 12155,  8545, 14163,  3372,\n",
            "          2226, 19181, 25811,  2063,  8814,  9103,  6460, 21307, 14268,  2497,\n",
            "          4213, 14163,  3089,  9875, 10556,  5831,  2302,  2107,  2293,  2028,\n",
            "          1005,  1055,  5544,  2052,  2031,  2053,  3574,  1996,  7987,  5480,\n",
            "         23126,  8697,  2024,  3615,  2000,  2004, 15451,  6499, 15750,  2030,\n",
            "          2162,  2912,  3859,  2044,  1996,  2622,  2001, 25606,  2153,  4030,\n",
            "          1998,  6706,  5222,  1996,  2679, 13970,  3683, 10488, 23961,  2050,\n",
            "         14163,  3372,  2226,  2149, 20459,  2050, 13970,  3549,  6672,  9126,\n",
            "          2050, 11333, 21815,  6906, 20912, 18447,  2226, 14163,  1054,  9148,\n",
            "         24158,  6806,  2057,  1005,  2310,  2288,  2000,  2131,  2023,  4624,\n",
            "          2041,  1997,  2182, 23961,  7875, 12155,  1056, 16279,  9351,  2063,\n",
            "         10722, 19722,  3654, 19842, 20395, 27118, 13807,  1050,  1005,  8529,\n",
            "          6784,  9496,  1050,  1005, 13580,  8462, 12464,  5400, 28120,  3366,\n",
            "         24471,  2072,  8529,  4904,  4648,  4890,  2072, 14163,  4095,  3148,\n",
            "          9152,  3676, 23961, 20411,  3736,  8038,  5856,  4371,  2012,  2072,\n",
            "          1045,  7677, 14071, 10513,  4371, 14163, 21025, 29481,  7556,  2890,\n",
            "         23961,  2050, 12631,  8525, 22330,  9232, 28981, 21815,  2050, 14163,\n",
            "          3089,  1045, 10139,  9033,  2024,  2027,  8178,  2030,  2074,  3671,\n",
            "          9504,  2009,  1005,  1055,  2019,  5665,  3612,  2008, 13783,  2053,\n",
            "          2028,  2070,  2204,  1996,  4394,  7357, 13711,  2098,  1996,  6261,\n",
            "          2047,  7357,  2846,  2029,  2018,  4928,  3144, 14163,  9535, 18222,\n",
            "         14262, 12848, 17417,  1062,  1005,  2003,  6968,  2226, 23961, 16103,\n",
            "         27741,  4305,  2912, 21307, 15728,  4213, 14163,  5666,  5063,  7869,\n",
            "          4143, 24978,  6806, 12821,  2050, 13970,  5856,  2527,  1057,  8569,\n",
            "          5831,  2863,  1038,  9148,  2618,  6396,  3286,  9816,  2912, 17712,\n",
            "          9148,  6672, 19739, 21815,  9953,  4213, 14163,  6396,  9956,  1062,\n",
            "         12322, 17791,  2063, 14366,  7856, 25933,  6499, 13970, 16137,  2080,\n",
            "         21183,  4609, 14001,  2072,  1050,  3207,  3215,  2063,  1050,  1005,\n",
            "         21183,  4609, 11613, 26760,  2050,  1045,  7677,  1057,  8569,  4371,\n",
            "          8529, 16671,  2226,  1045,  5856,  5369, 21025,  3736, 25930, 29206,\n",
            "          2850, 11721, 16368,  2080, 22827,  4305,  1045,  7677, 25930, 18426,\n",
            "          4890,  2063, 16371, 23041,  8525,  1045,  5856,  5369, 21025,  3736,\n",
            "         25930, 29206,  2850, 24728,  3676,  4202,  9170,  3100,  1045,  2097,\n",
            "          2025,   102]]), 'token_type_ids': tensor([[0, 0, 0, 0, 0, 0, 0, 0, 0, 0, 0, 0, 0, 0, 0, 0, 0, 0, 0, 0, 0, 0, 0, 0,\n",
            "         0, 0, 0, 0, 0, 0, 0, 0, 0, 0, 0, 0, 0, 0, 0, 0, 0, 0, 0, 0, 0, 0, 0, 0,\n",
            "         0, 0, 0, 0, 0, 0, 0, 0, 0, 0, 0, 0, 0, 0, 0, 0, 0, 0, 0, 0, 0, 0, 0, 0,\n",
            "         0, 0, 0, 0, 0, 0, 0, 0, 0, 0, 0, 0, 0, 0, 0, 0, 0, 0, 0, 0, 0, 0, 0, 0,\n",
            "         0, 0, 0, 0, 0, 0, 0, 0, 0, 0, 0, 0, 0, 0, 0, 0, 0, 0, 0, 0, 0, 0, 0, 0,\n",
            "         0, 0, 0, 0, 0, 0, 0, 0, 0, 0, 0, 0, 0, 0, 0, 0, 0, 0, 0, 0, 0, 0, 0, 0,\n",
            "         0, 0, 0, 0, 0, 0, 0, 0, 0, 0, 0, 0, 0, 0, 0, 0, 0, 0, 0, 0, 0, 0, 0, 0,\n",
            "         0, 0, 0, 0, 0, 0, 0, 0, 0, 0, 0, 0, 0, 0, 0, 0, 0, 0, 0, 0, 0, 0, 0, 0,\n",
            "         0, 0, 0, 0, 0, 0, 0, 0, 0, 0, 0, 0, 0, 0, 0, 0, 0, 0, 0, 0, 0, 0, 0, 0,\n",
            "         0, 0, 0, 0, 0, 0, 0, 0, 0, 0, 0, 0, 0, 0, 0, 0, 0, 0, 0, 0, 0, 0, 0, 0,\n",
            "         0, 0, 0, 0, 0, 0, 0, 0, 0, 0, 0, 0, 0, 0, 0, 0, 0, 0, 0, 0, 0, 0, 0, 0,\n",
            "         0, 0, 0, 0, 0, 0, 0, 0, 0, 0, 0, 0, 0, 0, 0, 0, 0, 0, 0, 0, 0, 0, 0, 0,\n",
            "         0, 0, 0, 0, 0, 0, 0, 0, 0, 0, 0, 0, 0, 0, 0, 0, 0, 0, 0, 0, 0, 0, 0, 0,\n",
            "         0, 0, 0, 0, 0, 0, 0, 0, 0, 0, 0, 0, 0, 0, 0, 0, 0, 0, 0, 0, 0, 0, 0, 0,\n",
            "         0, 0, 0, 0, 0, 0, 0, 0, 0, 0, 0, 0, 0, 0, 0, 0, 0, 0, 0, 0, 0, 0, 0, 0,\n",
            "         0, 0, 0, 0, 0, 0, 0, 0, 0, 0, 0, 0, 0, 0, 0, 0, 0, 0, 0, 0, 0, 0, 0, 0,\n",
            "         0, 0, 0, 0, 0, 0, 0, 0, 0, 0, 0, 0, 0, 0, 0, 0, 0, 0, 0, 0, 0, 0, 0, 0,\n",
            "         0, 0, 0, 0, 0, 0, 0, 0, 0, 0, 0, 0, 0, 0, 0, 0, 0, 0, 0, 0, 0, 0, 0, 0,\n",
            "         0, 0, 0, 0, 0, 0, 0, 0, 0, 0, 0, 0, 0, 0, 0, 0, 0, 0, 0, 0, 0, 0, 0, 0,\n",
            "         0, 0, 0, 0, 0, 0, 0, 0, 0, 0, 0, 0, 0, 0, 0, 0, 0, 0, 0, 0, 0, 0, 0, 0,\n",
            "         0, 0, 0, 0, 0, 0, 0, 0, 0, 0, 0, 0, 0, 0, 0, 0, 0, 0, 0, 0, 0, 0, 0, 0,\n",
            "         0, 0, 0, 0, 0, 0, 0, 0]]), 'attention_mask': tensor([[1, 1, 1, 1, 1, 1, 1, 1, 1, 1, 1, 1, 1, 1, 1, 1, 1, 1, 1, 1, 1, 1, 1, 1,\n",
            "         1, 1, 1, 1, 1, 1, 1, 1, 1, 1, 1, 1, 1, 1, 1, 1, 1, 1, 1, 1, 1, 1, 1, 1,\n",
            "         1, 1, 1, 1, 1, 1, 1, 1, 1, 1, 1, 1, 1, 1, 1, 1, 1, 1, 1, 1, 1, 1, 1, 1,\n",
            "         1, 1, 1, 1, 1, 1, 1, 1, 1, 1, 1, 1, 1, 1, 1, 1, 1, 1, 1, 1, 1, 1, 1, 1,\n",
            "         1, 1, 1, 1, 1, 1, 1, 1, 1, 1, 1, 1, 1, 1, 1, 1, 1, 1, 1, 1, 1, 1, 1, 1,\n",
            "         1, 1, 1, 1, 1, 1, 1, 1, 1, 1, 1, 1, 1, 1, 1, 1, 1, 1, 1, 1, 1, 1, 1, 1,\n",
            "         1, 1, 1, 1, 1, 1, 1, 1, 1, 1, 1, 1, 1, 1, 1, 1, 1, 1, 1, 1, 1, 1, 1, 1,\n",
            "         1, 1, 1, 1, 1, 1, 1, 1, 1, 1, 1, 1, 1, 1, 1, 1, 1, 1, 1, 1, 1, 1, 1, 1,\n",
            "         1, 1, 1, 1, 1, 1, 1, 1, 1, 1, 1, 1, 1, 1, 1, 1, 1, 1, 1, 1, 1, 1, 1, 1,\n",
            "         1, 1, 1, 1, 1, 1, 1, 1, 1, 1, 1, 1, 1, 1, 1, 1, 1, 1, 1, 1, 1, 1, 1, 1,\n",
            "         1, 1, 1, 1, 1, 1, 1, 1, 1, 1, 1, 1, 1, 1, 1, 1, 1, 1, 1, 1, 1, 1, 1, 1,\n",
            "         1, 1, 1, 1, 1, 1, 1, 1, 1, 1, 1, 1, 1, 1, 1, 1, 1, 1, 1, 1, 1, 1, 1, 1,\n",
            "         1, 1, 1, 1, 1, 1, 1, 1, 1, 1, 1, 1, 1, 1, 1, 1, 1, 1, 1, 1, 1, 1, 1, 1,\n",
            "         1, 1, 1, 1, 1, 1, 1, 1, 1, 1, 1, 1, 1, 1, 1, 1, 1, 1, 1, 1, 1, 1, 1, 1,\n",
            "         1, 1, 1, 1, 1, 1, 1, 1, 1, 1, 1, 1, 1, 1, 1, 1, 1, 1, 1, 1, 1, 1, 1, 1,\n",
            "         1, 1, 1, 1, 1, 1, 1, 1, 1, 1, 1, 1, 1, 1, 1, 1, 1, 1, 1, 1, 1, 1, 1, 1,\n",
            "         1, 1, 1, 1, 1, 1, 1, 1, 1, 1, 1, 1, 1, 1, 1, 1, 1, 1, 1, 1, 1, 1, 1, 1,\n",
            "         1, 1, 1, 1, 1, 1, 1, 1, 1, 1, 1, 1, 1, 1, 1, 1, 1, 1, 1, 1, 1, 1, 1, 1,\n",
            "         1, 1, 1, 1, 1, 1, 1, 1, 1, 1, 1, 1, 1, 1, 1, 1, 1, 1, 1, 1, 1, 1, 1, 1,\n",
            "         1, 1, 1, 1, 1, 1, 1, 1, 1, 1, 1, 1, 1, 1, 1, 1, 1, 1, 1, 1, 1, 1, 1, 1,\n",
            "         1, 1, 1, 1, 1, 1, 1, 1, 1, 1, 1, 1, 1, 1, 1, 1, 1, 1, 1, 1, 1, 1, 1, 1,\n",
            "         1, 1, 1, 1, 1, 1, 1, 1]])}\n",
            "{'input_ids': tensor([[101, 100, 102,   0,   0,   0,   0,   0,   0,   0,   0,   0,   0,   0,\n",
            "           0,   0,   0,   0,   0,   0,   0,   0,   0,   0,   0,   0,   0,   0,\n",
            "           0,   0,   0,   0,   0,   0,   0,   0,   0,   0,   0,   0,   0,   0,\n",
            "           0,   0,   0,   0,   0,   0,   0,   0,   0,   0,   0,   0,   0,   0,\n",
            "           0,   0,   0,   0,   0,   0,   0,   0,   0,   0,   0,   0,   0,   0,\n",
            "           0,   0,   0,   0,   0,   0,   0,   0,   0,   0,   0,   0,   0,   0,\n",
            "           0,   0,   0,   0,   0,   0,   0,   0,   0,   0,   0,   0,   0,   0,\n",
            "           0,   0,   0,   0,   0,   0,   0,   0,   0,   0,   0,   0,   0,   0,\n",
            "           0,   0,   0,   0,   0,   0,   0,   0,   0,   0,   0,   0,   0,   0,\n",
            "           0,   0,   0,   0,   0,   0,   0,   0,   0,   0,   0,   0,   0,   0,\n",
            "           0,   0,   0,   0,   0,   0,   0,   0,   0,   0,   0,   0,   0,   0,\n",
            "           0,   0,   0,   0,   0,   0,   0,   0,   0,   0,   0,   0,   0,   0,\n",
            "           0,   0,   0,   0,   0,   0,   0,   0,   0,   0,   0,   0,   0,   0,\n",
            "           0,   0,   0,   0,   0,   0,   0,   0,   0,   0,   0,   0,   0,   0,\n",
            "           0,   0,   0,   0,   0,   0,   0,   0,   0,   0,   0,   0,   0,   0,\n",
            "           0,   0,   0,   0,   0,   0,   0,   0,   0,   0,   0,   0,   0,   0,\n",
            "           0,   0,   0,   0,   0,   0,   0,   0,   0,   0,   0,   0,   0,   0,\n",
            "           0,   0,   0,   0,   0,   0,   0,   0,   0,   0,   0,   0,   0,   0,\n",
            "           0,   0,   0,   0,   0,   0,   0,   0,   0,   0,   0,   0,   0,   0,\n",
            "           0,   0,   0,   0,   0,   0,   0,   0,   0,   0,   0,   0,   0,   0,\n",
            "           0,   0,   0,   0,   0,   0,   0,   0,   0,   0,   0,   0,   0,   0,\n",
            "           0,   0,   0,   0,   0,   0,   0,   0,   0,   0,   0,   0,   0,   0,\n",
            "           0,   0,   0,   0,   0,   0,   0,   0,   0,   0,   0,   0,   0,   0,\n",
            "           0,   0,   0,   0,   0,   0,   0,   0,   0,   0,   0,   0,   0,   0,\n",
            "           0,   0,   0,   0,   0,   0,   0,   0,   0,   0,   0,   0,   0,   0,\n",
            "           0,   0,   0,   0,   0,   0,   0,   0,   0,   0,   0,   0,   0,   0,\n",
            "           0,   0,   0,   0,   0,   0,   0,   0,   0,   0,   0,   0,   0,   0,\n",
            "           0,   0,   0,   0,   0,   0,   0,   0,   0,   0,   0,   0,   0,   0,\n",
            "           0,   0,   0,   0,   0,   0,   0,   0,   0,   0,   0,   0,   0,   0,\n",
            "           0,   0,   0,   0,   0,   0,   0,   0,   0,   0,   0,   0,   0,   0,\n",
            "           0,   0,   0,   0,   0,   0,   0,   0,   0,   0,   0,   0,   0,   0,\n",
            "           0,   0,   0,   0,   0,   0,   0,   0,   0,   0,   0,   0,   0,   0,\n",
            "           0,   0,   0,   0,   0,   0,   0,   0,   0,   0,   0,   0,   0,   0,\n",
            "           0,   0,   0,   0,   0,   0,   0,   0,   0,   0,   0,   0,   0,   0,\n",
            "           0,   0,   0,   0,   0,   0,   0,   0,   0,   0,   0,   0,   0,   0,\n",
            "           0,   0,   0,   0,   0,   0,   0,   0,   0,   0,   0,   0,   0,   0,\n",
            "           0,   0,   0,   0,   0,   0,   0,   0]]), 'token_type_ids': tensor([[0, 0, 0, 0, 0, 0, 0, 0, 0, 0, 0, 0, 0, 0, 0, 0, 0, 0, 0, 0, 0, 0, 0, 0,\n",
            "         0, 0, 0, 0, 0, 0, 0, 0, 0, 0, 0, 0, 0, 0, 0, 0, 0, 0, 0, 0, 0, 0, 0, 0,\n",
            "         0, 0, 0, 0, 0, 0, 0, 0, 0, 0, 0, 0, 0, 0, 0, 0, 0, 0, 0, 0, 0, 0, 0, 0,\n",
            "         0, 0, 0, 0, 0, 0, 0, 0, 0, 0, 0, 0, 0, 0, 0, 0, 0, 0, 0, 0, 0, 0, 0, 0,\n",
            "         0, 0, 0, 0, 0, 0, 0, 0, 0, 0, 0, 0, 0, 0, 0, 0, 0, 0, 0, 0, 0, 0, 0, 0,\n",
            "         0, 0, 0, 0, 0, 0, 0, 0, 0, 0, 0, 0, 0, 0, 0, 0, 0, 0, 0, 0, 0, 0, 0, 0,\n",
            "         0, 0, 0, 0, 0, 0, 0, 0, 0, 0, 0, 0, 0, 0, 0, 0, 0, 0, 0, 0, 0, 0, 0, 0,\n",
            "         0, 0, 0, 0, 0, 0, 0, 0, 0, 0, 0, 0, 0, 0, 0, 0, 0, 0, 0, 0, 0, 0, 0, 0,\n",
            "         0, 0, 0, 0, 0, 0, 0, 0, 0, 0, 0, 0, 0, 0, 0, 0, 0, 0, 0, 0, 0, 0, 0, 0,\n",
            "         0, 0, 0, 0, 0, 0, 0, 0, 0, 0, 0, 0, 0, 0, 0, 0, 0, 0, 0, 0, 0, 0, 0, 0,\n",
            "         0, 0, 0, 0, 0, 0, 0, 0, 0, 0, 0, 0, 0, 0, 0, 0, 0, 0, 0, 0, 0, 0, 0, 0,\n",
            "         0, 0, 0, 0, 0, 0, 0, 0, 0, 0, 0, 0, 0, 0, 0, 0, 0, 0, 0, 0, 0, 0, 0, 0,\n",
            "         0, 0, 0, 0, 0, 0, 0, 0, 0, 0, 0, 0, 0, 0, 0, 0, 0, 0, 0, 0, 0, 0, 0, 0,\n",
            "         0, 0, 0, 0, 0, 0, 0, 0, 0, 0, 0, 0, 0, 0, 0, 0, 0, 0, 0, 0, 0, 0, 0, 0,\n",
            "         0, 0, 0, 0, 0, 0, 0, 0, 0, 0, 0, 0, 0, 0, 0, 0, 0, 0, 0, 0, 0, 0, 0, 0,\n",
            "         0, 0, 0, 0, 0, 0, 0, 0, 0, 0, 0, 0, 0, 0, 0, 0, 0, 0, 0, 0, 0, 0, 0, 0,\n",
            "         0, 0, 0, 0, 0, 0, 0, 0, 0, 0, 0, 0, 0, 0, 0, 0, 0, 0, 0, 0, 0, 0, 0, 0,\n",
            "         0, 0, 0, 0, 0, 0, 0, 0, 0, 0, 0, 0, 0, 0, 0, 0, 0, 0, 0, 0, 0, 0, 0, 0,\n",
            "         0, 0, 0, 0, 0, 0, 0, 0, 0, 0, 0, 0, 0, 0, 0, 0, 0, 0, 0, 0, 0, 0, 0, 0,\n",
            "         0, 0, 0, 0, 0, 0, 0, 0, 0, 0, 0, 0, 0, 0, 0, 0, 0, 0, 0, 0, 0, 0, 0, 0,\n",
            "         0, 0, 0, 0, 0, 0, 0, 0, 0, 0, 0, 0, 0, 0, 0, 0, 0, 0, 0, 0, 0, 0, 0, 0,\n",
            "         0, 0, 0, 0, 0, 0, 0, 0]]), 'attention_mask': tensor([[1, 1, 1, 0, 0, 0, 0, 0, 0, 0, 0, 0, 0, 0, 0, 0, 0, 0, 0, 0, 0, 0, 0, 0,\n",
            "         0, 0, 0, 0, 0, 0, 0, 0, 0, 0, 0, 0, 0, 0, 0, 0, 0, 0, 0, 0, 0, 0, 0, 0,\n",
            "         0, 0, 0, 0, 0, 0, 0, 0, 0, 0, 0, 0, 0, 0, 0, 0, 0, 0, 0, 0, 0, 0, 0, 0,\n",
            "         0, 0, 0, 0, 0, 0, 0, 0, 0, 0, 0, 0, 0, 0, 0, 0, 0, 0, 0, 0, 0, 0, 0, 0,\n",
            "         0, 0, 0, 0, 0, 0, 0, 0, 0, 0, 0, 0, 0, 0, 0, 0, 0, 0, 0, 0, 0, 0, 0, 0,\n",
            "         0, 0, 0, 0, 0, 0, 0, 0, 0, 0, 0, 0, 0, 0, 0, 0, 0, 0, 0, 0, 0, 0, 0, 0,\n",
            "         0, 0, 0, 0, 0, 0, 0, 0, 0, 0, 0, 0, 0, 0, 0, 0, 0, 0, 0, 0, 0, 0, 0, 0,\n",
            "         0, 0, 0, 0, 0, 0, 0, 0, 0, 0, 0, 0, 0, 0, 0, 0, 0, 0, 0, 0, 0, 0, 0, 0,\n",
            "         0, 0, 0, 0, 0, 0, 0, 0, 0, 0, 0, 0, 0, 0, 0, 0, 0, 0, 0, 0, 0, 0, 0, 0,\n",
            "         0, 0, 0, 0, 0, 0, 0, 0, 0, 0, 0, 0, 0, 0, 0, 0, 0, 0, 0, 0, 0, 0, 0, 0,\n",
            "         0, 0, 0, 0, 0, 0, 0, 0, 0, 0, 0, 0, 0, 0, 0, 0, 0, 0, 0, 0, 0, 0, 0, 0,\n",
            "         0, 0, 0, 0, 0, 0, 0, 0, 0, 0, 0, 0, 0, 0, 0, 0, 0, 0, 0, 0, 0, 0, 0, 0,\n",
            "         0, 0, 0, 0, 0, 0, 0, 0, 0, 0, 0, 0, 0, 0, 0, 0, 0, 0, 0, 0, 0, 0, 0, 0,\n",
            "         0, 0, 0, 0, 0, 0, 0, 0, 0, 0, 0, 0, 0, 0, 0, 0, 0, 0, 0, 0, 0, 0, 0, 0,\n",
            "         0, 0, 0, 0, 0, 0, 0, 0, 0, 0, 0, 0, 0, 0, 0, 0, 0, 0, 0, 0, 0, 0, 0, 0,\n",
            "         0, 0, 0, 0, 0, 0, 0, 0, 0, 0, 0, 0, 0, 0, 0, 0, 0, 0, 0, 0, 0, 0, 0, 0,\n",
            "         0, 0, 0, 0, 0, 0, 0, 0, 0, 0, 0, 0, 0, 0, 0, 0, 0, 0, 0, 0, 0, 0, 0, 0,\n",
            "         0, 0, 0, 0, 0, 0, 0, 0, 0, 0, 0, 0, 0, 0, 0, 0, 0, 0, 0, 0, 0, 0, 0, 0,\n",
            "         0, 0, 0, 0, 0, 0, 0, 0, 0, 0, 0, 0, 0, 0, 0, 0, 0, 0, 0, 0, 0, 0, 0, 0,\n",
            "         0, 0, 0, 0, 0, 0, 0, 0, 0, 0, 0, 0, 0, 0, 0, 0, 0, 0, 0, 0, 0, 0, 0, 0,\n",
            "         0, 0, 0, 0, 0, 0, 0, 0, 0, 0, 0, 0, 0, 0, 0, 0, 0, 0, 0, 0, 0, 0, 0, 0,\n",
            "         0, 0, 0, 0, 0, 0, 0, 0]])}\n"
          ]
        }
      ],
      "source": [
        "data, label = dataset[0]\n",
        "\n",
        "print(data)\n",
        "print(label)"
      ]
    },
    {
      "cell_type": "code",
      "execution_count": null,
      "metadata": {
        "id": "M90uwj05y1Np"
      },
      "outputs": [],
      "source": [
        "class FineTuneModelSeq2seq(LightningModule):\n",
        "    def __init__(self, model_name, num_classes, learning_rate=2e-5):\n",
        "        super(FineTuneModelSeq2seq, self).__init__()\n",
        "        self.model = AutoModelForSeq2SeqLM.from_pretrained(model_name, num_labels=num_classes)\n",
        "        self.tokenizer = AutoTokenizer.from_pretrained(model_name)\n",
        "        self.learning_rate = learning_rate\n",
        "\n",
        "    def forward(self, input_ids, attention_mask, labels=None):\n",
        "        return self.model(input_ids, attention_mask=attention_mask, labels=labels)\n",
        "\n",
        "    def training_step(self, batch, batch_idx):\n",
        "        input_ids, attention_mask, labels = batch\n",
        "        outputs = self(input_ids, attention_mask, labels)\n",
        "        loss = outputs.loss\n",
        "        return loss\n",
        "\n",
        "    def configure_optimizers(self):\n",
        "        optimizer = AdamW(self.parameters(), lr=self.learning_rate)\n",
        "        return optimizer"
      ]
    },
    {
      "cell_type": "code",
      "source": [
        "class FineTuneModelCausal(LightningModule):\n",
        "    def __init__(self, model_name, num_classes, learning_rate=2e-5):\n",
        "        super(FineTuneModelCausal, self).__init__()\n",
        "        self.model = AutoModelForCausalLM.from_pretrained(model_name, num_labels=num_classes)\n",
        "        self.tokenizer = AutoTokenizer.from_pretrained(model_name)\n",
        "        self.learning_rate = learning_rate\n",
        "\n",
        "    def forward(self, input_ids, attention_mask, labels=None):\n",
        "        return self.model(input_ids, attention_mask=attention_mask, labels=labels)\n",
        "\n",
        "    def training_step(self, batch, batch_idx):\n",
        "        input_ids, attention_mask, labels = batch\n",
        "        outputs = self(input_ids, attention_mask, labels)\n",
        "        loss = outputs.loss\n",
        "        return loss\n",
        "\n",
        "    def configure_optimizers(self):\n",
        "        optimizer = AdamW(self.parameters(), lr=self.learning_rate)\n",
        "        return optimizer"
      ],
      "metadata": {
        "id": "_b6DwEUREtOG"
      },
      "execution_count": null,
      "outputs": []
    }
  ],
  "metadata": {
    "colab": {
      "provenance": []
    },
    "kernelspec": {
      "display_name": ".venv",
      "language": "python",
      "name": "python3"
    },
    "language_info": {
      "codemirror_mode": {
        "name": "ipython",
        "version": 3
      },
      "file_extension": ".py",
      "mimetype": "text/x-python",
      "name": "python",
      "nbconvert_exporter": "python",
      "pygments_lexer": "ipython3",
      "version": "3.12.3"
    }
  },
  "nbformat": 4,
  "nbformat_minor": 0
}