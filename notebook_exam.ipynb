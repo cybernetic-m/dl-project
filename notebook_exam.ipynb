{
  "cells": [
    {
      "cell_type": "code",
      "source": [
        "!pip install pytorch_lightning"
      ],
      "metadata": {
        "colab": {
          "base_uri": "https://localhost:8080/"
        },
        "id": "OXefn4NEENvD",
        "outputId": "3197a718-17e9-4e07-ff3c-ab6732d6662c"
      },
      "execution_count": null,
      "outputs": [
        {
          "output_type": "stream",
          "name": "stdout",
          "text": [
            "Requirement already satisfied: pytorch_lightning in /usr/local/lib/python3.10/dist-packages (2.4.0)\n",
            "Requirement already satisfied: torch>=2.1.0 in /usr/local/lib/python3.10/dist-packages (from pytorch_lightning) (2.5.1+cu121)\n",
            "Requirement already satisfied: tqdm>=4.57.0 in /usr/local/lib/python3.10/dist-packages (from pytorch_lightning) (4.66.6)\n",
            "Requirement already satisfied: PyYAML>=5.4 in /usr/local/lib/python3.10/dist-packages (from pytorch_lightning) (6.0.2)\n",
            "Requirement already satisfied: fsspec>=2022.5.0 in /usr/local/lib/python3.10/dist-packages (from fsspec[http]>=2022.5.0->pytorch_lightning) (2024.10.0)\n",
            "Requirement already satisfied: torchmetrics>=0.7.0 in /usr/local/lib/python3.10/dist-packages (from pytorch_lightning) (1.6.0)\n",
            "Requirement already satisfied: packaging>=20.0 in /usr/local/lib/python3.10/dist-packages (from pytorch_lightning) (24.2)\n",
            "Requirement already satisfied: typing-extensions>=4.4.0 in /usr/local/lib/python3.10/dist-packages (from pytorch_lightning) (4.12.2)\n",
            "Requirement already satisfied: lightning-utilities>=0.10.0 in /usr/local/lib/python3.10/dist-packages (from pytorch_lightning) (0.11.9)\n",
            "Requirement already satisfied: aiohttp!=4.0.0a0,!=4.0.0a1 in /usr/local/lib/python3.10/dist-packages (from fsspec[http]>=2022.5.0->pytorch_lightning) (3.11.1)\n",
            "Requirement already satisfied: setuptools in /usr/local/lib/python3.10/dist-packages (from lightning-utilities>=0.10.0->pytorch_lightning) (75.1.0)\n",
            "Requirement already satisfied: filelock in /usr/local/lib/python3.10/dist-packages (from torch>=2.1.0->pytorch_lightning) (3.16.1)\n",
            "Requirement already satisfied: networkx in /usr/local/lib/python3.10/dist-packages (from torch>=2.1.0->pytorch_lightning) (3.4.2)\n",
            "Requirement already satisfied: jinja2 in /usr/local/lib/python3.10/dist-packages (from torch>=2.1.0->pytorch_lightning) (3.1.4)\n",
            "Requirement already satisfied: sympy==1.13.1 in /usr/local/lib/python3.10/dist-packages (from torch>=2.1.0->pytorch_lightning) (1.13.1)\n",
            "Requirement already satisfied: mpmath<1.4,>=1.1.0 in /usr/local/lib/python3.10/dist-packages (from sympy==1.13.1->torch>=2.1.0->pytorch_lightning) (1.3.0)\n",
            "Requirement already satisfied: numpy>1.20.0 in /usr/local/lib/python3.10/dist-packages (from torchmetrics>=0.7.0->pytorch_lightning) (1.26.4)\n",
            "Requirement already satisfied: aiohappyeyeballs>=2.3.0 in /usr/local/lib/python3.10/dist-packages (from aiohttp!=4.0.0a0,!=4.0.0a1->fsspec[http]>=2022.5.0->pytorch_lightning) (2.4.3)\n",
            "Requirement already satisfied: aiosignal>=1.1.2 in /usr/local/lib/python3.10/dist-packages (from aiohttp!=4.0.0a0,!=4.0.0a1->fsspec[http]>=2022.5.0->pytorch_lightning) (1.3.1)\n",
            "Requirement already satisfied: attrs>=17.3.0 in /usr/local/lib/python3.10/dist-packages (from aiohttp!=4.0.0a0,!=4.0.0a1->fsspec[http]>=2022.5.0->pytorch_lightning) (24.2.0)\n",
            "Requirement already satisfied: frozenlist>=1.1.1 in /usr/local/lib/python3.10/dist-packages (from aiohttp!=4.0.0a0,!=4.0.0a1->fsspec[http]>=2022.5.0->pytorch_lightning) (1.5.0)\n",
            "Requirement already satisfied: multidict<7.0,>=4.5 in /usr/local/lib/python3.10/dist-packages (from aiohttp!=4.0.0a0,!=4.0.0a1->fsspec[http]>=2022.5.0->pytorch_lightning) (6.1.0)\n",
            "Requirement already satisfied: propcache>=0.2.0 in /usr/local/lib/python3.10/dist-packages (from aiohttp!=4.0.0a0,!=4.0.0a1->fsspec[http]>=2022.5.0->pytorch_lightning) (0.2.0)\n",
            "Requirement already satisfied: yarl<2.0,>=1.17.0 in /usr/local/lib/python3.10/dist-packages (from aiohttp!=4.0.0a0,!=4.0.0a1->fsspec[http]>=2022.5.0->pytorch_lightning) (1.17.1)\n",
            "Requirement already satisfied: async-timeout<6.0,>=4.0 in /usr/local/lib/python3.10/dist-packages (from aiohttp!=4.0.0a0,!=4.0.0a1->fsspec[http]>=2022.5.0->pytorch_lightning) (4.0.3)\n",
            "Requirement already satisfied: MarkupSafe>=2.0 in /usr/local/lib/python3.10/dist-packages (from jinja2->torch>=2.1.0->pytorch_lightning) (3.0.2)\n",
            "Requirement already satisfied: idna>=2.0 in /usr/local/lib/python3.10/dist-packages (from yarl<2.0,>=1.17.0->aiohttp!=4.0.0a0,!=4.0.0a1->fsspec[http]>=2022.5.0->pytorch_lightning) (3.10)\n"
          ]
        }
      ]
    },
    {
      "cell_type": "markdown",
      "metadata": {
        "id": "l3O4mXmBol0t"
      },
      "source": [
        "# IMPORT"
      ]
    },
    {
      "cell_type": "code",
      "execution_count": null,
      "metadata": {
        "id": "9gQw18CXol0v"
      },
      "outputs": [],
      "source": [
        "# Model\n",
        "import torch\n",
        "import torch.nn as nn\n",
        "from torch.utils.data import Dataset, DataLoader\n",
        "from transformers import AutoModelForCausalLM, AutoModelForSeq2SeqLM, AutoTokenizer, AdamW\n",
        "from pytorch_lightning import LightningModule, Trainer\n",
        "\n",
        "# Dataset\n",
        "import pandas as pd\n",
        "import zipfile\n",
        "import gdown\n",
        "#from datasets import Dataset, DatasetDict\n",
        "\n",
        "import os\n",
        "import io\n",
        "import traceback\n",
        "\n",
        "import csv\n",
        "\n",
        "import numpy as np\n",
        "import matplotlib.pyplot as plt\n"
      ]
    },
    {
      "cell_type": "markdown",
      "metadata": {
        "id": "O6rlI4fHoYWG"
      },
      "source": [
        "**Reproducibility**"
      ]
    },
    {
      "cell_type": "code",
      "execution_count": null,
      "metadata": {
        "id": "7KKa1CnfoYWJ"
      },
      "outputs": [],
      "source": [
        "# Set the seed\n",
        "seed = 46\n",
        "\n",
        "# Set seed for torch, numpy and random libraries\n",
        "#torch.backends.cudnn.deterministic = True\n",
        "#torch.backends.cudnn.benchmark = False\n",
        "torch.manual_seed(seed)\n",
        "np.random.seed(seed)\n",
        "\n",
        "# Set the devide mode on GPU (if available CUDA for Nvidia and  MPS for Apple Silicon) or CPU\n",
        "if torch.cuda.is_available():\n",
        "    device = \"cuda\"\n",
        "elif torch.backends.mps.is_available():\n",
        "    device = \"mps\"\n",
        "else:\n",
        "    device = \"cpu\""
      ]
    },
    {
      "cell_type": "markdown",
      "metadata": {
        "id": "FFQrCrM-ol0w"
      },
      "source": [
        "# DATASET"
      ]
    },
    {
      "cell_type": "code",
      "execution_count": null,
      "metadata": {
        "id": "FIjenOEuol0w"
      },
      "outputs": [],
      "source": [
        "def download_csv(link_zipped_csv, gdrive_link, zipped_file):\n",
        "\n",
        "    file_id = link_zipped_csv.split('/')[-2]  # Take the file_id (Ex. \"https://drive.google.com/file/d/1BMj4BGXxIMzsd-GYSAEMpB7CF0XB87UT/view?usp=sharing\" => file_id: 1BMj4BGXxIMzsd-GYSAEMpB7CF0XB87UT)\n",
        "    download_link = gdrive_link + file_id # Create the path for gdown (Ex. https://drive.google.com/uc?id={YOUR_FILE_ID})\n",
        "\n",
        "    try:\n",
        "        if not os.path.exists(zipped_file):\n",
        "\n",
        "            gdown.download(\n",
        "                download_link,\n",
        "                zipped_file,\n",
        "                quiet=False\n",
        "                )\n",
        "        else:\n",
        "            print(\"CSV file already downloaded!\")\n",
        "\n",
        "\n",
        "    except Exception as error:\n",
        "        print(\"An error occured:\", error)\n",
        "        traceback.print_exc()"
      ]
    },
    {
      "cell_type": "code",
      "execution_count": null,
      "metadata": {
        "id": "xLSu3LjIol0w"
      },
      "outputs": [],
      "source": [
        "def unzip_csv(csv_zip, csv_dir):\n",
        "\n",
        "    try:\n",
        "        if not os.path.exists(csv_dir):\n",
        "            os.mkdir(csv_dir) # Create the csv_dir directory where we extract files (if not exists)\n",
        "\n",
        "        if len(os.listdir(csv_dir)) == 0:\n",
        "            with zipfile.ZipFile(csv_zip, 'r') as zip:\n",
        "                filelist = zip.namelist() # list of the file inside zip : ['csv /multilingual_nli_test_df.csv', 'csv /tweet_emotions.csv', ...]\n",
        "\n",
        "                # Iterate over all file in the zip file to extract them\n",
        "                for filename in filelist:\n",
        "                    zip.extract(filename, csv_dir) # Extract the file inside the csv_dir\n",
        "\n",
        "        else:\n",
        "            print(\"CSV file already unzipped!\")\n",
        "\n",
        "\n",
        "    except Exception as error:\n",
        "        print(\"An error occured:\", error)\n",
        "        traceback.print_exc()"
      ]
    },
    {
      "cell_type": "markdown",
      "metadata": {
        "id": "usRzMegfol0x"
      },
      "source": [
        "# Download CSV\n",
        "\n",
        "We have downloaded different csv files containing text from:\n",
        "\n",
        "- Kaggle: https://www.kaggle.com/datasets?search=text\n",
        "- Hugging Face: https://huggingface.co/datasets?modality=modality:text&sort=trending\n",
        "\n",
        "Then we have zipped all csv and loading on Google Drive the csv.zip file.\n",
        "\n",
        "In this part there is the downloading of the entire zipped dataset to preprocess (eliminate labels, taking only contents).\n",
        "\n",
        "In particular:\n",
        "\n",
        "1. muhammadravi251001/multilingual-nli-dataset: https://huggingface.co/datasets/muhammadravi251001/multilingual-nli-dataset/tree/main\n",
        "\n",
        "?? 2. Multi-lingual HateSpeech Dataset: https://www.kaggle.com/datasets/wajidhassanmoosa/multilingual-hatespeech-dataset?select=Dataset\n",
        "\n",
        "3. Multilingual Sentiment Datasets: https://github.com/tyqiangz/multilingual-sentiment-datasets/tree/main\n",
        "\n",
        "4. molamin/Kinyarwanda_Engligh_Multilingual_ASR: https://huggingface.co/datasets/molamin/Kinyarwanda_Engligh_Multilingual_ASR/tree/main\n",
        "\n",
        "5. odunola/multilingual-sentiments: https://huggingface.co/datasets/odunola/multilingual-sentiments/tree/main\n",
        "\n",
        "To simplify the process, we have renamed as \"text\" each column that we want to take from csv file, discarding the others!\n"
      ]
    },
    {
      "cell_type": "code",
      "execution_count": null,
      "metadata": {
        "colab": {
          "base_uri": "https://localhost:8080/"
        },
        "id": "1mHN7T9Rol0x",
        "outputId": "28e95d14-4fb4-474f-8bd3-f0ac0dc7371b"
      },
      "outputs": [
        {
          "output_type": "stream",
          "name": "stdout",
          "text": [
            "CSV file already downloaded!\n",
            "CSV file already unzipped!\n"
          ]
        }
      ],
      "source": [
        "link_zipped_csv = 'https://drive.google.com/file/d/1WrXbLSkZzS-QGDjWk2_6dLOBIo-4KMBd/view?usp=drive_link'\n",
        "gdrive_link = 'https://drive.google.com/uc?id='\n",
        "csv_dir = './csv'\n",
        "zipped_file = './csv.zip'\n",
        "\n",
        "download_csv(\n",
        "    link_zipped_csv,\n",
        "    gdrive_link,\n",
        "    zipped_file\n",
        ")\n",
        "\n",
        "unzip_csv(\n",
        "    zipped_file,\n",
        "    csv_dir,\n",
        ")\n"
      ]
    },
    {
      "cell_type": "code",
      "execution_count": null,
      "metadata": {
        "id": "w264QXccol0x"
      },
      "outputs": [],
      "source": [
        "def load_dataset_dict(csv_path):\n",
        "\n",
        "    # Initialization of the dictionary of input data (text) {'filename': ['hi ...','I am ...']}\n",
        "    text_dict = {}\n",
        "\n",
        "    filelist = os.listdir(csv_path) # List of all csv file ['filename_1.csv', ...]\n",
        "\n",
        "    # Iterate over all csv file in the directory\n",
        "    for filename in filelist:\n",
        "        # Initialization of the list containing all the texts in a csv file\n",
        "\n",
        "        text_dict[filename] = []\n",
        "        # Open the i-th csv file\n",
        "        with open(csv_path + '/' + filename) as csv_file:\n",
        "\n",
        "            # Read row by row. Each row is a dictionary with:\n",
        "            # 1. Key: Name of the column\n",
        "            # 2. Value: Content of the row\n",
        "            reader = csv.DictReader(csv_file)\n",
        "\n",
        "            # Iterate over each row of the csv\n",
        "            # Ex. ['audio_filepath': 'test_data/37506.wav', 'duration': '15.9279375', 'text': 'maze mvugisha ururimi nti everyone should have..]\n",
        "            for row in reader:\n",
        "                # Append to the list each row of the column text\n",
        "                text_dict[filename].append(row['text'])\n",
        "\n",
        "    return text_dict"
      ]
    },
    {
      "cell_type": "code",
      "execution_count": null,
      "metadata": {
        "id": "z9_VXNCMoYW3"
      },
      "outputs": [],
      "source": [
        "def texty(text_dict, min=10, max=500):\n",
        "\n",
        "    # Create a list of the type [\"my name is\", \"Hi, how are you?\", ....]\n",
        "    text_list = []\n",
        "\n",
        "    text_dict_values = []\n",
        "    # Put in a single list all the values (rows of all csv files)\n",
        "    for value in text_dict.values():\n",
        "        text_dict_values += value\n",
        "\n",
        "    # Number of total row in all csv files\n",
        "    total_row = len(text_dict_values)\n",
        "\n",
        "    #\n",
        "    sum_ = 0\n",
        "    random_length_list = []\n",
        "\n",
        "    while(True):\n",
        "        random_length = np.random.randint(min,max)\n",
        "        sum_ += random_length\n",
        "        random_length_list.append(random_length)\n",
        "        if sum_ >= total_row - max:\n",
        "            random_length_list.append(total_row - sum_)\n",
        "            break\n",
        "\n",
        "    start = 0\n",
        "    for length in random_length_list:\n",
        "        text_list.append('\\n'.join(text_dict_values[start:start+length+1]))\n",
        "        start += length\n",
        "\n",
        "    return text_list"
      ]
    },
    {
      "cell_type": "code",
      "execution_count": null,
      "metadata": {
        "id": "QESVI_4ZrOho"
      },
      "outputs": [],
      "source": [
        "def zippy(text_list):\n",
        "\n",
        "  # Initialization of the dictionary of labels (zip file) {'filename': ['101 ...','010 ...']}\n",
        "  labels_list = []\n",
        "\n",
        "  for text in text_list:\n",
        "    zip_buffer = io.BytesIO()\n",
        "\n",
        "    with zipfile.ZipFile(file=zip_buffer, mode='w', compression=zipfile.ZIP_LZMA) as byte:\n",
        "      byte.writestr(\"file.txt\", text)\n",
        "\n",
        "    labels_list.append(zip_buffer.getvalue().hex())\n",
        "\n",
        "  return labels_list"
      ]
    },
    {
      "cell_type": "code",
      "source": [
        "def split(listToSplit, splitPercentages):\n",
        "  length = len(listToSplit)\n",
        "  splittedList = []\n",
        "  lastIndex = 0\n",
        "  for percentageIndex in range(len(splitPercentages)):\n",
        "    print(lastIndex)\n",
        "    splittedList.append(listToSplit[lastIndex:lastIndex+int(splitPercentages[percentageIndex]*length)])\n",
        "    lastIndex += int(splitPercentages[percentageIndex]*length)\n",
        "\n",
        "  return splittedList\n",
        "\n"
      ],
      "metadata": {
        "id": "7NL7HUCs4lwH"
      },
      "execution_count": null,
      "outputs": []
    },
    {
      "cell_type": "code",
      "execution_count": null,
      "metadata": {
        "id": "vzy0t5qioYXB"
      },
      "outputs": [],
      "source": [
        "class ZipDataset(Dataset):\n",
        "\n",
        "    def __init__(self, data, labels, model_name, to_tokenize=True):\n",
        "        self.data = data\n",
        "        self.labels = labels\n",
        "        self.to_tokenize = to_tokenize\n",
        "\n",
        "        if self.to_tokenize:\n",
        "            self.tokenizer = AutoTokenizer.from_pretrained(model_name)\n",
        "            self.tokenize(data, labels)\n",
        "\n",
        "    def __getitem__(self, index):\n",
        "        if self.to_tokenize:\n",
        "            return self.tokenized_data[index], self.tokenized_labels[index]\n",
        "        else:\n",
        "            return self.data[index]['input_ids'], self.data[index]['attention_mask'], self.labels[index]['input_ids']\n",
        "\n",
        "    def __len__(self):\n",
        "        return len(self.data)\n",
        "\n",
        "    def tokenize(self, text_list, labels_list):\n",
        "        self.tokenized_data = []\n",
        "        self.tokenized_labels = []\n",
        "        for text, label in zip(text_list,labels_list):\n",
        "\n",
        "            tokenized_text = self.tokenizer(\n",
        "                text,\n",
        "                padding=\"max_length\",\n",
        "                truncation=True,\n",
        "                return_tensors=\"pt\"\n",
        "            )\n",
        "            self.tokenized_data.append(tokenized_text)\n",
        "\n",
        "\n",
        "            tokenized_label = self.tokenizer(\n",
        "                label,\n",
        "                padding=\"max_length\",\n",
        "                truncation=True,\n",
        "                return_tensors=\"pt\"\n",
        "            )\n",
        "            self.tokenized_labels.append(tokenized_label)"
      ]
    },
    {
      "cell_type": "code",
      "execution_count": null,
      "metadata": {
        "id": "Qbi7F-mIol0x",
        "colab": {
          "base_uri": "https://localhost:8080/"
        },
        "outputId": "f5b96e21-674d-4130-fc81-e9b3b4f6a760"
      },
      "outputs": [
        {
          "output_type": "stream",
          "name": "stdout",
          "text": [
            "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\n"
          ]
        }
      ],
      "source": [
        "text_dict = load_dataset_dict(\"./csv\")\n",
        "\n",
        "text_list = texty(text_dict=text_dict)\n",
        "\n",
        "splitPerc = [0.7,0.2,0.1]\n",
        "\n",
        "\n",
        "#print(text_list[3])\n",
        "#print(len(text_list[5]))\n",
        "\n",
        "labels_list = zippy(text_list)\n",
        "print(labels_list[4])"
      ]
    },
    {
      "cell_type": "code",
      "source": [
        "splitted_text = split(text_list, splitPerc)"
      ],
      "metadata": {
        "colab": {
          "base_uri": "https://localhost:8080/"
        },
        "id": "5Or0C9kh7MZG",
        "outputId": "498b1083-cbec-4268-fed4-bc62918e17ce"
      },
      "execution_count": null,
      "outputs": [
        {
          "output_type": "stream",
          "name": "stdout",
          "text": [
            "0\n",
            "144\n",
            "185\n"
          ]
        }
      ]
    },
    {
      "cell_type": "code",
      "source": [
        "len(splitted_text[1])"
      ],
      "metadata": {
        "colab": {
          "base_uri": "https://localhost:8080/"
        },
        "id": "e_uXajFz75uI",
        "outputId": "9f85e42c-6fda-48dc-cc86-0fd74013dc89"
      },
      "execution_count": null,
      "outputs": [
        {
          "output_type": "execute_result",
          "data": {
            "text/plain": [
              "41"
            ]
          },
          "metadata": {},
          "execution_count": 15
        }
      ]
    },
    {
      "cell_type": "code",
      "source": [
        "len(text_list)"
      ],
      "metadata": {
        "colab": {
          "base_uri": "https://localhost:8080/"
        },
        "id": "h1rPTTh48Kip",
        "outputId": "d5be9a4c-17fb-4599-9356-3ce9cb93047c"
      },
      "execution_count": null,
      "outputs": [
        {
          "output_type": "execute_result",
          "data": {
            "text/plain": [
              "206"
            ]
          },
          "metadata": {},
          "execution_count": 16
        }
      ]
    },
    {
      "cell_type": "code",
      "source": [
        "splitted_labels = split(labels_list, splitPerc)"
      ],
      "metadata": {
        "colab": {
          "base_uri": "https://localhost:8080/"
        },
        "id": "4RV9G3qI87Sq",
        "outputId": "6ed59a44-822d-4e33-990c-ad52e927a080"
      },
      "execution_count": null,
      "outputs": [
        {
          "output_type": "stream",
          "name": "stdout",
          "text": [
            "0\n",
            "144\n",
            "185\n"
          ]
        }
      ]
    },
    {
      "cell_type": "markdown",
      "metadata": {
        "id": "pnlFgCAkol0x"
      },
      "source": [
        "# MODEL"
      ]
    },
    {
      "cell_type": "code",
      "execution_count": null,
      "metadata": {
        "id": "dE0Y11cqrmhh",
        "colab": {
          "base_uri": "https://localhost:8080/"
        },
        "outputId": "255b8d7e-0304-4b24-c265-9136c037fa52"
      },
      "outputs": [
        {
          "output_type": "stream",
          "name": "stderr",
          "text": [
            "/usr/local/lib/python3.10/dist-packages/huggingface_hub/utils/_auth.py:94: UserWarning: \n",
            "The secret `HF_TOKEN` does not exist in your Colab secrets.\n",
            "To authenticate with the Hugging Face Hub, create a token in your settings tab (https://huggingface.co/settings/tokens), set it as secret in your Google Colab and restart your session.\n",
            "You will be able to reuse this secret in all of your notebooks.\n",
            "Please note that authentication is recommended but still optional to access public models or datasets.\n",
            "  warnings.warn(\n"
          ]
        }
      ],
      "source": [
        "model_name = \"bert-base-uncased\"\n",
        "dataset_train = ZipDataset(text_list[0], labels_list[0], model_name, to_tokenize=True)\n",
        "dataset_test = ZipDataset(text_list[1], labels_list[1], model_name, to_tokenize=True)\n",
        "dataset_val = ZipDataset(text_list[2], labels_list[2], model_name, to_tokenize=True)"
      ]
    },
    {
      "cell_type": "code",
      "execution_count": null,
      "metadata": {
        "colab": {
          "base_uri": "https://localhost:8080/"
        },
        "id": "BcsYRcFjoYXH",
        "outputId": "65751232-af80-47a8-cdb5-756a1b9ad4a8"
      },
      "outputs": [
        {
          "output_type": "stream",
          "name": "stdout",
          "text": [
            "{'input_ids': tensor([[ 101, 1047,  102,    0,    0,    0,    0,    0,    0,    0,    0,    0,\n",
            "            0,    0,    0,    0,    0,    0,    0,    0,    0,    0,    0,    0,\n",
            "            0,    0,    0,    0,    0,    0,    0,    0,    0,    0,    0,    0,\n",
            "            0,    0,    0,    0,    0,    0,    0,    0,    0,    0,    0,    0,\n",
            "            0,    0,    0,    0,    0,    0,    0,    0,    0,    0,    0,    0,\n",
            "            0,    0,    0,    0,    0,    0,    0,    0,    0,    0,    0,    0,\n",
            "            0,    0,    0,    0,    0,    0,    0,    0,    0,    0,    0,    0,\n",
            "            0,    0,    0,    0,    0,    0,    0,    0,    0,    0,    0,    0,\n",
            "            0,    0,    0,    0,    0,    0,    0,    0,    0,    0,    0,    0,\n",
            "            0,    0,    0,    0,    0,    0,    0,    0,    0,    0,    0,    0,\n",
            "            0,    0,    0,    0,    0,    0,    0,    0,    0,    0,    0,    0,\n",
            "            0,    0,    0,    0,    0,    0,    0,    0,    0,    0,    0,    0,\n",
            "            0,    0,    0,    0,    0,    0,    0,    0,    0,    0,    0,    0,\n",
            "            0,    0,    0,    0,    0,    0,    0,    0,    0,    0,    0,    0,\n",
            "            0,    0,    0,    0,    0,    0,    0,    0,    0,    0,    0,    0,\n",
            "            0,    0,    0,    0,    0,    0,    0,    0,    0,    0,    0,    0,\n",
            "            0,    0,    0,    0,    0,    0,    0,    0,    0,    0,    0,    0,\n",
            "            0,    0,    0,    0,    0,    0,    0,    0,    0,    0,    0,    0,\n",
            "            0,    0,    0,    0,    0,    0,    0,    0,    0,    0,    0,    0,\n",
            "            0,    0,    0,    0,    0,    0,    0,    0,    0,    0,    0,    0,\n",
            "            0,    0,    0,    0,    0,    0,    0,    0,    0,    0,    0,    0,\n",
            "            0,    0,    0,    0,    0,    0,    0,    0,    0,    0,    0,    0,\n",
            "            0,    0,    0,    0,    0,    0,    0,    0,    0,    0,    0,    0,\n",
            "            0,    0,    0,    0,    0,    0,    0,    0,    0,    0,    0,    0,\n",
            "            0,    0,    0,    0,    0,    0,    0,    0,    0,    0,    0,    0,\n",
            "            0,    0,    0,    0,    0,    0,    0,    0,    0,    0,    0,    0,\n",
            "            0,    0,    0,    0,    0,    0,    0,    0,    0,    0,    0,    0,\n",
            "            0,    0,    0,    0,    0,    0,    0,    0,    0,    0,    0,    0,\n",
            "            0,    0,    0,    0,    0,    0,    0,    0,    0,    0,    0,    0,\n",
            "            0,    0,    0,    0,    0,    0,    0,    0,    0,    0,    0,    0,\n",
            "            0,    0,    0,    0,    0,    0,    0,    0,    0,    0,    0,    0,\n",
            "            0,    0,    0,    0,    0,    0,    0,    0,    0,    0,    0,    0,\n",
            "            0,    0,    0,    0,    0,    0,    0,    0,    0,    0,    0,    0,\n",
            "            0,    0,    0,    0,    0,    0,    0,    0,    0,    0,    0,    0,\n",
            "            0,    0,    0,    0,    0,    0,    0,    0,    0,    0,    0,    0,\n",
            "            0,    0,    0,    0,    0,    0,    0,    0,    0,    0,    0,    0,\n",
            "            0,    0,    0,    0,    0,    0,    0,    0,    0,    0,    0,    0,\n",
            "            0,    0,    0,    0,    0,    0,    0,    0,    0,    0,    0,    0,\n",
            "            0,    0,    0,    0,    0,    0,    0,    0,    0,    0,    0,    0,\n",
            "            0,    0,    0,    0,    0,    0,    0,    0,    0,    0,    0,    0,\n",
            "            0,    0,    0,    0,    0,    0,    0,    0,    0,    0,    0,    0,\n",
            "            0,    0,    0,    0,    0,    0,    0,    0,    0,    0,    0,    0,\n",
            "            0,    0,    0,    0,    0,    0,    0,    0]]), 'token_type_ids': tensor([[0, 0, 0, 0, 0, 0, 0, 0, 0, 0, 0, 0, 0, 0, 0, 0, 0, 0, 0, 0, 0, 0, 0, 0,\n",
            "         0, 0, 0, 0, 0, 0, 0, 0, 0, 0, 0, 0, 0, 0, 0, 0, 0, 0, 0, 0, 0, 0, 0, 0,\n",
            "         0, 0, 0, 0, 0, 0, 0, 0, 0, 0, 0, 0, 0, 0, 0, 0, 0, 0, 0, 0, 0, 0, 0, 0,\n",
            "         0, 0, 0, 0, 0, 0, 0, 0, 0, 0, 0, 0, 0, 0, 0, 0, 0, 0, 0, 0, 0, 0, 0, 0,\n",
            "         0, 0, 0, 0, 0, 0, 0, 0, 0, 0, 0, 0, 0, 0, 0, 0, 0, 0, 0, 0, 0, 0, 0, 0,\n",
            "         0, 0, 0, 0, 0, 0, 0, 0, 0, 0, 0, 0, 0, 0, 0, 0, 0, 0, 0, 0, 0, 0, 0, 0,\n",
            "         0, 0, 0, 0, 0, 0, 0, 0, 0, 0, 0, 0, 0, 0, 0, 0, 0, 0, 0, 0, 0, 0, 0, 0,\n",
            "         0, 0, 0, 0, 0, 0, 0, 0, 0, 0, 0, 0, 0, 0, 0, 0, 0, 0, 0, 0, 0, 0, 0, 0,\n",
            "         0, 0, 0, 0, 0, 0, 0, 0, 0, 0, 0, 0, 0, 0, 0, 0, 0, 0, 0, 0, 0, 0, 0, 0,\n",
            "         0, 0, 0, 0, 0, 0, 0, 0, 0, 0, 0, 0, 0, 0, 0, 0, 0, 0, 0, 0, 0, 0, 0, 0,\n",
            "         0, 0, 0, 0, 0, 0, 0, 0, 0, 0, 0, 0, 0, 0, 0, 0, 0, 0, 0, 0, 0, 0, 0, 0,\n",
            "         0, 0, 0, 0, 0, 0, 0, 0, 0, 0, 0, 0, 0, 0, 0, 0, 0, 0, 0, 0, 0, 0, 0, 0,\n",
            "         0, 0, 0, 0, 0, 0, 0, 0, 0, 0, 0, 0, 0, 0, 0, 0, 0, 0, 0, 0, 0, 0, 0, 0,\n",
            "         0, 0, 0, 0, 0, 0, 0, 0, 0, 0, 0, 0, 0, 0, 0, 0, 0, 0, 0, 0, 0, 0, 0, 0,\n",
            "         0, 0, 0, 0, 0, 0, 0, 0, 0, 0, 0, 0, 0, 0, 0, 0, 0, 0, 0, 0, 0, 0, 0, 0,\n",
            "         0, 0, 0, 0, 0, 0, 0, 0, 0, 0, 0, 0, 0, 0, 0, 0, 0, 0, 0, 0, 0, 0, 0, 0,\n",
            "         0, 0, 0, 0, 0, 0, 0, 0, 0, 0, 0, 0, 0, 0, 0, 0, 0, 0, 0, 0, 0, 0, 0, 0,\n",
            "         0, 0, 0, 0, 0, 0, 0, 0, 0, 0, 0, 0, 0, 0, 0, 0, 0, 0, 0, 0, 0, 0, 0, 0,\n",
            "         0, 0, 0, 0, 0, 0, 0, 0, 0, 0, 0, 0, 0, 0, 0, 0, 0, 0, 0, 0, 0, 0, 0, 0,\n",
            "         0, 0, 0, 0, 0, 0, 0, 0, 0, 0, 0, 0, 0, 0, 0, 0, 0, 0, 0, 0, 0, 0, 0, 0,\n",
            "         0, 0, 0, 0, 0, 0, 0, 0, 0, 0, 0, 0, 0, 0, 0, 0, 0, 0, 0, 0, 0, 0, 0, 0,\n",
            "         0, 0, 0, 0, 0, 0, 0, 0]]), 'attention_mask': tensor([[1, 1, 1, 0, 0, 0, 0, 0, 0, 0, 0, 0, 0, 0, 0, 0, 0, 0, 0, 0, 0, 0, 0, 0,\n",
            "         0, 0, 0, 0, 0, 0, 0, 0, 0, 0, 0, 0, 0, 0, 0, 0, 0, 0, 0, 0, 0, 0, 0, 0,\n",
            "         0, 0, 0, 0, 0, 0, 0, 0, 0, 0, 0, 0, 0, 0, 0, 0, 0, 0, 0, 0, 0, 0, 0, 0,\n",
            "         0, 0, 0, 0, 0, 0, 0, 0, 0, 0, 0, 0, 0, 0, 0, 0, 0, 0, 0, 0, 0, 0, 0, 0,\n",
            "         0, 0, 0, 0, 0, 0, 0, 0, 0, 0, 0, 0, 0, 0, 0, 0, 0, 0, 0, 0, 0, 0, 0, 0,\n",
            "         0, 0, 0, 0, 0, 0, 0, 0, 0, 0, 0, 0, 0, 0, 0, 0, 0, 0, 0, 0, 0, 0, 0, 0,\n",
            "         0, 0, 0, 0, 0, 0, 0, 0, 0, 0, 0, 0, 0, 0, 0, 0, 0, 0, 0, 0, 0, 0, 0, 0,\n",
            "         0, 0, 0, 0, 0, 0, 0, 0, 0, 0, 0, 0, 0, 0, 0, 0, 0, 0, 0, 0, 0, 0, 0, 0,\n",
            "         0, 0, 0, 0, 0, 0, 0, 0, 0, 0, 0, 0, 0, 0, 0, 0, 0, 0, 0, 0, 0, 0, 0, 0,\n",
            "         0, 0, 0, 0, 0, 0, 0, 0, 0, 0, 0, 0, 0, 0, 0, 0, 0, 0, 0, 0, 0, 0, 0, 0,\n",
            "         0, 0, 0, 0, 0, 0, 0, 0, 0, 0, 0, 0, 0, 0, 0, 0, 0, 0, 0, 0, 0, 0, 0, 0,\n",
            "         0, 0, 0, 0, 0, 0, 0, 0, 0, 0, 0, 0, 0, 0, 0, 0, 0, 0, 0, 0, 0, 0, 0, 0,\n",
            "         0, 0, 0, 0, 0, 0, 0, 0, 0, 0, 0, 0, 0, 0, 0, 0, 0, 0, 0, 0, 0, 0, 0, 0,\n",
            "         0, 0, 0, 0, 0, 0, 0, 0, 0, 0, 0, 0, 0, 0, 0, 0, 0, 0, 0, 0, 0, 0, 0, 0,\n",
            "         0, 0, 0, 0, 0, 0, 0, 0, 0, 0, 0, 0, 0, 0, 0, 0, 0, 0, 0, 0, 0, 0, 0, 0,\n",
            "         0, 0, 0, 0, 0, 0, 0, 0, 0, 0, 0, 0, 0, 0, 0, 0, 0, 0, 0, 0, 0, 0, 0, 0,\n",
            "         0, 0, 0, 0, 0, 0, 0, 0, 0, 0, 0, 0, 0, 0, 0, 0, 0, 0, 0, 0, 0, 0, 0, 0,\n",
            "         0, 0, 0, 0, 0, 0, 0, 0, 0, 0, 0, 0, 0, 0, 0, 0, 0, 0, 0, 0, 0, 0, 0, 0,\n",
            "         0, 0, 0, 0, 0, 0, 0, 0, 0, 0, 0, 0, 0, 0, 0, 0, 0, 0, 0, 0, 0, 0, 0, 0,\n",
            "         0, 0, 0, 0, 0, 0, 0, 0, 0, 0, 0, 0, 0, 0, 0, 0, 0, 0, 0, 0, 0, 0, 0, 0,\n",
            "         0, 0, 0, 0, 0, 0, 0, 0, 0, 0, 0, 0, 0, 0, 0, 0, 0, 0, 0, 0, 0, 0, 0, 0,\n",
            "         0, 0, 0, 0, 0, 0, 0, 0]])}\n",
            "{'input_ids': tensor([[ 101, 1019,  102,    0,    0,    0,    0,    0,    0,    0,    0,    0,\n",
            "            0,    0,    0,    0,    0,    0,    0,    0,    0,    0,    0,    0,\n",
            "            0,    0,    0,    0,    0,    0,    0,    0,    0,    0,    0,    0,\n",
            "            0,    0,    0,    0,    0,    0,    0,    0,    0,    0,    0,    0,\n",
            "            0,    0,    0,    0,    0,    0,    0,    0,    0,    0,    0,    0,\n",
            "            0,    0,    0,    0,    0,    0,    0,    0,    0,    0,    0,    0,\n",
            "            0,    0,    0,    0,    0,    0,    0,    0,    0,    0,    0,    0,\n",
            "            0,    0,    0,    0,    0,    0,    0,    0,    0,    0,    0,    0,\n",
            "            0,    0,    0,    0,    0,    0,    0,    0,    0,    0,    0,    0,\n",
            "            0,    0,    0,    0,    0,    0,    0,    0,    0,    0,    0,    0,\n",
            "            0,    0,    0,    0,    0,    0,    0,    0,    0,    0,    0,    0,\n",
            "            0,    0,    0,    0,    0,    0,    0,    0,    0,    0,    0,    0,\n",
            "            0,    0,    0,    0,    0,    0,    0,    0,    0,    0,    0,    0,\n",
            "            0,    0,    0,    0,    0,    0,    0,    0,    0,    0,    0,    0,\n",
            "            0,    0,    0,    0,    0,    0,    0,    0,    0,    0,    0,    0,\n",
            "            0,    0,    0,    0,    0,    0,    0,    0,    0,    0,    0,    0,\n",
            "            0,    0,    0,    0,    0,    0,    0,    0,    0,    0,    0,    0,\n",
            "            0,    0,    0,    0,    0,    0,    0,    0,    0,    0,    0,    0,\n",
            "            0,    0,    0,    0,    0,    0,    0,    0,    0,    0,    0,    0,\n",
            "            0,    0,    0,    0,    0,    0,    0,    0,    0,    0,    0,    0,\n",
            "            0,    0,    0,    0,    0,    0,    0,    0,    0,    0,    0,    0,\n",
            "            0,    0,    0,    0,    0,    0,    0,    0,    0,    0,    0,    0,\n",
            "            0,    0,    0,    0,    0,    0,    0,    0,    0,    0,    0,    0,\n",
            "            0,    0,    0,    0,    0,    0,    0,    0,    0,    0,    0,    0,\n",
            "            0,    0,    0,    0,    0,    0,    0,    0,    0,    0,    0,    0,\n",
            "            0,    0,    0,    0,    0,    0,    0,    0,    0,    0,    0,    0,\n",
            "            0,    0,    0,    0,    0,    0,    0,    0,    0,    0,    0,    0,\n",
            "            0,    0,    0,    0,    0,    0,    0,    0,    0,    0,    0,    0,\n",
            "            0,    0,    0,    0,    0,    0,    0,    0,    0,    0,    0,    0,\n",
            "            0,    0,    0,    0,    0,    0,    0,    0,    0,    0,    0,    0,\n",
            "            0,    0,    0,    0,    0,    0,    0,    0,    0,    0,    0,    0,\n",
            "            0,    0,    0,    0,    0,    0,    0,    0,    0,    0,    0,    0,\n",
            "            0,    0,    0,    0,    0,    0,    0,    0,    0,    0,    0,    0,\n",
            "            0,    0,    0,    0,    0,    0,    0,    0,    0,    0,    0,    0,\n",
            "            0,    0,    0,    0,    0,    0,    0,    0,    0,    0,    0,    0,\n",
            "            0,    0,    0,    0,    0,    0,    0,    0,    0,    0,    0,    0,\n",
            "            0,    0,    0,    0,    0,    0,    0,    0,    0,    0,    0,    0,\n",
            "            0,    0,    0,    0,    0,    0,    0,    0,    0,    0,    0,    0,\n",
            "            0,    0,    0,    0,    0,    0,    0,    0,    0,    0,    0,    0,\n",
            "            0,    0,    0,    0,    0,    0,    0,    0,    0,    0,    0,    0,\n",
            "            0,    0,    0,    0,    0,    0,    0,    0,    0,    0,    0,    0,\n",
            "            0,    0,    0,    0,    0,    0,    0,    0,    0,    0,    0,    0,\n",
            "            0,    0,    0,    0,    0,    0,    0,    0]]), 'token_type_ids': tensor([[0, 0, 0, 0, 0, 0, 0, 0, 0, 0, 0, 0, 0, 0, 0, 0, 0, 0, 0, 0, 0, 0, 0, 0,\n",
            "         0, 0, 0, 0, 0, 0, 0, 0, 0, 0, 0, 0, 0, 0, 0, 0, 0, 0, 0, 0, 0, 0, 0, 0,\n",
            "         0, 0, 0, 0, 0, 0, 0, 0, 0, 0, 0, 0, 0, 0, 0, 0, 0, 0, 0, 0, 0, 0, 0, 0,\n",
            "         0, 0, 0, 0, 0, 0, 0, 0, 0, 0, 0, 0, 0, 0, 0, 0, 0, 0, 0, 0, 0, 0, 0, 0,\n",
            "         0, 0, 0, 0, 0, 0, 0, 0, 0, 0, 0, 0, 0, 0, 0, 0, 0, 0, 0, 0, 0, 0, 0, 0,\n",
            "         0, 0, 0, 0, 0, 0, 0, 0, 0, 0, 0, 0, 0, 0, 0, 0, 0, 0, 0, 0, 0, 0, 0, 0,\n",
            "         0, 0, 0, 0, 0, 0, 0, 0, 0, 0, 0, 0, 0, 0, 0, 0, 0, 0, 0, 0, 0, 0, 0, 0,\n",
            "         0, 0, 0, 0, 0, 0, 0, 0, 0, 0, 0, 0, 0, 0, 0, 0, 0, 0, 0, 0, 0, 0, 0, 0,\n",
            "         0, 0, 0, 0, 0, 0, 0, 0, 0, 0, 0, 0, 0, 0, 0, 0, 0, 0, 0, 0, 0, 0, 0, 0,\n",
            "         0, 0, 0, 0, 0, 0, 0, 0, 0, 0, 0, 0, 0, 0, 0, 0, 0, 0, 0, 0, 0, 0, 0, 0,\n",
            "         0, 0, 0, 0, 0, 0, 0, 0, 0, 0, 0, 0, 0, 0, 0, 0, 0, 0, 0, 0, 0, 0, 0, 0,\n",
            "         0, 0, 0, 0, 0, 0, 0, 0, 0, 0, 0, 0, 0, 0, 0, 0, 0, 0, 0, 0, 0, 0, 0, 0,\n",
            "         0, 0, 0, 0, 0, 0, 0, 0, 0, 0, 0, 0, 0, 0, 0, 0, 0, 0, 0, 0, 0, 0, 0, 0,\n",
            "         0, 0, 0, 0, 0, 0, 0, 0, 0, 0, 0, 0, 0, 0, 0, 0, 0, 0, 0, 0, 0, 0, 0, 0,\n",
            "         0, 0, 0, 0, 0, 0, 0, 0, 0, 0, 0, 0, 0, 0, 0, 0, 0, 0, 0, 0, 0, 0, 0, 0,\n",
            "         0, 0, 0, 0, 0, 0, 0, 0, 0, 0, 0, 0, 0, 0, 0, 0, 0, 0, 0, 0, 0, 0, 0, 0,\n",
            "         0, 0, 0, 0, 0, 0, 0, 0, 0, 0, 0, 0, 0, 0, 0, 0, 0, 0, 0, 0, 0, 0, 0, 0,\n",
            "         0, 0, 0, 0, 0, 0, 0, 0, 0, 0, 0, 0, 0, 0, 0, 0, 0, 0, 0, 0, 0, 0, 0, 0,\n",
            "         0, 0, 0, 0, 0, 0, 0, 0, 0, 0, 0, 0, 0, 0, 0, 0, 0, 0, 0, 0, 0, 0, 0, 0,\n",
            "         0, 0, 0, 0, 0, 0, 0, 0, 0, 0, 0, 0, 0, 0, 0, 0, 0, 0, 0, 0, 0, 0, 0, 0,\n",
            "         0, 0, 0, 0, 0, 0, 0, 0, 0, 0, 0, 0, 0, 0, 0, 0, 0, 0, 0, 0, 0, 0, 0, 0,\n",
            "         0, 0, 0, 0, 0, 0, 0, 0]]), 'attention_mask': tensor([[1, 1, 1, 0, 0, 0, 0, 0, 0, 0, 0, 0, 0, 0, 0, 0, 0, 0, 0, 0, 0, 0, 0, 0,\n",
            "         0, 0, 0, 0, 0, 0, 0, 0, 0, 0, 0, 0, 0, 0, 0, 0, 0, 0, 0, 0, 0, 0, 0, 0,\n",
            "         0, 0, 0, 0, 0, 0, 0, 0, 0, 0, 0, 0, 0, 0, 0, 0, 0, 0, 0, 0, 0, 0, 0, 0,\n",
            "         0, 0, 0, 0, 0, 0, 0, 0, 0, 0, 0, 0, 0, 0, 0, 0, 0, 0, 0, 0, 0, 0, 0, 0,\n",
            "         0, 0, 0, 0, 0, 0, 0, 0, 0, 0, 0, 0, 0, 0, 0, 0, 0, 0, 0, 0, 0, 0, 0, 0,\n",
            "         0, 0, 0, 0, 0, 0, 0, 0, 0, 0, 0, 0, 0, 0, 0, 0, 0, 0, 0, 0, 0, 0, 0, 0,\n",
            "         0, 0, 0, 0, 0, 0, 0, 0, 0, 0, 0, 0, 0, 0, 0, 0, 0, 0, 0, 0, 0, 0, 0, 0,\n",
            "         0, 0, 0, 0, 0, 0, 0, 0, 0, 0, 0, 0, 0, 0, 0, 0, 0, 0, 0, 0, 0, 0, 0, 0,\n",
            "         0, 0, 0, 0, 0, 0, 0, 0, 0, 0, 0, 0, 0, 0, 0, 0, 0, 0, 0, 0, 0, 0, 0, 0,\n",
            "         0, 0, 0, 0, 0, 0, 0, 0, 0, 0, 0, 0, 0, 0, 0, 0, 0, 0, 0, 0, 0, 0, 0, 0,\n",
            "         0, 0, 0, 0, 0, 0, 0, 0, 0, 0, 0, 0, 0, 0, 0, 0, 0, 0, 0, 0, 0, 0, 0, 0,\n",
            "         0, 0, 0, 0, 0, 0, 0, 0, 0, 0, 0, 0, 0, 0, 0, 0, 0, 0, 0, 0, 0, 0, 0, 0,\n",
            "         0, 0, 0, 0, 0, 0, 0, 0, 0, 0, 0, 0, 0, 0, 0, 0, 0, 0, 0, 0, 0, 0, 0, 0,\n",
            "         0, 0, 0, 0, 0, 0, 0, 0, 0, 0, 0, 0, 0, 0, 0, 0, 0, 0, 0, 0, 0, 0, 0, 0,\n",
            "         0, 0, 0, 0, 0, 0, 0, 0, 0, 0, 0, 0, 0, 0, 0, 0, 0, 0, 0, 0, 0, 0, 0, 0,\n",
            "         0, 0, 0, 0, 0, 0, 0, 0, 0, 0, 0, 0, 0, 0, 0, 0, 0, 0, 0, 0, 0, 0, 0, 0,\n",
            "         0, 0, 0, 0, 0, 0, 0, 0, 0, 0, 0, 0, 0, 0, 0, 0, 0, 0, 0, 0, 0, 0, 0, 0,\n",
            "         0, 0, 0, 0, 0, 0, 0, 0, 0, 0, 0, 0, 0, 0, 0, 0, 0, 0, 0, 0, 0, 0, 0, 0,\n",
            "         0, 0, 0, 0, 0, 0, 0, 0, 0, 0, 0, 0, 0, 0, 0, 0, 0, 0, 0, 0, 0, 0, 0, 0,\n",
            "         0, 0, 0, 0, 0, 0, 0, 0, 0, 0, 0, 0, 0, 0, 0, 0, 0, 0, 0, 0, 0, 0, 0, 0,\n",
            "         0, 0, 0, 0, 0, 0, 0, 0, 0, 0, 0, 0, 0, 0, 0, 0, 0, 0, 0, 0, 0, 0, 0, 0,\n",
            "         0, 0, 0, 0, 0, 0, 0, 0]])}\n"
          ]
        }
      ],
      "source": [
        "data, label = dataset_train[0]\n",
        "\n",
        "print(data)\n",
        "print(label)"
      ]
    },
    {
      "cell_type": "code",
      "execution_count": null,
      "metadata": {
        "id": "M90uwj05y1Np"
      },
      "outputs": [],
      "source": [
        "class FineTuneModelSeq2seq(LightningModule):\n",
        "    def __init__(self, model_name, learning_rate=2e-5):\n",
        "        super(FineTuneModelSeq2seq, self).__init__()\n",
        "        self.model = AutoModelForSeq2SeqLM.from_pretrained(model_name)\n",
        "        self.learning_rate = learning_rate\n",
        "\n",
        "    def forward(self, input_ids, attention_mask, labels=None):\n",
        "        return self.model(input_ids, attention_mask=attention_mask, labels=labels)\n",
        "\n",
        "    def training_step(self, batch, batch_idx):\n",
        "        input_ids, attention_mask, labels = batch\n",
        "        outputs = self(input_ids, attention_mask, labels)\n",
        "        loss = outputs.loss\n",
        "        return loss\n",
        "\n",
        "    def configure_optimizers(self):\n",
        "        optimizer = AdamW(self.parameters(), lr=self.learning_rate)\n",
        "        return optimizer"
      ]
    },
    {
      "cell_type": "code",
      "source": [
        "class FineTuneModelCausal(LightningModule):\n",
        "    def __init__(self, model_name, learning_rate=2e-5):\n",
        "        super(FineTuneModelCausal, self).__init__()\n",
        "        self.model = AutoModelForCausalLM.from_pretrained(model_name)\n",
        "        self.learning_rate = learning_rate\n",
        "\n",
        "    def forward(self, input_ids, attention_mask, labels=None):\n",
        "        return self.model(input_ids, attention_mask=attention_mask, labels=labels)\n",
        "\n",
        "    def training_step(self, batch, batch_idx):\n",
        "        print(batch)\n",
        "        input_ids, attention_mask, labels = batch\n",
        "        outputs = self(input_ids, attention_mask, labels)\n",
        "        loss = outputs.loss\n",
        "        return loss\n",
        "\n",
        "    def configure_optimizers(self):\n",
        "        optimizer = AdamW(self.parameters(), lr=self.learning_rate)\n",
        "        return optimizer"
      ],
      "metadata": {
        "id": "_b6DwEUREtOG"
      },
      "execution_count": null,
      "outputs": []
    },
    {
      "cell_type": "code",
      "source": [
        "dataloader_train = DataLoader(dataset_train)\n",
        "dataloader_test = DataLoader(dataset_test)\n",
        "dataloader_val = DataLoader(dataset_val)\n"
      ],
      "metadata": {
        "id": "I0OMgG5H9YJt"
      },
      "execution_count": null,
      "outputs": []
    },
    {
      "cell_type": "code",
      "source": [
        "model = FineTuneModelCausal(model_name)"
      ],
      "metadata": {
        "colab": {
          "base_uri": "https://localhost:8080/"
        },
        "id": "JqZDZIZi8O02",
        "outputId": "bf92f9d5-ebca-4a46-a25f-f6d54caf06d6"
      },
      "execution_count": null,
      "outputs": [
        {
          "output_type": "stream",
          "name": "stderr",
          "text": [
            "If you want to use `BertLMHeadModel` as a standalone, add `is_decoder=True.`\n"
          ]
        }
      ]
    },
    {
      "cell_type": "code",
      "source": [
        "trainer = Trainer()\n",
        "\n",
        "trainer.fit(model, dataloader_train, dataloader_val)"
      ],
      "metadata": {
        "colab": {
          "base_uri": "https://localhost:8080/",
          "height": 1000,
          "referenced_widgets": [
            "d13feccb87aa4767a71c91fd985fafa3",
            "5d6acd22c4174f0b8be3df550871c6c6",
            "77382af06f4648c78fd1c6288a095953",
            "8c0842179ba24dfa9ea62e523a45b96d",
            "e93327328c1744948614beef77e32b80",
            "374df54ac4e646b7b812186d41b75e59",
            "0274bcef28d84914a18f605f6e3a5dec",
            "aeb6aabff36e4a338a41247b2bf5174b",
            "23f68616479a4efc99c88be7acec51e8",
            "405e967c940d4833a2236192f3fd4b9f",
            "d86dc75ac3114e329c9432bd7649ef3c"
          ]
        },
        "id": "0YZ5LkO9737m",
        "outputId": "1b2be54c-a7c2-4bb3-a642-3ab1e71ad7ee"
      },
      "execution_count": null,
      "outputs": [
        {
          "output_type": "stream",
          "name": "stderr",
          "text": [
            "INFO:pytorch_lightning.utilities.rank_zero:GPU available: False, used: False\n",
            "INFO:pytorch_lightning.utilities.rank_zero:TPU available: False, using: 0 TPU cores\n",
            "INFO:pytorch_lightning.utilities.rank_zero:HPU available: False, using: 0 HPUs\n",
            "INFO:pytorch_lightning.callbacks.model_summary:\n",
            "  | Name  | Type            | Params | Mode\n",
            "-------------------------------------------------\n",
            "0 | model | BertLMHeadModel | 109 M  | eval\n",
            "-------------------------------------------------\n",
            "109 M     Trainable params\n",
            "0         Non-trainable params\n",
            "109 M     Total params\n",
            "438.057   Total estimated model params size (MB)\n",
            "0         Modules in train mode\n",
            "233       Modules in eval mode\n"
          ]
        },
        {
          "output_type": "display_data",
          "data": {
            "text/plain": [
              "Training: |          | 0/? [00:00<?, ?it/s]"
            ],
            "application/vnd.jupyter.widget-view+json": {
              "version_major": 2,
              "version_minor": 0,
              "model_id": "d13feccb87aa4767a71c91fd985fafa3"
            }
          },
          "metadata": {}
        },
        {
          "output_type": "stream",
          "name": "stdout",
          "text": [
            "[{'input_ids': tensor([[[ 101, 1047,  102,    0,    0,    0,    0,    0,    0,    0,    0,\n",
            "             0,    0,    0,    0,    0,    0,    0,    0,    0,    0,    0,\n",
            "             0,    0,    0,    0,    0,    0,    0,    0,    0,    0,    0,\n",
            "             0,    0,    0,    0,    0,    0,    0,    0,    0,    0,    0,\n",
            "             0,    0,    0,    0,    0,    0,    0,    0,    0,    0,    0,\n",
            "             0,    0,    0,    0,    0,    0,    0,    0,    0,    0,    0,\n",
            "             0,    0,    0,    0,    0,    0,    0,    0,    0,    0,    0,\n",
            "             0,    0,    0,    0,    0,    0,    0,    0,    0,    0,    0,\n",
            "             0,    0,    0,    0,    0,    0,    0,    0,    0,    0,    0,\n",
            "             0,    0,    0,    0,    0,    0,    0,    0,    0,    0,    0,\n",
            "             0,    0,    0,    0,    0,    0,    0,    0,    0,    0,    0,\n",
            "             0,    0,    0,    0,    0,    0,    0,    0,    0,    0,    0,\n",
            "             0,    0,    0,    0,    0,    0,    0,    0,    0,    0,    0,\n",
            "             0,    0,    0,    0,    0,    0,    0,    0,    0,    0,    0,\n",
            "             0,    0,    0,    0,    0,    0,    0,    0,    0,    0,    0,\n",
            "             0,    0,    0,    0,    0,    0,    0,    0,    0,    0,    0,\n",
            "             0,    0,    0,    0,    0,    0,    0,    0,    0,    0,    0,\n",
            "             0,    0,    0,    0,    0,    0,    0,    0,    0,    0,    0,\n",
            "             0,    0,    0,    0,    0,    0,    0,    0,    0,    0,    0,\n",
            "             0,    0,    0,    0,    0,    0,    0,    0,    0,    0,    0,\n",
            "             0,    0,    0,    0,    0,    0,    0,    0,    0,    0,    0,\n",
            "             0,    0,    0,    0,    0,    0,    0,    0,    0,    0,    0,\n",
            "             0,    0,    0,    0,    0,    0,    0,    0,    0,    0,    0,\n",
            "             0,    0,    0,    0,    0,    0,    0,    0,    0,    0,    0,\n",
            "             0,    0,    0,    0,    0,    0,    0,    0,    0,    0,    0,\n",
            "             0,    0,    0,    0,    0,    0,    0,    0,    0,    0,    0,\n",
            "             0,    0,    0,    0,    0,    0,    0,    0,    0,    0,    0,\n",
            "             0,    0,    0,    0,    0,    0,    0,    0,    0,    0,    0,\n",
            "             0,    0,    0,    0,    0,    0,    0,    0,    0,    0,    0,\n",
            "             0,    0,    0,    0,    0,    0,    0,    0,    0,    0,    0,\n",
            "             0,    0,    0,    0,    0,    0,    0,    0,    0,    0,    0,\n",
            "             0,    0,    0,    0,    0,    0,    0,    0,    0,    0,    0,\n",
            "             0,    0,    0,    0,    0,    0,    0,    0,    0,    0,    0,\n",
            "             0,    0,    0,    0,    0,    0,    0,    0,    0,    0,    0,\n",
            "             0,    0,    0,    0,    0,    0,    0,    0,    0,    0,    0,\n",
            "             0,    0,    0,    0,    0,    0,    0,    0,    0,    0,    0,\n",
            "             0,    0,    0,    0,    0,    0,    0,    0,    0,    0,    0,\n",
            "             0,    0,    0,    0,    0,    0,    0,    0,    0,    0,    0,\n",
            "             0,    0,    0,    0,    0,    0,    0,    0,    0,    0,    0,\n",
            "             0,    0,    0,    0,    0,    0,    0,    0,    0,    0,    0,\n",
            "             0,    0,    0,    0,    0,    0,    0,    0,    0,    0,    0,\n",
            "             0,    0,    0,    0,    0,    0,    0,    0,    0,    0,    0,\n",
            "             0,    0,    0,    0,    0,    0,    0,    0,    0,    0,    0,\n",
            "             0,    0,    0,    0,    0,    0,    0,    0,    0,    0,    0,\n",
            "             0,    0,    0,    0,    0,    0,    0,    0,    0,    0,    0,\n",
            "             0,    0,    0,    0,    0,    0,    0,    0,    0,    0,    0,\n",
            "             0,    0,    0,    0,    0,    0]]]), 'token_type_ids': tensor([[[0, 0, 0, 0, 0, 0, 0, 0, 0, 0, 0, 0, 0, 0, 0, 0, 0, 0, 0, 0, 0, 0, 0,\n",
            "          0, 0, 0, 0, 0, 0, 0, 0, 0, 0, 0, 0, 0, 0, 0, 0, 0, 0, 0, 0, 0, 0, 0,\n",
            "          0, 0, 0, 0, 0, 0, 0, 0, 0, 0, 0, 0, 0, 0, 0, 0, 0, 0, 0, 0, 0, 0, 0,\n",
            "          0, 0, 0, 0, 0, 0, 0, 0, 0, 0, 0, 0, 0, 0, 0, 0, 0, 0, 0, 0, 0, 0, 0,\n",
            "          0, 0, 0, 0, 0, 0, 0, 0, 0, 0, 0, 0, 0, 0, 0, 0, 0, 0, 0, 0, 0, 0, 0,\n",
            "          0, 0, 0, 0, 0, 0, 0, 0, 0, 0, 0, 0, 0, 0, 0, 0, 0, 0, 0, 0, 0, 0, 0,\n",
            "          0, 0, 0, 0, 0, 0, 0, 0, 0, 0, 0, 0, 0, 0, 0, 0, 0, 0, 0, 0, 0, 0, 0,\n",
            "          0, 0, 0, 0, 0, 0, 0, 0, 0, 0, 0, 0, 0, 0, 0, 0, 0, 0, 0, 0, 0, 0, 0,\n",
            "          0, 0, 0, 0, 0, 0, 0, 0, 0, 0, 0, 0, 0, 0, 0, 0, 0, 0, 0, 0, 0, 0, 0,\n",
            "          0, 0, 0, 0, 0, 0, 0, 0, 0, 0, 0, 0, 0, 0, 0, 0, 0, 0, 0, 0, 0, 0, 0,\n",
            "          0, 0, 0, 0, 0, 0, 0, 0, 0, 0, 0, 0, 0, 0, 0, 0, 0, 0, 0, 0, 0, 0, 0,\n",
            "          0, 0, 0, 0, 0, 0, 0, 0, 0, 0, 0, 0, 0, 0, 0, 0, 0, 0, 0, 0, 0, 0, 0,\n",
            "          0, 0, 0, 0, 0, 0, 0, 0, 0, 0, 0, 0, 0, 0, 0, 0, 0, 0, 0, 0, 0, 0, 0,\n",
            "          0, 0, 0, 0, 0, 0, 0, 0, 0, 0, 0, 0, 0, 0, 0, 0, 0, 0, 0, 0, 0, 0, 0,\n",
            "          0, 0, 0, 0, 0, 0, 0, 0, 0, 0, 0, 0, 0, 0, 0, 0, 0, 0, 0, 0, 0, 0, 0,\n",
            "          0, 0, 0, 0, 0, 0, 0, 0, 0, 0, 0, 0, 0, 0, 0, 0, 0, 0, 0, 0, 0, 0, 0,\n",
            "          0, 0, 0, 0, 0, 0, 0, 0, 0, 0, 0, 0, 0, 0, 0, 0, 0, 0, 0, 0, 0, 0, 0,\n",
            "          0, 0, 0, 0, 0, 0, 0, 0, 0, 0, 0, 0, 0, 0, 0, 0, 0, 0, 0, 0, 0, 0, 0,\n",
            "          0, 0, 0, 0, 0, 0, 0, 0, 0, 0, 0, 0, 0, 0, 0, 0, 0, 0, 0, 0, 0, 0, 0,\n",
            "          0, 0, 0, 0, 0, 0, 0, 0, 0, 0, 0, 0, 0, 0, 0, 0, 0, 0, 0, 0, 0, 0, 0,\n",
            "          0, 0, 0, 0, 0, 0, 0, 0, 0, 0, 0, 0, 0, 0, 0, 0, 0, 0, 0, 0, 0, 0, 0,\n",
            "          0, 0, 0, 0, 0, 0, 0, 0, 0, 0, 0, 0, 0, 0, 0, 0, 0, 0, 0, 0, 0, 0, 0,\n",
            "          0, 0, 0, 0, 0, 0]]]), 'attention_mask': tensor([[[1, 1, 1, 0, 0, 0, 0, 0, 0, 0, 0, 0, 0, 0, 0, 0, 0, 0, 0, 0, 0, 0, 0,\n",
            "          0, 0, 0, 0, 0, 0, 0, 0, 0, 0, 0, 0, 0, 0, 0, 0, 0, 0, 0, 0, 0, 0, 0,\n",
            "          0, 0, 0, 0, 0, 0, 0, 0, 0, 0, 0, 0, 0, 0, 0, 0, 0, 0, 0, 0, 0, 0, 0,\n",
            "          0, 0, 0, 0, 0, 0, 0, 0, 0, 0, 0, 0, 0, 0, 0, 0, 0, 0, 0, 0, 0, 0, 0,\n",
            "          0, 0, 0, 0, 0, 0, 0, 0, 0, 0, 0, 0, 0, 0, 0, 0, 0, 0, 0, 0, 0, 0, 0,\n",
            "          0, 0, 0, 0, 0, 0, 0, 0, 0, 0, 0, 0, 0, 0, 0, 0, 0, 0, 0, 0, 0, 0, 0,\n",
            "          0, 0, 0, 0, 0, 0, 0, 0, 0, 0, 0, 0, 0, 0, 0, 0, 0, 0, 0, 0, 0, 0, 0,\n",
            "          0, 0, 0, 0, 0, 0, 0, 0, 0, 0, 0, 0, 0, 0, 0, 0, 0, 0, 0, 0, 0, 0, 0,\n",
            "          0, 0, 0, 0, 0, 0, 0, 0, 0, 0, 0, 0, 0, 0, 0, 0, 0, 0, 0, 0, 0, 0, 0,\n",
            "          0, 0, 0, 0, 0, 0, 0, 0, 0, 0, 0, 0, 0, 0, 0, 0, 0, 0, 0, 0, 0, 0, 0,\n",
            "          0, 0, 0, 0, 0, 0, 0, 0, 0, 0, 0, 0, 0, 0, 0, 0, 0, 0, 0, 0, 0, 0, 0,\n",
            "          0, 0, 0, 0, 0, 0, 0, 0, 0, 0, 0, 0, 0, 0, 0, 0, 0, 0, 0, 0, 0, 0, 0,\n",
            "          0, 0, 0, 0, 0, 0, 0, 0, 0, 0, 0, 0, 0, 0, 0, 0, 0, 0, 0, 0, 0, 0, 0,\n",
            "          0, 0, 0, 0, 0, 0, 0, 0, 0, 0, 0, 0, 0, 0, 0, 0, 0, 0, 0, 0, 0, 0, 0,\n",
            "          0, 0, 0, 0, 0, 0, 0, 0, 0, 0, 0, 0, 0, 0, 0, 0, 0, 0, 0, 0, 0, 0, 0,\n",
            "          0, 0, 0, 0, 0, 0, 0, 0, 0, 0, 0, 0, 0, 0, 0, 0, 0, 0, 0, 0, 0, 0, 0,\n",
            "          0, 0, 0, 0, 0, 0, 0, 0, 0, 0, 0, 0, 0, 0, 0, 0, 0, 0, 0, 0, 0, 0, 0,\n",
            "          0, 0, 0, 0, 0, 0, 0, 0, 0, 0, 0, 0, 0, 0, 0, 0, 0, 0, 0, 0, 0, 0, 0,\n",
            "          0, 0, 0, 0, 0, 0, 0, 0, 0, 0, 0, 0, 0, 0, 0, 0, 0, 0, 0, 0, 0, 0, 0,\n",
            "          0, 0, 0, 0, 0, 0, 0, 0, 0, 0, 0, 0, 0, 0, 0, 0, 0, 0, 0, 0, 0, 0, 0,\n",
            "          0, 0, 0, 0, 0, 0, 0, 0, 0, 0, 0, 0, 0, 0, 0, 0, 0, 0, 0, 0, 0, 0, 0,\n",
            "          0, 0, 0, 0, 0, 0, 0, 0, 0, 0, 0, 0, 0, 0, 0, 0, 0, 0, 0, 0, 0, 0, 0,\n",
            "          0, 0, 0, 0, 0, 0]]])}, {'input_ids': tensor([[[ 101, 1019,  102,    0,    0,    0,    0,    0,    0,    0,    0,\n",
            "             0,    0,    0,    0,    0,    0,    0,    0,    0,    0,    0,\n",
            "             0,    0,    0,    0,    0,    0,    0,    0,    0,    0,    0,\n",
            "             0,    0,    0,    0,    0,    0,    0,    0,    0,    0,    0,\n",
            "             0,    0,    0,    0,    0,    0,    0,    0,    0,    0,    0,\n",
            "             0,    0,    0,    0,    0,    0,    0,    0,    0,    0,    0,\n",
            "             0,    0,    0,    0,    0,    0,    0,    0,    0,    0,    0,\n",
            "             0,    0,    0,    0,    0,    0,    0,    0,    0,    0,    0,\n",
            "             0,    0,    0,    0,    0,    0,    0,    0,    0,    0,    0,\n",
            "             0,    0,    0,    0,    0,    0,    0,    0,    0,    0,    0,\n",
            "             0,    0,    0,    0,    0,    0,    0,    0,    0,    0,    0,\n",
            "             0,    0,    0,    0,    0,    0,    0,    0,    0,    0,    0,\n",
            "             0,    0,    0,    0,    0,    0,    0,    0,    0,    0,    0,\n",
            "             0,    0,    0,    0,    0,    0,    0,    0,    0,    0,    0,\n",
            "             0,    0,    0,    0,    0,    0,    0,    0,    0,    0,    0,\n",
            "             0,    0,    0,    0,    0,    0,    0,    0,    0,    0,    0,\n",
            "             0,    0,    0,    0,    0,    0,    0,    0,    0,    0,    0,\n",
            "             0,    0,    0,    0,    0,    0,    0,    0,    0,    0,    0,\n",
            "             0,    0,    0,    0,    0,    0,    0,    0,    0,    0,    0,\n",
            "             0,    0,    0,    0,    0,    0,    0,    0,    0,    0,    0,\n",
            "             0,    0,    0,    0,    0,    0,    0,    0,    0,    0,    0,\n",
            "             0,    0,    0,    0,    0,    0,    0,    0,    0,    0,    0,\n",
            "             0,    0,    0,    0,    0,    0,    0,    0,    0,    0,    0,\n",
            "             0,    0,    0,    0,    0,    0,    0,    0,    0,    0,    0,\n",
            "             0,    0,    0,    0,    0,    0,    0,    0,    0,    0,    0,\n",
            "             0,    0,    0,    0,    0,    0,    0,    0,    0,    0,    0,\n",
            "             0,    0,    0,    0,    0,    0,    0,    0,    0,    0,    0,\n",
            "             0,    0,    0,    0,    0,    0,    0,    0,    0,    0,    0,\n",
            "             0,    0,    0,    0,    0,    0,    0,    0,    0,    0,    0,\n",
            "             0,    0,    0,    0,    0,    0,    0,    0,    0,    0,    0,\n",
            "             0,    0,    0,    0,    0,    0,    0,    0,    0,    0,    0,\n",
            "             0,    0,    0,    0,    0,    0,    0,    0,    0,    0,    0,\n",
            "             0,    0,    0,    0,    0,    0,    0,    0,    0,    0,    0,\n",
            "             0,    0,    0,    0,    0,    0,    0,    0,    0,    0,    0,\n",
            "             0,    0,    0,    0,    0,    0,    0,    0,    0,    0,    0,\n",
            "             0,    0,    0,    0,    0,    0,    0,    0,    0,    0,    0,\n",
            "             0,    0,    0,    0,    0,    0,    0,    0,    0,    0,    0,\n",
            "             0,    0,    0,    0,    0,    0,    0,    0,    0,    0,    0,\n",
            "             0,    0,    0,    0,    0,    0,    0,    0,    0,    0,    0,\n",
            "             0,    0,    0,    0,    0,    0,    0,    0,    0,    0,    0,\n",
            "             0,    0,    0,    0,    0,    0,    0,    0,    0,    0,    0,\n",
            "             0,    0,    0,    0,    0,    0,    0,    0,    0,    0,    0,\n",
            "             0,    0,    0,    0,    0,    0,    0,    0,    0,    0,    0,\n",
            "             0,    0,    0,    0,    0,    0,    0,    0,    0,    0,    0,\n",
            "             0,    0,    0,    0,    0,    0,    0,    0,    0,    0,    0,\n",
            "             0,    0,    0,    0,    0,    0,    0,    0,    0,    0,    0,\n",
            "             0,    0,    0,    0,    0,    0]]]), 'token_type_ids': tensor([[[0, 0, 0, 0, 0, 0, 0, 0, 0, 0, 0, 0, 0, 0, 0, 0, 0, 0, 0, 0, 0, 0, 0,\n",
            "          0, 0, 0, 0, 0, 0, 0, 0, 0, 0, 0, 0, 0, 0, 0, 0, 0, 0, 0, 0, 0, 0, 0,\n",
            "          0, 0, 0, 0, 0, 0, 0, 0, 0, 0, 0, 0, 0, 0, 0, 0, 0, 0, 0, 0, 0, 0, 0,\n",
            "          0, 0, 0, 0, 0, 0, 0, 0, 0, 0, 0, 0, 0, 0, 0, 0, 0, 0, 0, 0, 0, 0, 0,\n",
            "          0, 0, 0, 0, 0, 0, 0, 0, 0, 0, 0, 0, 0, 0, 0, 0, 0, 0, 0, 0, 0, 0, 0,\n",
            "          0, 0, 0, 0, 0, 0, 0, 0, 0, 0, 0, 0, 0, 0, 0, 0, 0, 0, 0, 0, 0, 0, 0,\n",
            "          0, 0, 0, 0, 0, 0, 0, 0, 0, 0, 0, 0, 0, 0, 0, 0, 0, 0, 0, 0, 0, 0, 0,\n",
            "          0, 0, 0, 0, 0, 0, 0, 0, 0, 0, 0, 0, 0, 0, 0, 0, 0, 0, 0, 0, 0, 0, 0,\n",
            "          0, 0, 0, 0, 0, 0, 0, 0, 0, 0, 0, 0, 0, 0, 0, 0, 0, 0, 0, 0, 0, 0, 0,\n",
            "          0, 0, 0, 0, 0, 0, 0, 0, 0, 0, 0, 0, 0, 0, 0, 0, 0, 0, 0, 0, 0, 0, 0,\n",
            "          0, 0, 0, 0, 0, 0, 0, 0, 0, 0, 0, 0, 0, 0, 0, 0, 0, 0, 0, 0, 0, 0, 0,\n",
            "          0, 0, 0, 0, 0, 0, 0, 0, 0, 0, 0, 0, 0, 0, 0, 0, 0, 0, 0, 0, 0, 0, 0,\n",
            "          0, 0, 0, 0, 0, 0, 0, 0, 0, 0, 0, 0, 0, 0, 0, 0, 0, 0, 0, 0, 0, 0, 0,\n",
            "          0, 0, 0, 0, 0, 0, 0, 0, 0, 0, 0, 0, 0, 0, 0, 0, 0, 0, 0, 0, 0, 0, 0,\n",
            "          0, 0, 0, 0, 0, 0, 0, 0, 0, 0, 0, 0, 0, 0, 0, 0, 0, 0, 0, 0, 0, 0, 0,\n",
            "          0, 0, 0, 0, 0, 0, 0, 0, 0, 0, 0, 0, 0, 0, 0, 0, 0, 0, 0, 0, 0, 0, 0,\n",
            "          0, 0, 0, 0, 0, 0, 0, 0, 0, 0, 0, 0, 0, 0, 0, 0, 0, 0, 0, 0, 0, 0, 0,\n",
            "          0, 0, 0, 0, 0, 0, 0, 0, 0, 0, 0, 0, 0, 0, 0, 0, 0, 0, 0, 0, 0, 0, 0,\n",
            "          0, 0, 0, 0, 0, 0, 0, 0, 0, 0, 0, 0, 0, 0, 0, 0, 0, 0, 0, 0, 0, 0, 0,\n",
            "          0, 0, 0, 0, 0, 0, 0, 0, 0, 0, 0, 0, 0, 0, 0, 0, 0, 0, 0, 0, 0, 0, 0,\n",
            "          0, 0, 0, 0, 0, 0, 0, 0, 0, 0, 0, 0, 0, 0, 0, 0, 0, 0, 0, 0, 0, 0, 0,\n",
            "          0, 0, 0, 0, 0, 0, 0, 0, 0, 0, 0, 0, 0, 0, 0, 0, 0, 0, 0, 0, 0, 0, 0,\n",
            "          0, 0, 0, 0, 0, 0]]]), 'attention_mask': tensor([[[1, 1, 1, 0, 0, 0, 0, 0, 0, 0, 0, 0, 0, 0, 0, 0, 0, 0, 0, 0, 0, 0, 0,\n",
            "          0, 0, 0, 0, 0, 0, 0, 0, 0, 0, 0, 0, 0, 0, 0, 0, 0, 0, 0, 0, 0, 0, 0,\n",
            "          0, 0, 0, 0, 0, 0, 0, 0, 0, 0, 0, 0, 0, 0, 0, 0, 0, 0, 0, 0, 0, 0, 0,\n",
            "          0, 0, 0, 0, 0, 0, 0, 0, 0, 0, 0, 0, 0, 0, 0, 0, 0, 0, 0, 0, 0, 0, 0,\n",
            "          0, 0, 0, 0, 0, 0, 0, 0, 0, 0, 0, 0, 0, 0, 0, 0, 0, 0, 0, 0, 0, 0, 0,\n",
            "          0, 0, 0, 0, 0, 0, 0, 0, 0, 0, 0, 0, 0, 0, 0, 0, 0, 0, 0, 0, 0, 0, 0,\n",
            "          0, 0, 0, 0, 0, 0, 0, 0, 0, 0, 0, 0, 0, 0, 0, 0, 0, 0, 0, 0, 0, 0, 0,\n",
            "          0, 0, 0, 0, 0, 0, 0, 0, 0, 0, 0, 0, 0, 0, 0, 0, 0, 0, 0, 0, 0, 0, 0,\n",
            "          0, 0, 0, 0, 0, 0, 0, 0, 0, 0, 0, 0, 0, 0, 0, 0, 0, 0, 0, 0, 0, 0, 0,\n",
            "          0, 0, 0, 0, 0, 0, 0, 0, 0, 0, 0, 0, 0, 0, 0, 0, 0, 0, 0, 0, 0, 0, 0,\n",
            "          0, 0, 0, 0, 0, 0, 0, 0, 0, 0, 0, 0, 0, 0, 0, 0, 0, 0, 0, 0, 0, 0, 0,\n",
            "          0, 0, 0, 0, 0, 0, 0, 0, 0, 0, 0, 0, 0, 0, 0, 0, 0, 0, 0, 0, 0, 0, 0,\n",
            "          0, 0, 0, 0, 0, 0, 0, 0, 0, 0, 0, 0, 0, 0, 0, 0, 0, 0, 0, 0, 0, 0, 0,\n",
            "          0, 0, 0, 0, 0, 0, 0, 0, 0, 0, 0, 0, 0, 0, 0, 0, 0, 0, 0, 0, 0, 0, 0,\n",
            "          0, 0, 0, 0, 0, 0, 0, 0, 0, 0, 0, 0, 0, 0, 0, 0, 0, 0, 0, 0, 0, 0, 0,\n",
            "          0, 0, 0, 0, 0, 0, 0, 0, 0, 0, 0, 0, 0, 0, 0, 0, 0, 0, 0, 0, 0, 0, 0,\n",
            "          0, 0, 0, 0, 0, 0, 0, 0, 0, 0, 0, 0, 0, 0, 0, 0, 0, 0, 0, 0, 0, 0, 0,\n",
            "          0, 0, 0, 0, 0, 0, 0, 0, 0, 0, 0, 0, 0, 0, 0, 0, 0, 0, 0, 0, 0, 0, 0,\n",
            "          0, 0, 0, 0, 0, 0, 0, 0, 0, 0, 0, 0, 0, 0, 0, 0, 0, 0, 0, 0, 0, 0, 0,\n",
            "          0, 0, 0, 0, 0, 0, 0, 0, 0, 0, 0, 0, 0, 0, 0, 0, 0, 0, 0, 0, 0, 0, 0,\n",
            "          0, 0, 0, 0, 0, 0, 0, 0, 0, 0, 0, 0, 0, 0, 0, 0, 0, 0, 0, 0, 0, 0, 0,\n",
            "          0, 0, 0, 0, 0, 0, 0, 0, 0, 0, 0, 0, 0, 0, 0, 0, 0, 0, 0, 0, 0, 0, 0,\n",
            "          0, 0, 0, 0, 0, 0]]])}]\n"
          ]
        },
        {
          "output_type": "error",
          "ename": "ValueError",
          "evalue": "not enough values to unpack (expected 3, got 2)",
          "traceback": [
            "\u001b[0;31m---------------------------------------------------------------------------\u001b[0m",
            "\u001b[0;31mValueError\u001b[0m                                Traceback (most recent call last)",
            "\u001b[0;32m<ipython-input-29-3c2227910100>\u001b[0m in \u001b[0;36m<cell line: 3>\u001b[0;34m()\u001b[0m\n\u001b[1;32m      1\u001b[0m \u001b[0mtrainer\u001b[0m \u001b[0;34m=\u001b[0m \u001b[0mTrainer\u001b[0m\u001b[0;34m(\u001b[0m\u001b[0;34m)\u001b[0m\u001b[0;34m\u001b[0m\u001b[0;34m\u001b[0m\u001b[0m\n\u001b[1;32m      2\u001b[0m \u001b[0;34m\u001b[0m\u001b[0m\n\u001b[0;32m----> 3\u001b[0;31m \u001b[0mtrainer\u001b[0m\u001b[0;34m.\u001b[0m\u001b[0mfit\u001b[0m\u001b[0;34m(\u001b[0m\u001b[0mmodel\u001b[0m\u001b[0;34m,\u001b[0m \u001b[0mdataloader_train\u001b[0m\u001b[0;34m,\u001b[0m \u001b[0mdataloader_val\u001b[0m\u001b[0;34m)\u001b[0m\u001b[0;34m\u001b[0m\u001b[0;34m\u001b[0m\u001b[0m\n\u001b[0m",
            "\u001b[0;32m/usr/local/lib/python3.10/dist-packages/pytorch_lightning/trainer/trainer.py\u001b[0m in \u001b[0;36mfit\u001b[0;34m(self, model, train_dataloaders, val_dataloaders, datamodule, ckpt_path)\u001b[0m\n\u001b[1;32m    536\u001b[0m         \u001b[0mself\u001b[0m\u001b[0;34m.\u001b[0m\u001b[0mstate\u001b[0m\u001b[0;34m.\u001b[0m\u001b[0mstatus\u001b[0m \u001b[0;34m=\u001b[0m \u001b[0mTrainerStatus\u001b[0m\u001b[0;34m.\u001b[0m\u001b[0mRUNNING\u001b[0m\u001b[0;34m\u001b[0m\u001b[0;34m\u001b[0m\u001b[0m\n\u001b[1;32m    537\u001b[0m         \u001b[0mself\u001b[0m\u001b[0;34m.\u001b[0m\u001b[0mtraining\u001b[0m \u001b[0;34m=\u001b[0m \u001b[0;32mTrue\u001b[0m\u001b[0;34m\u001b[0m\u001b[0;34m\u001b[0m\u001b[0m\n\u001b[0;32m--> 538\u001b[0;31m         call._call_and_handle_interrupt(\n\u001b[0m\u001b[1;32m    539\u001b[0m             \u001b[0mself\u001b[0m\u001b[0;34m,\u001b[0m \u001b[0mself\u001b[0m\u001b[0;34m.\u001b[0m\u001b[0m_fit_impl\u001b[0m\u001b[0;34m,\u001b[0m \u001b[0mmodel\u001b[0m\u001b[0;34m,\u001b[0m \u001b[0mtrain_dataloaders\u001b[0m\u001b[0;34m,\u001b[0m \u001b[0mval_dataloaders\u001b[0m\u001b[0;34m,\u001b[0m \u001b[0mdatamodule\u001b[0m\u001b[0;34m,\u001b[0m \u001b[0mckpt_path\u001b[0m\u001b[0;34m\u001b[0m\u001b[0;34m\u001b[0m\u001b[0m\n\u001b[1;32m    540\u001b[0m         )\n",
            "\u001b[0;32m/usr/local/lib/python3.10/dist-packages/pytorch_lightning/trainer/call.py\u001b[0m in \u001b[0;36m_call_and_handle_interrupt\u001b[0;34m(trainer, trainer_fn, *args, **kwargs)\u001b[0m\n\u001b[1;32m     45\u001b[0m         \u001b[0;32mif\u001b[0m \u001b[0mtrainer\u001b[0m\u001b[0;34m.\u001b[0m\u001b[0mstrategy\u001b[0m\u001b[0;34m.\u001b[0m\u001b[0mlauncher\u001b[0m \u001b[0;32mis\u001b[0m \u001b[0;32mnot\u001b[0m \u001b[0;32mNone\u001b[0m\u001b[0;34m:\u001b[0m\u001b[0;34m\u001b[0m\u001b[0;34m\u001b[0m\u001b[0m\n\u001b[1;32m     46\u001b[0m             \u001b[0;32mreturn\u001b[0m \u001b[0mtrainer\u001b[0m\u001b[0;34m.\u001b[0m\u001b[0mstrategy\u001b[0m\u001b[0;34m.\u001b[0m\u001b[0mlauncher\u001b[0m\u001b[0;34m.\u001b[0m\u001b[0mlaunch\u001b[0m\u001b[0;34m(\u001b[0m\u001b[0mtrainer_fn\u001b[0m\u001b[0;34m,\u001b[0m \u001b[0;34m*\u001b[0m\u001b[0margs\u001b[0m\u001b[0;34m,\u001b[0m \u001b[0mtrainer\u001b[0m\u001b[0;34m=\u001b[0m\u001b[0mtrainer\u001b[0m\u001b[0;34m,\u001b[0m \u001b[0;34m**\u001b[0m\u001b[0mkwargs\u001b[0m\u001b[0;34m)\u001b[0m\u001b[0;34m\u001b[0m\u001b[0;34m\u001b[0m\u001b[0m\n\u001b[0;32m---> 47\u001b[0;31m         \u001b[0;32mreturn\u001b[0m \u001b[0mtrainer_fn\u001b[0m\u001b[0;34m(\u001b[0m\u001b[0;34m*\u001b[0m\u001b[0margs\u001b[0m\u001b[0;34m,\u001b[0m \u001b[0;34m**\u001b[0m\u001b[0mkwargs\u001b[0m\u001b[0;34m)\u001b[0m\u001b[0;34m\u001b[0m\u001b[0;34m\u001b[0m\u001b[0m\n\u001b[0m\u001b[1;32m     48\u001b[0m \u001b[0;34m\u001b[0m\u001b[0m\n\u001b[1;32m     49\u001b[0m     \u001b[0;32mexcept\u001b[0m \u001b[0m_TunerExitException\u001b[0m\u001b[0;34m:\u001b[0m\u001b[0;34m\u001b[0m\u001b[0;34m\u001b[0m\u001b[0m\n",
            "\u001b[0;32m/usr/local/lib/python3.10/dist-packages/pytorch_lightning/trainer/trainer.py\u001b[0m in \u001b[0;36m_fit_impl\u001b[0;34m(self, model, train_dataloaders, val_dataloaders, datamodule, ckpt_path)\u001b[0m\n\u001b[1;32m    572\u001b[0m             \u001b[0mmodel_connected\u001b[0m\u001b[0;34m=\u001b[0m\u001b[0mself\u001b[0m\u001b[0;34m.\u001b[0m\u001b[0mlightning_module\u001b[0m \u001b[0;32mis\u001b[0m \u001b[0;32mnot\u001b[0m \u001b[0;32mNone\u001b[0m\u001b[0;34m,\u001b[0m\u001b[0;34m\u001b[0m\u001b[0;34m\u001b[0m\u001b[0m\n\u001b[1;32m    573\u001b[0m         )\n\u001b[0;32m--> 574\u001b[0;31m         \u001b[0mself\u001b[0m\u001b[0;34m.\u001b[0m\u001b[0m_run\u001b[0m\u001b[0;34m(\u001b[0m\u001b[0mmodel\u001b[0m\u001b[0;34m,\u001b[0m \u001b[0mckpt_path\u001b[0m\u001b[0;34m=\u001b[0m\u001b[0mckpt_path\u001b[0m\u001b[0;34m)\u001b[0m\u001b[0;34m\u001b[0m\u001b[0;34m\u001b[0m\u001b[0m\n\u001b[0m\u001b[1;32m    575\u001b[0m \u001b[0;34m\u001b[0m\u001b[0m\n\u001b[1;32m    576\u001b[0m         \u001b[0;32massert\u001b[0m \u001b[0mself\u001b[0m\u001b[0;34m.\u001b[0m\u001b[0mstate\u001b[0m\u001b[0;34m.\u001b[0m\u001b[0mstopped\u001b[0m\u001b[0;34m\u001b[0m\u001b[0;34m\u001b[0m\u001b[0m\n",
            "\u001b[0;32m/usr/local/lib/python3.10/dist-packages/pytorch_lightning/trainer/trainer.py\u001b[0m in \u001b[0;36m_run\u001b[0;34m(self, model, ckpt_path)\u001b[0m\n\u001b[1;32m    979\u001b[0m         \u001b[0;31m# RUN THE TRAINER\u001b[0m\u001b[0;34m\u001b[0m\u001b[0;34m\u001b[0m\u001b[0m\n\u001b[1;32m    980\u001b[0m         \u001b[0;31m# ----------------------------\u001b[0m\u001b[0;34m\u001b[0m\u001b[0;34m\u001b[0m\u001b[0m\n\u001b[0;32m--> 981\u001b[0;31m         \u001b[0mresults\u001b[0m \u001b[0;34m=\u001b[0m \u001b[0mself\u001b[0m\u001b[0;34m.\u001b[0m\u001b[0m_run_stage\u001b[0m\u001b[0;34m(\u001b[0m\u001b[0;34m)\u001b[0m\u001b[0;34m\u001b[0m\u001b[0;34m\u001b[0m\u001b[0m\n\u001b[0m\u001b[1;32m    982\u001b[0m \u001b[0;34m\u001b[0m\u001b[0m\n\u001b[1;32m    983\u001b[0m         \u001b[0;31m# ----------------------------\u001b[0m\u001b[0;34m\u001b[0m\u001b[0;34m\u001b[0m\u001b[0m\n",
            "\u001b[0;32m/usr/local/lib/python3.10/dist-packages/pytorch_lightning/trainer/trainer.py\u001b[0m in \u001b[0;36m_run_stage\u001b[0;34m(self)\u001b[0m\n\u001b[1;32m   1023\u001b[0m                 \u001b[0mself\u001b[0m\u001b[0;34m.\u001b[0m\u001b[0m_run_sanity_check\u001b[0m\u001b[0;34m(\u001b[0m\u001b[0;34m)\u001b[0m\u001b[0;34m\u001b[0m\u001b[0;34m\u001b[0m\u001b[0m\n\u001b[1;32m   1024\u001b[0m             \u001b[0;32mwith\u001b[0m \u001b[0mtorch\u001b[0m\u001b[0;34m.\u001b[0m\u001b[0mautograd\u001b[0m\u001b[0;34m.\u001b[0m\u001b[0mset_detect_anomaly\u001b[0m\u001b[0;34m(\u001b[0m\u001b[0mself\u001b[0m\u001b[0;34m.\u001b[0m\u001b[0m_detect_anomaly\u001b[0m\u001b[0;34m)\u001b[0m\u001b[0;34m:\u001b[0m\u001b[0;34m\u001b[0m\u001b[0;34m\u001b[0m\u001b[0m\n\u001b[0;32m-> 1025\u001b[0;31m                 \u001b[0mself\u001b[0m\u001b[0;34m.\u001b[0m\u001b[0mfit_loop\u001b[0m\u001b[0;34m.\u001b[0m\u001b[0mrun\u001b[0m\u001b[0;34m(\u001b[0m\u001b[0;34m)\u001b[0m\u001b[0;34m\u001b[0m\u001b[0;34m\u001b[0m\u001b[0m\n\u001b[0m\u001b[1;32m   1026\u001b[0m             \u001b[0;32mreturn\u001b[0m \u001b[0;32mNone\u001b[0m\u001b[0;34m\u001b[0m\u001b[0;34m\u001b[0m\u001b[0m\n\u001b[1;32m   1027\u001b[0m         \u001b[0;32mraise\u001b[0m \u001b[0mRuntimeError\u001b[0m\u001b[0;34m(\u001b[0m\u001b[0;34mf\"Unexpected state {self.state}\"\u001b[0m\u001b[0;34m)\u001b[0m\u001b[0;34m\u001b[0m\u001b[0;34m\u001b[0m\u001b[0m\n",
            "\u001b[0;32m/usr/local/lib/python3.10/dist-packages/pytorch_lightning/loops/fit_loop.py\u001b[0m in \u001b[0;36mrun\u001b[0;34m(self)\u001b[0m\n\u001b[1;32m    203\u001b[0m             \u001b[0;32mtry\u001b[0m\u001b[0;34m:\u001b[0m\u001b[0;34m\u001b[0m\u001b[0;34m\u001b[0m\u001b[0m\n\u001b[1;32m    204\u001b[0m                 \u001b[0mself\u001b[0m\u001b[0;34m.\u001b[0m\u001b[0mon_advance_start\u001b[0m\u001b[0;34m(\u001b[0m\u001b[0;34m)\u001b[0m\u001b[0;34m\u001b[0m\u001b[0;34m\u001b[0m\u001b[0m\n\u001b[0;32m--> 205\u001b[0;31m                 \u001b[0mself\u001b[0m\u001b[0;34m.\u001b[0m\u001b[0madvance\u001b[0m\u001b[0;34m(\u001b[0m\u001b[0;34m)\u001b[0m\u001b[0;34m\u001b[0m\u001b[0;34m\u001b[0m\u001b[0m\n\u001b[0m\u001b[1;32m    206\u001b[0m                 \u001b[0mself\u001b[0m\u001b[0;34m.\u001b[0m\u001b[0mon_advance_end\u001b[0m\u001b[0;34m(\u001b[0m\u001b[0;34m)\u001b[0m\u001b[0;34m\u001b[0m\u001b[0;34m\u001b[0m\u001b[0m\n\u001b[1;32m    207\u001b[0m                 \u001b[0mself\u001b[0m\u001b[0;34m.\u001b[0m\u001b[0m_restarting\u001b[0m \u001b[0;34m=\u001b[0m \u001b[0;32mFalse\u001b[0m\u001b[0;34m\u001b[0m\u001b[0;34m\u001b[0m\u001b[0m\n",
            "\u001b[0;32m/usr/local/lib/python3.10/dist-packages/pytorch_lightning/loops/fit_loop.py\u001b[0m in \u001b[0;36madvance\u001b[0;34m(self)\u001b[0m\n\u001b[1;32m    361\u001b[0m         \u001b[0;32mwith\u001b[0m \u001b[0mself\u001b[0m\u001b[0;34m.\u001b[0m\u001b[0mtrainer\u001b[0m\u001b[0;34m.\u001b[0m\u001b[0mprofiler\u001b[0m\u001b[0;34m.\u001b[0m\u001b[0mprofile\u001b[0m\u001b[0;34m(\u001b[0m\u001b[0;34m\"run_training_epoch\"\u001b[0m\u001b[0;34m)\u001b[0m\u001b[0;34m:\u001b[0m\u001b[0;34m\u001b[0m\u001b[0;34m\u001b[0m\u001b[0m\n\u001b[1;32m    362\u001b[0m             \u001b[0;32massert\u001b[0m \u001b[0mself\u001b[0m\u001b[0;34m.\u001b[0m\u001b[0m_data_fetcher\u001b[0m \u001b[0;32mis\u001b[0m \u001b[0;32mnot\u001b[0m \u001b[0;32mNone\u001b[0m\u001b[0;34m\u001b[0m\u001b[0;34m\u001b[0m\u001b[0m\n\u001b[0;32m--> 363\u001b[0;31m             \u001b[0mself\u001b[0m\u001b[0;34m.\u001b[0m\u001b[0mepoch_loop\u001b[0m\u001b[0;34m.\u001b[0m\u001b[0mrun\u001b[0m\u001b[0;34m(\u001b[0m\u001b[0mself\u001b[0m\u001b[0;34m.\u001b[0m\u001b[0m_data_fetcher\u001b[0m\u001b[0;34m)\u001b[0m\u001b[0;34m\u001b[0m\u001b[0;34m\u001b[0m\u001b[0m\n\u001b[0m\u001b[1;32m    364\u001b[0m \u001b[0;34m\u001b[0m\u001b[0m\n\u001b[1;32m    365\u001b[0m     \u001b[0;32mdef\u001b[0m \u001b[0mon_advance_end\u001b[0m\u001b[0;34m(\u001b[0m\u001b[0mself\u001b[0m\u001b[0;34m)\u001b[0m \u001b[0;34m->\u001b[0m \u001b[0;32mNone\u001b[0m\u001b[0;34m:\u001b[0m\u001b[0;34m\u001b[0m\u001b[0;34m\u001b[0m\u001b[0m\n",
            "\u001b[0;32m/usr/local/lib/python3.10/dist-packages/pytorch_lightning/loops/training_epoch_loop.py\u001b[0m in \u001b[0;36mrun\u001b[0;34m(self, data_fetcher)\u001b[0m\n\u001b[1;32m    138\u001b[0m         \u001b[0;32mwhile\u001b[0m \u001b[0;32mnot\u001b[0m \u001b[0mself\u001b[0m\u001b[0;34m.\u001b[0m\u001b[0mdone\u001b[0m\u001b[0;34m:\u001b[0m\u001b[0;34m\u001b[0m\u001b[0;34m\u001b[0m\u001b[0m\n\u001b[1;32m    139\u001b[0m             \u001b[0;32mtry\u001b[0m\u001b[0;34m:\u001b[0m\u001b[0;34m\u001b[0m\u001b[0;34m\u001b[0m\u001b[0m\n\u001b[0;32m--> 140\u001b[0;31m                 \u001b[0mself\u001b[0m\u001b[0;34m.\u001b[0m\u001b[0madvance\u001b[0m\u001b[0;34m(\u001b[0m\u001b[0mdata_fetcher\u001b[0m\u001b[0;34m)\u001b[0m\u001b[0;34m\u001b[0m\u001b[0;34m\u001b[0m\u001b[0m\n\u001b[0m\u001b[1;32m    141\u001b[0m                 \u001b[0mself\u001b[0m\u001b[0;34m.\u001b[0m\u001b[0mon_advance_end\u001b[0m\u001b[0;34m(\u001b[0m\u001b[0mdata_fetcher\u001b[0m\u001b[0;34m)\u001b[0m\u001b[0;34m\u001b[0m\u001b[0;34m\u001b[0m\u001b[0m\n\u001b[1;32m    142\u001b[0m                 \u001b[0mself\u001b[0m\u001b[0;34m.\u001b[0m\u001b[0m_restarting\u001b[0m \u001b[0;34m=\u001b[0m \u001b[0;32mFalse\u001b[0m\u001b[0;34m\u001b[0m\u001b[0;34m\u001b[0m\u001b[0m\n",
            "\u001b[0;32m/usr/local/lib/python3.10/dist-packages/pytorch_lightning/loops/training_epoch_loop.py\u001b[0m in \u001b[0;36madvance\u001b[0;34m(self, data_fetcher)\u001b[0m\n\u001b[1;32m    248\u001b[0m                 \u001b[0;32mif\u001b[0m \u001b[0mtrainer\u001b[0m\u001b[0;34m.\u001b[0m\u001b[0mlightning_module\u001b[0m\u001b[0;34m.\u001b[0m\u001b[0mautomatic_optimization\u001b[0m\u001b[0;34m:\u001b[0m\u001b[0;34m\u001b[0m\u001b[0;34m\u001b[0m\u001b[0m\n\u001b[1;32m    249\u001b[0m                     \u001b[0;31m# in automatic optimization, there can only be one optimizer\u001b[0m\u001b[0;34m\u001b[0m\u001b[0;34m\u001b[0m\u001b[0m\n\u001b[0;32m--> 250\u001b[0;31m                     \u001b[0mbatch_output\u001b[0m \u001b[0;34m=\u001b[0m \u001b[0mself\u001b[0m\u001b[0;34m.\u001b[0m\u001b[0mautomatic_optimization\u001b[0m\u001b[0;34m.\u001b[0m\u001b[0mrun\u001b[0m\u001b[0;34m(\u001b[0m\u001b[0mtrainer\u001b[0m\u001b[0;34m.\u001b[0m\u001b[0moptimizers\u001b[0m\u001b[0;34m[\u001b[0m\u001b[0;36m0\u001b[0m\u001b[0;34m]\u001b[0m\u001b[0;34m,\u001b[0m \u001b[0mbatch_idx\u001b[0m\u001b[0;34m,\u001b[0m \u001b[0mkwargs\u001b[0m\u001b[0;34m)\u001b[0m\u001b[0;34m\u001b[0m\u001b[0;34m\u001b[0m\u001b[0m\n\u001b[0m\u001b[1;32m    251\u001b[0m                 \u001b[0;32melse\u001b[0m\u001b[0;34m:\u001b[0m\u001b[0;34m\u001b[0m\u001b[0;34m\u001b[0m\u001b[0m\n\u001b[1;32m    252\u001b[0m                     \u001b[0mbatch_output\u001b[0m \u001b[0;34m=\u001b[0m \u001b[0mself\u001b[0m\u001b[0;34m.\u001b[0m\u001b[0mmanual_optimization\u001b[0m\u001b[0;34m.\u001b[0m\u001b[0mrun\u001b[0m\u001b[0;34m(\u001b[0m\u001b[0mkwargs\u001b[0m\u001b[0;34m)\u001b[0m\u001b[0;34m\u001b[0m\u001b[0;34m\u001b[0m\u001b[0m\n",
            "\u001b[0;32m/usr/local/lib/python3.10/dist-packages/pytorch_lightning/loops/optimization/automatic.py\u001b[0m in \u001b[0;36mrun\u001b[0;34m(self, optimizer, batch_idx, kwargs)\u001b[0m\n\u001b[1;32m    188\u001b[0m         \u001b[0;31m# gradient update with accumulated gradients\u001b[0m\u001b[0;34m\u001b[0m\u001b[0;34m\u001b[0m\u001b[0m\n\u001b[1;32m    189\u001b[0m         \u001b[0;32melse\u001b[0m\u001b[0;34m:\u001b[0m\u001b[0;34m\u001b[0m\u001b[0;34m\u001b[0m\u001b[0m\n\u001b[0;32m--> 190\u001b[0;31m             \u001b[0mself\u001b[0m\u001b[0;34m.\u001b[0m\u001b[0m_optimizer_step\u001b[0m\u001b[0;34m(\u001b[0m\u001b[0mbatch_idx\u001b[0m\u001b[0;34m,\u001b[0m \u001b[0mclosure\u001b[0m\u001b[0;34m)\u001b[0m\u001b[0;34m\u001b[0m\u001b[0;34m\u001b[0m\u001b[0m\n\u001b[0m\u001b[1;32m    191\u001b[0m \u001b[0;34m\u001b[0m\u001b[0m\n\u001b[1;32m    192\u001b[0m         \u001b[0mresult\u001b[0m \u001b[0;34m=\u001b[0m \u001b[0mclosure\u001b[0m\u001b[0;34m.\u001b[0m\u001b[0mconsume_result\u001b[0m\u001b[0;34m(\u001b[0m\u001b[0;34m)\u001b[0m\u001b[0;34m\u001b[0m\u001b[0;34m\u001b[0m\u001b[0m\n",
            "\u001b[0;32m/usr/local/lib/python3.10/dist-packages/pytorch_lightning/loops/optimization/automatic.py\u001b[0m in \u001b[0;36m_optimizer_step\u001b[0;34m(self, batch_idx, train_step_and_backward_closure)\u001b[0m\n\u001b[1;32m    266\u001b[0m \u001b[0;34m\u001b[0m\u001b[0m\n\u001b[1;32m    267\u001b[0m         \u001b[0;31m# model hook\u001b[0m\u001b[0;34m\u001b[0m\u001b[0;34m\u001b[0m\u001b[0m\n\u001b[0;32m--> 268\u001b[0;31m         call._call_lightning_module_hook(\n\u001b[0m\u001b[1;32m    269\u001b[0m             \u001b[0mtrainer\u001b[0m\u001b[0;34m,\u001b[0m\u001b[0;34m\u001b[0m\u001b[0;34m\u001b[0m\u001b[0m\n\u001b[1;32m    270\u001b[0m             \u001b[0;34m\"optimizer_step\"\u001b[0m\u001b[0;34m,\u001b[0m\u001b[0;34m\u001b[0m\u001b[0;34m\u001b[0m\u001b[0m\n",
            "\u001b[0;32m/usr/local/lib/python3.10/dist-packages/pytorch_lightning/trainer/call.py\u001b[0m in \u001b[0;36m_call_lightning_module_hook\u001b[0;34m(trainer, hook_name, pl_module, *args, **kwargs)\u001b[0m\n\u001b[1;32m    165\u001b[0m \u001b[0;34m\u001b[0m\u001b[0m\n\u001b[1;32m    166\u001b[0m     \u001b[0;32mwith\u001b[0m \u001b[0mtrainer\u001b[0m\u001b[0;34m.\u001b[0m\u001b[0mprofiler\u001b[0m\u001b[0;34m.\u001b[0m\u001b[0mprofile\u001b[0m\u001b[0;34m(\u001b[0m\u001b[0;34mf\"[LightningModule]{pl_module.__class__.__name__}.{hook_name}\"\u001b[0m\u001b[0;34m)\u001b[0m\u001b[0;34m:\u001b[0m\u001b[0;34m\u001b[0m\u001b[0;34m\u001b[0m\u001b[0m\n\u001b[0;32m--> 167\u001b[0;31m         \u001b[0moutput\u001b[0m \u001b[0;34m=\u001b[0m \u001b[0mfn\u001b[0m\u001b[0;34m(\u001b[0m\u001b[0;34m*\u001b[0m\u001b[0margs\u001b[0m\u001b[0;34m,\u001b[0m \u001b[0;34m**\u001b[0m\u001b[0mkwargs\u001b[0m\u001b[0;34m)\u001b[0m\u001b[0;34m\u001b[0m\u001b[0;34m\u001b[0m\u001b[0m\n\u001b[0m\u001b[1;32m    168\u001b[0m \u001b[0;34m\u001b[0m\u001b[0m\n\u001b[1;32m    169\u001b[0m     \u001b[0;31m# restore current_fx when nested context\u001b[0m\u001b[0;34m\u001b[0m\u001b[0;34m\u001b[0m\u001b[0m\n",
            "\u001b[0;32m/usr/local/lib/python3.10/dist-packages/pytorch_lightning/core/module.py\u001b[0m in \u001b[0;36moptimizer_step\u001b[0;34m(self, epoch, batch_idx, optimizer, optimizer_closure)\u001b[0m\n\u001b[1;32m   1304\u001b[0m \u001b[0;34m\u001b[0m\u001b[0m\n\u001b[1;32m   1305\u001b[0m         \"\"\"\n\u001b[0;32m-> 1306\u001b[0;31m         \u001b[0moptimizer\u001b[0m\u001b[0;34m.\u001b[0m\u001b[0mstep\u001b[0m\u001b[0;34m(\u001b[0m\u001b[0mclosure\u001b[0m\u001b[0;34m=\u001b[0m\u001b[0moptimizer_closure\u001b[0m\u001b[0;34m)\u001b[0m\u001b[0;34m\u001b[0m\u001b[0;34m\u001b[0m\u001b[0m\n\u001b[0m\u001b[1;32m   1307\u001b[0m \u001b[0;34m\u001b[0m\u001b[0m\n\u001b[1;32m   1308\u001b[0m     \u001b[0;32mdef\u001b[0m \u001b[0moptimizer_zero_grad\u001b[0m\u001b[0;34m(\u001b[0m\u001b[0mself\u001b[0m\u001b[0;34m,\u001b[0m \u001b[0mepoch\u001b[0m\u001b[0;34m:\u001b[0m \u001b[0mint\u001b[0m\u001b[0;34m,\u001b[0m \u001b[0mbatch_idx\u001b[0m\u001b[0;34m:\u001b[0m \u001b[0mint\u001b[0m\u001b[0;34m,\u001b[0m \u001b[0moptimizer\u001b[0m\u001b[0;34m:\u001b[0m \u001b[0mOptimizer\u001b[0m\u001b[0;34m)\u001b[0m \u001b[0;34m->\u001b[0m \u001b[0;32mNone\u001b[0m\u001b[0;34m:\u001b[0m\u001b[0;34m\u001b[0m\u001b[0;34m\u001b[0m\u001b[0m\n",
            "\u001b[0;32m/usr/local/lib/python3.10/dist-packages/pytorch_lightning/core/optimizer.py\u001b[0m in \u001b[0;36mstep\u001b[0;34m(self, closure, **kwargs)\u001b[0m\n\u001b[1;32m    151\u001b[0m \u001b[0;34m\u001b[0m\u001b[0m\n\u001b[1;32m    152\u001b[0m         \u001b[0;32massert\u001b[0m \u001b[0mself\u001b[0m\u001b[0;34m.\u001b[0m\u001b[0m_strategy\u001b[0m \u001b[0;32mis\u001b[0m \u001b[0;32mnot\u001b[0m \u001b[0;32mNone\u001b[0m\u001b[0;34m\u001b[0m\u001b[0;34m\u001b[0m\u001b[0m\n\u001b[0;32m--> 153\u001b[0;31m         \u001b[0mstep_output\u001b[0m \u001b[0;34m=\u001b[0m \u001b[0mself\u001b[0m\u001b[0;34m.\u001b[0m\u001b[0m_strategy\u001b[0m\u001b[0;34m.\u001b[0m\u001b[0moptimizer_step\u001b[0m\u001b[0;34m(\u001b[0m\u001b[0mself\u001b[0m\u001b[0;34m.\u001b[0m\u001b[0m_optimizer\u001b[0m\u001b[0;34m,\u001b[0m \u001b[0mclosure\u001b[0m\u001b[0;34m,\u001b[0m \u001b[0;34m**\u001b[0m\u001b[0mkwargs\u001b[0m\u001b[0;34m)\u001b[0m\u001b[0;34m\u001b[0m\u001b[0;34m\u001b[0m\u001b[0m\n\u001b[0m\u001b[1;32m    154\u001b[0m \u001b[0;34m\u001b[0m\u001b[0m\n\u001b[1;32m    155\u001b[0m         \u001b[0mself\u001b[0m\u001b[0;34m.\u001b[0m\u001b[0m_on_after_step\u001b[0m\u001b[0;34m(\u001b[0m\u001b[0;34m)\u001b[0m\u001b[0;34m\u001b[0m\u001b[0;34m\u001b[0m\u001b[0m\n",
            "\u001b[0;32m/usr/local/lib/python3.10/dist-packages/pytorch_lightning/strategies/strategy.py\u001b[0m in \u001b[0;36moptimizer_step\u001b[0;34m(self, optimizer, closure, model, **kwargs)\u001b[0m\n\u001b[1;32m    236\u001b[0m         \u001b[0;31m# TODO(fabric): remove assertion once strategy's optimizer_step typing is fixed\u001b[0m\u001b[0;34m\u001b[0m\u001b[0;34m\u001b[0m\u001b[0m\n\u001b[1;32m    237\u001b[0m         \u001b[0;32massert\u001b[0m \u001b[0misinstance\u001b[0m\u001b[0;34m(\u001b[0m\u001b[0mmodel\u001b[0m\u001b[0;34m,\u001b[0m \u001b[0mpl\u001b[0m\u001b[0;34m.\u001b[0m\u001b[0mLightningModule\u001b[0m\u001b[0;34m)\u001b[0m\u001b[0;34m\u001b[0m\u001b[0;34m\u001b[0m\u001b[0m\n\u001b[0;32m--> 238\u001b[0;31m         \u001b[0;32mreturn\u001b[0m \u001b[0mself\u001b[0m\u001b[0;34m.\u001b[0m\u001b[0mprecision_plugin\u001b[0m\u001b[0;34m.\u001b[0m\u001b[0moptimizer_step\u001b[0m\u001b[0;34m(\u001b[0m\u001b[0moptimizer\u001b[0m\u001b[0;34m,\u001b[0m \u001b[0mmodel\u001b[0m\u001b[0;34m=\u001b[0m\u001b[0mmodel\u001b[0m\u001b[0;34m,\u001b[0m \u001b[0mclosure\u001b[0m\u001b[0;34m=\u001b[0m\u001b[0mclosure\u001b[0m\u001b[0;34m,\u001b[0m \u001b[0;34m**\u001b[0m\u001b[0mkwargs\u001b[0m\u001b[0;34m)\u001b[0m\u001b[0;34m\u001b[0m\u001b[0;34m\u001b[0m\u001b[0m\n\u001b[0m\u001b[1;32m    239\u001b[0m \u001b[0;34m\u001b[0m\u001b[0m\n\u001b[1;32m    240\u001b[0m     \u001b[0;32mdef\u001b[0m \u001b[0m_setup_model_and_optimizers\u001b[0m\u001b[0;34m(\u001b[0m\u001b[0mself\u001b[0m\u001b[0;34m,\u001b[0m \u001b[0mmodel\u001b[0m\u001b[0;34m:\u001b[0m \u001b[0mModule\u001b[0m\u001b[0;34m,\u001b[0m \u001b[0moptimizers\u001b[0m\u001b[0;34m:\u001b[0m \u001b[0mList\u001b[0m\u001b[0;34m[\u001b[0m\u001b[0mOptimizer\u001b[0m\u001b[0;34m]\u001b[0m\u001b[0;34m)\u001b[0m \u001b[0;34m->\u001b[0m \u001b[0mTuple\u001b[0m\u001b[0;34m[\u001b[0m\u001b[0mModule\u001b[0m\u001b[0;34m,\u001b[0m \u001b[0mList\u001b[0m\u001b[0;34m[\u001b[0m\u001b[0mOptimizer\u001b[0m\u001b[0;34m]\u001b[0m\u001b[0;34m]\u001b[0m\u001b[0;34m:\u001b[0m\u001b[0;34m\u001b[0m\u001b[0;34m\u001b[0m\u001b[0m\n",
            "\u001b[0;32m/usr/local/lib/python3.10/dist-packages/pytorch_lightning/plugins/precision/precision.py\u001b[0m in \u001b[0;36moptimizer_step\u001b[0;34m(self, optimizer, model, closure, **kwargs)\u001b[0m\n\u001b[1;32m    120\u001b[0m         \u001b[0;34m\"\"\"Hook to run the optimizer step.\"\"\"\u001b[0m\u001b[0;34m\u001b[0m\u001b[0;34m\u001b[0m\u001b[0m\n\u001b[1;32m    121\u001b[0m         \u001b[0mclosure\u001b[0m \u001b[0;34m=\u001b[0m \u001b[0mpartial\u001b[0m\u001b[0;34m(\u001b[0m\u001b[0mself\u001b[0m\u001b[0;34m.\u001b[0m\u001b[0m_wrap_closure\u001b[0m\u001b[0;34m,\u001b[0m \u001b[0mmodel\u001b[0m\u001b[0;34m,\u001b[0m \u001b[0moptimizer\u001b[0m\u001b[0;34m,\u001b[0m \u001b[0mclosure\u001b[0m\u001b[0;34m)\u001b[0m\u001b[0;34m\u001b[0m\u001b[0;34m\u001b[0m\u001b[0m\n\u001b[0;32m--> 122\u001b[0;31m         \u001b[0;32mreturn\u001b[0m \u001b[0moptimizer\u001b[0m\u001b[0;34m.\u001b[0m\u001b[0mstep\u001b[0m\u001b[0;34m(\u001b[0m\u001b[0mclosure\u001b[0m\u001b[0;34m=\u001b[0m\u001b[0mclosure\u001b[0m\u001b[0;34m,\u001b[0m \u001b[0;34m**\u001b[0m\u001b[0mkwargs\u001b[0m\u001b[0;34m)\u001b[0m\u001b[0;34m\u001b[0m\u001b[0;34m\u001b[0m\u001b[0m\n\u001b[0m\u001b[1;32m    123\u001b[0m \u001b[0;34m\u001b[0m\u001b[0m\n\u001b[1;32m    124\u001b[0m     def _clip_gradients(\n",
            "\u001b[0;32m/usr/local/lib/python3.10/dist-packages/torch/optim/optimizer.py\u001b[0m in \u001b[0;36mwrapper\u001b[0;34m(*args, **kwargs)\u001b[0m\n\u001b[1;32m    485\u001b[0m                             )\n\u001b[1;32m    486\u001b[0m \u001b[0;34m\u001b[0m\u001b[0m\n\u001b[0;32m--> 487\u001b[0;31m                 \u001b[0mout\u001b[0m \u001b[0;34m=\u001b[0m \u001b[0mfunc\u001b[0m\u001b[0;34m(\u001b[0m\u001b[0;34m*\u001b[0m\u001b[0margs\u001b[0m\u001b[0;34m,\u001b[0m \u001b[0;34m**\u001b[0m\u001b[0mkwargs\u001b[0m\u001b[0;34m)\u001b[0m\u001b[0;34m\u001b[0m\u001b[0;34m\u001b[0m\u001b[0m\n\u001b[0m\u001b[1;32m    488\u001b[0m                 \u001b[0mself\u001b[0m\u001b[0;34m.\u001b[0m\u001b[0m_optimizer_step_code\u001b[0m\u001b[0;34m(\u001b[0m\u001b[0;34m)\u001b[0m\u001b[0;34m\u001b[0m\u001b[0;34m\u001b[0m\u001b[0m\n\u001b[1;32m    489\u001b[0m \u001b[0;34m\u001b[0m\u001b[0m\n",
            "\u001b[0;32m/usr/local/lib/python3.10/dist-packages/torch/utils/_contextlib.py\u001b[0m in \u001b[0;36mdecorate_context\u001b[0;34m(*args, **kwargs)\u001b[0m\n\u001b[1;32m    114\u001b[0m     \u001b[0;32mdef\u001b[0m \u001b[0mdecorate_context\u001b[0m\u001b[0;34m(\u001b[0m\u001b[0;34m*\u001b[0m\u001b[0margs\u001b[0m\u001b[0;34m,\u001b[0m \u001b[0;34m**\u001b[0m\u001b[0mkwargs\u001b[0m\u001b[0;34m)\u001b[0m\u001b[0;34m:\u001b[0m\u001b[0;34m\u001b[0m\u001b[0;34m\u001b[0m\u001b[0m\n\u001b[1;32m    115\u001b[0m         \u001b[0;32mwith\u001b[0m \u001b[0mctx_factory\u001b[0m\u001b[0;34m(\u001b[0m\u001b[0;34m)\u001b[0m\u001b[0;34m:\u001b[0m\u001b[0;34m\u001b[0m\u001b[0;34m\u001b[0m\u001b[0m\n\u001b[0;32m--> 116\u001b[0;31m             \u001b[0;32mreturn\u001b[0m \u001b[0mfunc\u001b[0m\u001b[0;34m(\u001b[0m\u001b[0;34m*\u001b[0m\u001b[0margs\u001b[0m\u001b[0;34m,\u001b[0m \u001b[0;34m**\u001b[0m\u001b[0mkwargs\u001b[0m\u001b[0;34m)\u001b[0m\u001b[0;34m\u001b[0m\u001b[0;34m\u001b[0m\u001b[0m\n\u001b[0m\u001b[1;32m    117\u001b[0m \u001b[0;34m\u001b[0m\u001b[0m\n\u001b[1;32m    118\u001b[0m     \u001b[0;32mreturn\u001b[0m \u001b[0mdecorate_context\u001b[0m\u001b[0;34m\u001b[0m\u001b[0;34m\u001b[0m\u001b[0m\n",
            "\u001b[0;32m/usr/local/lib/python3.10/dist-packages/transformers/optimization.py\u001b[0m in \u001b[0;36mstep\u001b[0;34m(self, closure)\u001b[0m\n\u001b[1;32m    617\u001b[0m         \u001b[0mloss\u001b[0m \u001b[0;34m=\u001b[0m \u001b[0;32mNone\u001b[0m\u001b[0;34m\u001b[0m\u001b[0;34m\u001b[0m\u001b[0m\n\u001b[1;32m    618\u001b[0m         \u001b[0;32mif\u001b[0m \u001b[0mclosure\u001b[0m \u001b[0;32mis\u001b[0m \u001b[0;32mnot\u001b[0m \u001b[0;32mNone\u001b[0m\u001b[0;34m:\u001b[0m\u001b[0;34m\u001b[0m\u001b[0;34m\u001b[0m\u001b[0m\n\u001b[0;32m--> 619\u001b[0;31m             \u001b[0mloss\u001b[0m \u001b[0;34m=\u001b[0m \u001b[0mclosure\u001b[0m\u001b[0;34m(\u001b[0m\u001b[0;34m)\u001b[0m\u001b[0;34m\u001b[0m\u001b[0;34m\u001b[0m\u001b[0m\n\u001b[0m\u001b[1;32m    620\u001b[0m \u001b[0;34m\u001b[0m\u001b[0m\n\u001b[1;32m    621\u001b[0m         \u001b[0;32mfor\u001b[0m \u001b[0mgroup\u001b[0m \u001b[0;32min\u001b[0m \u001b[0mself\u001b[0m\u001b[0;34m.\u001b[0m\u001b[0mparam_groups\u001b[0m\u001b[0;34m:\u001b[0m\u001b[0;34m\u001b[0m\u001b[0;34m\u001b[0m\u001b[0m\n",
            "\u001b[0;32m/usr/local/lib/python3.10/dist-packages/pytorch_lightning/plugins/precision/precision.py\u001b[0m in \u001b[0;36m_wrap_closure\u001b[0;34m(self, model, optimizer, closure)\u001b[0m\n\u001b[1;32m    106\u001b[0m \u001b[0;34m\u001b[0m\u001b[0m\n\u001b[1;32m    107\u001b[0m         \"\"\"\n\u001b[0;32m--> 108\u001b[0;31m         \u001b[0mclosure_result\u001b[0m \u001b[0;34m=\u001b[0m \u001b[0mclosure\u001b[0m\u001b[0;34m(\u001b[0m\u001b[0;34m)\u001b[0m\u001b[0;34m\u001b[0m\u001b[0;34m\u001b[0m\u001b[0m\n\u001b[0m\u001b[1;32m    109\u001b[0m         \u001b[0mself\u001b[0m\u001b[0;34m.\u001b[0m\u001b[0m_after_closure\u001b[0m\u001b[0;34m(\u001b[0m\u001b[0mmodel\u001b[0m\u001b[0;34m,\u001b[0m \u001b[0moptimizer\u001b[0m\u001b[0;34m)\u001b[0m\u001b[0;34m\u001b[0m\u001b[0;34m\u001b[0m\u001b[0m\n\u001b[1;32m    110\u001b[0m         \u001b[0;32mreturn\u001b[0m \u001b[0mclosure_result\u001b[0m\u001b[0;34m\u001b[0m\u001b[0;34m\u001b[0m\u001b[0m\n",
            "\u001b[0;32m/usr/local/lib/python3.10/dist-packages/pytorch_lightning/loops/optimization/automatic.py\u001b[0m in \u001b[0;36m__call__\u001b[0;34m(self, *args, **kwargs)\u001b[0m\n\u001b[1;32m    142\u001b[0m     \u001b[0;34m@\u001b[0m\u001b[0moverride\u001b[0m\u001b[0;34m\u001b[0m\u001b[0;34m\u001b[0m\u001b[0m\n\u001b[1;32m    143\u001b[0m     \u001b[0;32mdef\u001b[0m \u001b[0m__call__\u001b[0m\u001b[0;34m(\u001b[0m\u001b[0mself\u001b[0m\u001b[0;34m,\u001b[0m \u001b[0;34m*\u001b[0m\u001b[0margs\u001b[0m\u001b[0;34m:\u001b[0m \u001b[0mAny\u001b[0m\u001b[0;34m,\u001b[0m \u001b[0;34m**\u001b[0m\u001b[0mkwargs\u001b[0m\u001b[0;34m:\u001b[0m \u001b[0mAny\u001b[0m\u001b[0;34m)\u001b[0m \u001b[0;34m->\u001b[0m \u001b[0mOptional\u001b[0m\u001b[0;34m[\u001b[0m\u001b[0mTensor\u001b[0m\u001b[0;34m]\u001b[0m\u001b[0;34m:\u001b[0m\u001b[0;34m\u001b[0m\u001b[0;34m\u001b[0m\u001b[0m\n\u001b[0;32m--> 144\u001b[0;31m         \u001b[0mself\u001b[0m\u001b[0;34m.\u001b[0m\u001b[0m_result\u001b[0m \u001b[0;34m=\u001b[0m \u001b[0mself\u001b[0m\u001b[0;34m.\u001b[0m\u001b[0mclosure\u001b[0m\u001b[0;34m(\u001b[0m\u001b[0;34m*\u001b[0m\u001b[0margs\u001b[0m\u001b[0;34m,\u001b[0m \u001b[0;34m**\u001b[0m\u001b[0mkwargs\u001b[0m\u001b[0;34m)\u001b[0m\u001b[0;34m\u001b[0m\u001b[0;34m\u001b[0m\u001b[0m\n\u001b[0m\u001b[1;32m    145\u001b[0m         \u001b[0;32mreturn\u001b[0m \u001b[0mself\u001b[0m\u001b[0;34m.\u001b[0m\u001b[0m_result\u001b[0m\u001b[0;34m.\u001b[0m\u001b[0mloss\u001b[0m\u001b[0;34m\u001b[0m\u001b[0;34m\u001b[0m\u001b[0m\n\u001b[1;32m    146\u001b[0m \u001b[0;34m\u001b[0m\u001b[0m\n",
            "\u001b[0;32m/usr/local/lib/python3.10/dist-packages/torch/utils/_contextlib.py\u001b[0m in \u001b[0;36mdecorate_context\u001b[0;34m(*args, **kwargs)\u001b[0m\n\u001b[1;32m    114\u001b[0m     \u001b[0;32mdef\u001b[0m \u001b[0mdecorate_context\u001b[0m\u001b[0;34m(\u001b[0m\u001b[0;34m*\u001b[0m\u001b[0margs\u001b[0m\u001b[0;34m,\u001b[0m \u001b[0;34m**\u001b[0m\u001b[0mkwargs\u001b[0m\u001b[0;34m)\u001b[0m\u001b[0;34m:\u001b[0m\u001b[0;34m\u001b[0m\u001b[0;34m\u001b[0m\u001b[0m\n\u001b[1;32m    115\u001b[0m         \u001b[0;32mwith\u001b[0m \u001b[0mctx_factory\u001b[0m\u001b[0;34m(\u001b[0m\u001b[0;34m)\u001b[0m\u001b[0;34m:\u001b[0m\u001b[0;34m\u001b[0m\u001b[0;34m\u001b[0m\u001b[0m\n\u001b[0;32m--> 116\u001b[0;31m             \u001b[0;32mreturn\u001b[0m \u001b[0mfunc\u001b[0m\u001b[0;34m(\u001b[0m\u001b[0;34m*\u001b[0m\u001b[0margs\u001b[0m\u001b[0;34m,\u001b[0m \u001b[0;34m**\u001b[0m\u001b[0mkwargs\u001b[0m\u001b[0;34m)\u001b[0m\u001b[0;34m\u001b[0m\u001b[0;34m\u001b[0m\u001b[0m\n\u001b[0m\u001b[1;32m    117\u001b[0m \u001b[0;34m\u001b[0m\u001b[0m\n\u001b[1;32m    118\u001b[0m     \u001b[0;32mreturn\u001b[0m \u001b[0mdecorate_context\u001b[0m\u001b[0;34m\u001b[0m\u001b[0;34m\u001b[0m\u001b[0m\n",
            "\u001b[0;32m/usr/local/lib/python3.10/dist-packages/pytorch_lightning/loops/optimization/automatic.py\u001b[0m in \u001b[0;36mclosure\u001b[0;34m(self, *args, **kwargs)\u001b[0m\n\u001b[1;32m    127\u001b[0m     \u001b[0;34m@\u001b[0m\u001b[0mtorch\u001b[0m\u001b[0;34m.\u001b[0m\u001b[0menable_grad\u001b[0m\u001b[0;34m(\u001b[0m\u001b[0;34m)\u001b[0m\u001b[0;34m\u001b[0m\u001b[0;34m\u001b[0m\u001b[0m\n\u001b[1;32m    128\u001b[0m     \u001b[0;32mdef\u001b[0m \u001b[0mclosure\u001b[0m\u001b[0;34m(\u001b[0m\u001b[0mself\u001b[0m\u001b[0;34m,\u001b[0m \u001b[0;34m*\u001b[0m\u001b[0margs\u001b[0m\u001b[0;34m:\u001b[0m \u001b[0mAny\u001b[0m\u001b[0;34m,\u001b[0m \u001b[0;34m**\u001b[0m\u001b[0mkwargs\u001b[0m\u001b[0;34m:\u001b[0m \u001b[0mAny\u001b[0m\u001b[0;34m)\u001b[0m \u001b[0;34m->\u001b[0m \u001b[0mClosureResult\u001b[0m\u001b[0;34m:\u001b[0m\u001b[0;34m\u001b[0m\u001b[0;34m\u001b[0m\u001b[0m\n\u001b[0;32m--> 129\u001b[0;31m         \u001b[0mstep_output\u001b[0m \u001b[0;34m=\u001b[0m \u001b[0mself\u001b[0m\u001b[0;34m.\u001b[0m\u001b[0m_step_fn\u001b[0m\u001b[0;34m(\u001b[0m\u001b[0;34m)\u001b[0m\u001b[0;34m\u001b[0m\u001b[0;34m\u001b[0m\u001b[0m\n\u001b[0m\u001b[1;32m    130\u001b[0m \u001b[0;34m\u001b[0m\u001b[0m\n\u001b[1;32m    131\u001b[0m         \u001b[0;32mif\u001b[0m \u001b[0mstep_output\u001b[0m\u001b[0;34m.\u001b[0m\u001b[0mclosure_loss\u001b[0m \u001b[0;32mis\u001b[0m \u001b[0;32mNone\u001b[0m\u001b[0;34m:\u001b[0m\u001b[0;34m\u001b[0m\u001b[0;34m\u001b[0m\u001b[0m\n",
            "\u001b[0;32m/usr/local/lib/python3.10/dist-packages/pytorch_lightning/loops/optimization/automatic.py\u001b[0m in \u001b[0;36m_training_step\u001b[0;34m(self, kwargs)\u001b[0m\n\u001b[1;32m    315\u001b[0m         \u001b[0mtrainer\u001b[0m \u001b[0;34m=\u001b[0m \u001b[0mself\u001b[0m\u001b[0;34m.\u001b[0m\u001b[0mtrainer\u001b[0m\u001b[0;34m\u001b[0m\u001b[0;34m\u001b[0m\u001b[0m\n\u001b[1;32m    316\u001b[0m \u001b[0;34m\u001b[0m\u001b[0m\n\u001b[0;32m--> 317\u001b[0;31m         \u001b[0mtraining_step_output\u001b[0m \u001b[0;34m=\u001b[0m \u001b[0mcall\u001b[0m\u001b[0;34m.\u001b[0m\u001b[0m_call_strategy_hook\u001b[0m\u001b[0;34m(\u001b[0m\u001b[0mtrainer\u001b[0m\u001b[0;34m,\u001b[0m \u001b[0;34m\"training_step\"\u001b[0m\u001b[0;34m,\u001b[0m \u001b[0;34m*\u001b[0m\u001b[0mkwargs\u001b[0m\u001b[0;34m.\u001b[0m\u001b[0mvalues\u001b[0m\u001b[0;34m(\u001b[0m\u001b[0;34m)\u001b[0m\u001b[0;34m)\u001b[0m\u001b[0;34m\u001b[0m\u001b[0;34m\u001b[0m\u001b[0m\n\u001b[0m\u001b[1;32m    318\u001b[0m         \u001b[0mself\u001b[0m\u001b[0;34m.\u001b[0m\u001b[0mtrainer\u001b[0m\u001b[0;34m.\u001b[0m\u001b[0mstrategy\u001b[0m\u001b[0;34m.\u001b[0m\u001b[0mpost_training_step\u001b[0m\u001b[0;34m(\u001b[0m\u001b[0;34m)\u001b[0m  \u001b[0;31m# unused hook - call anyway for backward compatibility\u001b[0m\u001b[0;34m\u001b[0m\u001b[0;34m\u001b[0m\u001b[0m\n\u001b[1;32m    319\u001b[0m \u001b[0;34m\u001b[0m\u001b[0m\n",
            "\u001b[0;32m/usr/local/lib/python3.10/dist-packages/pytorch_lightning/trainer/call.py\u001b[0m in \u001b[0;36m_call_strategy_hook\u001b[0;34m(trainer, hook_name, *args, **kwargs)\u001b[0m\n\u001b[1;32m    317\u001b[0m \u001b[0;34m\u001b[0m\u001b[0m\n\u001b[1;32m    318\u001b[0m     \u001b[0;32mwith\u001b[0m \u001b[0mtrainer\u001b[0m\u001b[0;34m.\u001b[0m\u001b[0mprofiler\u001b[0m\u001b[0;34m.\u001b[0m\u001b[0mprofile\u001b[0m\u001b[0;34m(\u001b[0m\u001b[0;34mf\"[Strategy]{trainer.strategy.__class__.__name__}.{hook_name}\"\u001b[0m\u001b[0;34m)\u001b[0m\u001b[0;34m:\u001b[0m\u001b[0;34m\u001b[0m\u001b[0;34m\u001b[0m\u001b[0m\n\u001b[0;32m--> 319\u001b[0;31m         \u001b[0moutput\u001b[0m \u001b[0;34m=\u001b[0m \u001b[0mfn\u001b[0m\u001b[0;34m(\u001b[0m\u001b[0;34m*\u001b[0m\u001b[0margs\u001b[0m\u001b[0;34m,\u001b[0m \u001b[0;34m**\u001b[0m\u001b[0mkwargs\u001b[0m\u001b[0;34m)\u001b[0m\u001b[0;34m\u001b[0m\u001b[0;34m\u001b[0m\u001b[0m\n\u001b[0m\u001b[1;32m    320\u001b[0m \u001b[0;34m\u001b[0m\u001b[0m\n\u001b[1;32m    321\u001b[0m     \u001b[0;31m# restore current_fx when nested context\u001b[0m\u001b[0;34m\u001b[0m\u001b[0;34m\u001b[0m\u001b[0m\n",
            "\u001b[0;32m/usr/local/lib/python3.10/dist-packages/pytorch_lightning/strategies/strategy.py\u001b[0m in \u001b[0;36mtraining_step\u001b[0;34m(self, *args, **kwargs)\u001b[0m\n\u001b[1;32m    388\u001b[0m             \u001b[0;32mif\u001b[0m \u001b[0mself\u001b[0m\u001b[0;34m.\u001b[0m\u001b[0mmodel\u001b[0m \u001b[0;34m!=\u001b[0m \u001b[0mself\u001b[0m\u001b[0;34m.\u001b[0m\u001b[0mlightning_module\u001b[0m\u001b[0;34m:\u001b[0m\u001b[0;34m\u001b[0m\u001b[0;34m\u001b[0m\u001b[0m\n\u001b[1;32m    389\u001b[0m                 \u001b[0;32mreturn\u001b[0m \u001b[0mself\u001b[0m\u001b[0;34m.\u001b[0m\u001b[0m_forward_redirection\u001b[0m\u001b[0;34m(\u001b[0m\u001b[0mself\u001b[0m\u001b[0;34m.\u001b[0m\u001b[0mmodel\u001b[0m\u001b[0;34m,\u001b[0m \u001b[0mself\u001b[0m\u001b[0;34m.\u001b[0m\u001b[0mlightning_module\u001b[0m\u001b[0;34m,\u001b[0m \u001b[0;34m\"training_step\"\u001b[0m\u001b[0;34m,\u001b[0m \u001b[0;34m*\u001b[0m\u001b[0margs\u001b[0m\u001b[0;34m,\u001b[0m \u001b[0;34m**\u001b[0m\u001b[0mkwargs\u001b[0m\u001b[0;34m)\u001b[0m\u001b[0;34m\u001b[0m\u001b[0;34m\u001b[0m\u001b[0m\n\u001b[0;32m--> 390\u001b[0;31m             \u001b[0;32mreturn\u001b[0m \u001b[0mself\u001b[0m\u001b[0;34m.\u001b[0m\u001b[0mlightning_module\u001b[0m\u001b[0;34m.\u001b[0m\u001b[0mtraining_step\u001b[0m\u001b[0;34m(\u001b[0m\u001b[0;34m*\u001b[0m\u001b[0margs\u001b[0m\u001b[0;34m,\u001b[0m \u001b[0;34m**\u001b[0m\u001b[0mkwargs\u001b[0m\u001b[0;34m)\u001b[0m\u001b[0;34m\u001b[0m\u001b[0;34m\u001b[0m\u001b[0m\n\u001b[0m\u001b[1;32m    391\u001b[0m \u001b[0;34m\u001b[0m\u001b[0m\n\u001b[1;32m    392\u001b[0m     \u001b[0;32mdef\u001b[0m \u001b[0mpost_training_step\u001b[0m\u001b[0;34m(\u001b[0m\u001b[0mself\u001b[0m\u001b[0;34m)\u001b[0m \u001b[0;34m->\u001b[0m \u001b[0;32mNone\u001b[0m\u001b[0;34m:\u001b[0m\u001b[0;34m\u001b[0m\u001b[0;34m\u001b[0m\u001b[0m\n",
            "\u001b[0;32m<ipython-input-27-8b7d9331b33e>\u001b[0m in \u001b[0;36mtraining_step\u001b[0;34m(self, batch, batch_idx)\u001b[0m\n\u001b[1;32m     10\u001b[0m     \u001b[0;32mdef\u001b[0m \u001b[0mtraining_step\u001b[0m\u001b[0;34m(\u001b[0m\u001b[0mself\u001b[0m\u001b[0;34m,\u001b[0m \u001b[0mbatch\u001b[0m\u001b[0;34m,\u001b[0m \u001b[0mbatch_idx\u001b[0m\u001b[0;34m)\u001b[0m\u001b[0;34m:\u001b[0m\u001b[0;34m\u001b[0m\u001b[0;34m\u001b[0m\u001b[0m\n\u001b[1;32m     11\u001b[0m         \u001b[0mprint\u001b[0m\u001b[0;34m(\u001b[0m\u001b[0mbatch\u001b[0m\u001b[0;34m)\u001b[0m\u001b[0;34m\u001b[0m\u001b[0;34m\u001b[0m\u001b[0m\n\u001b[0;32m---> 12\u001b[0;31m         \u001b[0minput_ids\u001b[0m\u001b[0;34m,\u001b[0m \u001b[0mattention_mask\u001b[0m\u001b[0;34m,\u001b[0m \u001b[0mlabels\u001b[0m \u001b[0;34m=\u001b[0m \u001b[0mbatch\u001b[0m\u001b[0;34m\u001b[0m\u001b[0;34m\u001b[0m\u001b[0m\n\u001b[0m\u001b[1;32m     13\u001b[0m         \u001b[0moutputs\u001b[0m \u001b[0;34m=\u001b[0m \u001b[0mself\u001b[0m\u001b[0;34m(\u001b[0m\u001b[0minput_ids\u001b[0m\u001b[0;34m,\u001b[0m \u001b[0mattention_mask\u001b[0m\u001b[0;34m,\u001b[0m \u001b[0mlabels\u001b[0m\u001b[0;34m)\u001b[0m\u001b[0;34m\u001b[0m\u001b[0;34m\u001b[0m\u001b[0m\n\u001b[1;32m     14\u001b[0m         \u001b[0mloss\u001b[0m \u001b[0;34m=\u001b[0m \u001b[0moutputs\u001b[0m\u001b[0;34m.\u001b[0m\u001b[0mloss\u001b[0m\u001b[0;34m\u001b[0m\u001b[0;34m\u001b[0m\u001b[0m\n",
            "\u001b[0;31mValueError\u001b[0m: not enough values to unpack (expected 3, got 2)"
          ]
        }
      ]
    }
  ],
  "metadata": {
    "colab": {
      "provenance": []
    },
    "kernelspec": {
      "display_name": ".venv",
      "language": "python",
      "name": "python3"
    },
    "language_info": {
      "codemirror_mode": {
        "name": "ipython",
        "version": 3
      },
      "file_extension": ".py",
      "mimetype": "text/x-python",
      "name": "python",
      "nbconvert_exporter": "python",
      "pygments_lexer": "ipython3",
      "version": "3.12.3"
    },
    "widgets": {
      "application/vnd.jupyter.widget-state+json": {
        "d13feccb87aa4767a71c91fd985fafa3": {
          "model_module": "@jupyter-widgets/controls",
          "model_name": "HBoxModel",
          "model_module_version": "1.5.0",
          "state": {
            "_dom_classes": [],
            "_model_module": "@jupyter-widgets/controls",
            "_model_module_version": "1.5.0",
            "_model_name": "HBoxModel",
            "_view_count": null,
            "_view_module": "@jupyter-widgets/controls",
            "_view_module_version": "1.5.0",
            "_view_name": "HBoxView",
            "box_style": "",
            "children": [
              "IPY_MODEL_5d6acd22c4174f0b8be3df550871c6c6",
              "IPY_MODEL_77382af06f4648c78fd1c6288a095953",
              "IPY_MODEL_8c0842179ba24dfa9ea62e523a45b96d"
            ],
            "layout": "IPY_MODEL_e93327328c1744948614beef77e32b80"
          }
        },
        "5d6acd22c4174f0b8be3df550871c6c6": {
          "model_module": "@jupyter-widgets/controls",
          "model_name": "HTMLModel",
          "model_module_version": "1.5.0",
          "state": {
            "_dom_classes": [],
            "_model_module": "@jupyter-widgets/controls",
            "_model_module_version": "1.5.0",
            "_model_name": "HTMLModel",
            "_view_count": null,
            "_view_module": "@jupyter-widgets/controls",
            "_view_module_version": "1.5.0",
            "_view_name": "HTMLView",
            "description": "",
            "description_tooltip": null,
            "layout": "IPY_MODEL_374df54ac4e646b7b812186d41b75e59",
            "placeholder": "​",
            "style": "IPY_MODEL_0274bcef28d84914a18f605f6e3a5dec",
            "value": "Epoch 0:   0%"
          }
        },
        "77382af06f4648c78fd1c6288a095953": {
          "model_module": "@jupyter-widgets/controls",
          "model_name": "FloatProgressModel",
          "model_module_version": "1.5.0",
          "state": {
            "_dom_classes": [],
            "_model_module": "@jupyter-widgets/controls",
            "_model_module_version": "1.5.0",
            "_model_name": "FloatProgressModel",
            "_view_count": null,
            "_view_module": "@jupyter-widgets/controls",
            "_view_module_version": "1.5.0",
            "_view_name": "ProgressView",
            "bar_style": "",
            "description": "",
            "description_tooltip": null,
            "layout": "IPY_MODEL_aeb6aabff36e4a338a41247b2bf5174b",
            "max": 24636,
            "min": 0,
            "orientation": "horizontal",
            "style": "IPY_MODEL_23f68616479a4efc99c88be7acec51e8",
            "value": 0
          }
        },
        "8c0842179ba24dfa9ea62e523a45b96d": {
          "model_module": "@jupyter-widgets/controls",
          "model_name": "HTMLModel",
          "model_module_version": "1.5.0",
          "state": {
            "_dom_classes": [],
            "_model_module": "@jupyter-widgets/controls",
            "_model_module_version": "1.5.0",
            "_model_name": "HTMLModel",
            "_view_count": null,
            "_view_module": "@jupyter-widgets/controls",
            "_view_module_version": "1.5.0",
            "_view_name": "HTMLView",
            "description": "",
            "description_tooltip": null,
            "layout": "IPY_MODEL_405e967c940d4833a2236192f3fd4b9f",
            "placeholder": "​",
            "style": "IPY_MODEL_d86dc75ac3114e329c9432bd7649ef3c",
            "value": " 0/24636 [00:00&lt;?, ?it/s]"
          }
        },
        "e93327328c1744948614beef77e32b80": {
          "model_module": "@jupyter-widgets/base",
          "model_name": "LayoutModel",
          "model_module_version": "1.2.0",
          "state": {
            "_model_module": "@jupyter-widgets/base",
            "_model_module_version": "1.2.0",
            "_model_name": "LayoutModel",
            "_view_count": null,
            "_view_module": "@jupyter-widgets/base",
            "_view_module_version": "1.2.0",
            "_view_name": "LayoutView",
            "align_content": null,
            "align_items": null,
            "align_self": null,
            "border": null,
            "bottom": null,
            "display": "inline-flex",
            "flex": null,
            "flex_flow": "row wrap",
            "grid_area": null,
            "grid_auto_columns": null,
            "grid_auto_flow": null,
            "grid_auto_rows": null,
            "grid_column": null,
            "grid_gap": null,
            "grid_row": null,
            "grid_template_areas": null,
            "grid_template_columns": null,
            "grid_template_rows": null,
            "height": null,
            "justify_content": null,
            "justify_items": null,
            "left": null,
            "margin": null,
            "max_height": null,
            "max_width": null,
            "min_height": null,
            "min_width": null,
            "object_fit": null,
            "object_position": null,
            "order": null,
            "overflow": null,
            "overflow_x": null,
            "overflow_y": null,
            "padding": null,
            "right": null,
            "top": null,
            "visibility": null,
            "width": "100%"
          }
        },
        "374df54ac4e646b7b812186d41b75e59": {
          "model_module": "@jupyter-widgets/base",
          "model_name": "LayoutModel",
          "model_module_version": "1.2.0",
          "state": {
            "_model_module": "@jupyter-widgets/base",
            "_model_module_version": "1.2.0",
            "_model_name": "LayoutModel",
            "_view_count": null,
            "_view_module": "@jupyter-widgets/base",
            "_view_module_version": "1.2.0",
            "_view_name": "LayoutView",
            "align_content": null,
            "align_items": null,
            "align_self": null,
            "border": null,
            "bottom": null,
            "display": null,
            "flex": null,
            "flex_flow": null,
            "grid_area": null,
            "grid_auto_columns": null,
            "grid_auto_flow": null,
            "grid_auto_rows": null,
            "grid_column": null,
            "grid_gap": null,
            "grid_row": null,
            "grid_template_areas": null,
            "grid_template_columns": null,
            "grid_template_rows": null,
            "height": null,
            "justify_content": null,
            "justify_items": null,
            "left": null,
            "margin": null,
            "max_height": null,
            "max_width": null,
            "min_height": null,
            "min_width": null,
            "object_fit": null,
            "object_position": null,
            "order": null,
            "overflow": null,
            "overflow_x": null,
            "overflow_y": null,
            "padding": null,
            "right": null,
            "top": null,
            "visibility": null,
            "width": null
          }
        },
        "0274bcef28d84914a18f605f6e3a5dec": {
          "model_module": "@jupyter-widgets/controls",
          "model_name": "DescriptionStyleModel",
          "model_module_version": "1.5.0",
          "state": {
            "_model_module": "@jupyter-widgets/controls",
            "_model_module_version": "1.5.0",
            "_model_name": "DescriptionStyleModel",
            "_view_count": null,
            "_view_module": "@jupyter-widgets/base",
            "_view_module_version": "1.2.0",
            "_view_name": "StyleView",
            "description_width": ""
          }
        },
        "aeb6aabff36e4a338a41247b2bf5174b": {
          "model_module": "@jupyter-widgets/base",
          "model_name": "LayoutModel",
          "model_module_version": "1.2.0",
          "state": {
            "_model_module": "@jupyter-widgets/base",
            "_model_module_version": "1.2.0",
            "_model_name": "LayoutModel",
            "_view_count": null,
            "_view_module": "@jupyter-widgets/base",
            "_view_module_version": "1.2.0",
            "_view_name": "LayoutView",
            "align_content": null,
            "align_items": null,
            "align_self": null,
            "border": null,
            "bottom": null,
            "display": null,
            "flex": "2",
            "flex_flow": null,
            "grid_area": null,
            "grid_auto_columns": null,
            "grid_auto_flow": null,
            "grid_auto_rows": null,
            "grid_column": null,
            "grid_gap": null,
            "grid_row": null,
            "grid_template_areas": null,
            "grid_template_columns": null,
            "grid_template_rows": null,
            "height": null,
            "justify_content": null,
            "justify_items": null,
            "left": null,
            "margin": null,
            "max_height": null,
            "max_width": null,
            "min_height": null,
            "min_width": null,
            "object_fit": null,
            "object_position": null,
            "order": null,
            "overflow": null,
            "overflow_x": null,
            "overflow_y": null,
            "padding": null,
            "right": null,
            "top": null,
            "visibility": null,
            "width": null
          }
        },
        "23f68616479a4efc99c88be7acec51e8": {
          "model_module": "@jupyter-widgets/controls",
          "model_name": "ProgressStyleModel",
          "model_module_version": "1.5.0",
          "state": {
            "_model_module": "@jupyter-widgets/controls",
            "_model_module_version": "1.5.0",
            "_model_name": "ProgressStyleModel",
            "_view_count": null,
            "_view_module": "@jupyter-widgets/base",
            "_view_module_version": "1.2.0",
            "_view_name": "StyleView",
            "bar_color": null,
            "description_width": ""
          }
        },
        "405e967c940d4833a2236192f3fd4b9f": {
          "model_module": "@jupyter-widgets/base",
          "model_name": "LayoutModel",
          "model_module_version": "1.2.0",
          "state": {
            "_model_module": "@jupyter-widgets/base",
            "_model_module_version": "1.2.0",
            "_model_name": "LayoutModel",
            "_view_count": null,
            "_view_module": "@jupyter-widgets/base",
            "_view_module_version": "1.2.0",
            "_view_name": "LayoutView",
            "align_content": null,
            "align_items": null,
            "align_self": null,
            "border": null,
            "bottom": null,
            "display": null,
            "flex": null,
            "flex_flow": null,
            "grid_area": null,
            "grid_auto_columns": null,
            "grid_auto_flow": null,
            "grid_auto_rows": null,
            "grid_column": null,
            "grid_gap": null,
            "grid_row": null,
            "grid_template_areas": null,
            "grid_template_columns": null,
            "grid_template_rows": null,
            "height": null,
            "justify_content": null,
            "justify_items": null,
            "left": null,
            "margin": null,
            "max_height": null,
            "max_width": null,
            "min_height": null,
            "min_width": null,
            "object_fit": null,
            "object_position": null,
            "order": null,
            "overflow": null,
            "overflow_x": null,
            "overflow_y": null,
            "padding": null,
            "right": null,
            "top": null,
            "visibility": null,
            "width": null
          }
        },
        "d86dc75ac3114e329c9432bd7649ef3c": {
          "model_module": "@jupyter-widgets/controls",
          "model_name": "DescriptionStyleModel",
          "model_module_version": "1.5.0",
          "state": {
            "_model_module": "@jupyter-widgets/controls",
            "_model_module_version": "1.5.0",
            "_model_name": "DescriptionStyleModel",
            "_view_count": null,
            "_view_module": "@jupyter-widgets/base",
            "_view_module_version": "1.2.0",
            "_view_name": "StyleView",
            "description_width": ""
          }
        }
      }
    }
  },
  "nbformat": 4,
  "nbformat_minor": 0
}